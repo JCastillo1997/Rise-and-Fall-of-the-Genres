{
 "cells": [
  {
   "cell_type": "code",
   "execution_count": 2,
   "id": "3942717f-d09e-4a36-a392-b75aaabfb5a8",
   "metadata": {
    "tags": []
   },
   "outputs": [],
   "source": [
    "import pandas as pd\n",
    "import matplotlib.pyplot as plt\n",
    "import numpy as np"
   ]
  },
  {
   "cell_type": "code",
   "execution_count": 3,
   "id": "513c455d-060f-469c-9bff-fa4a5c4ace92",
   "metadata": {
    "tags": []
   },
   "outputs": [],
   "source": [
    "import Master"
   ]
  },
  {
   "cell_type": "code",
   "execution_count": 4,
   "id": "58ffd27c-885d-4747-8484-01a9cadfe118",
   "metadata": {
    "tags": []
   },
   "outputs": [
    {
     "data": {
      "text/plain": [
       "<function Master.create_playlist_dataframe(playlist_id)>"
      ]
     },
     "execution_count": 4,
     "metadata": {},
     "output_type": "execute_result"
    }
   ],
   "source": [
    "Master.create_playlist_dataframe"
   ]
  },
  {
   "cell_type": "code",
   "execution_count": 5,
   "id": "aef6bc6f-a778-42ba-8cbb-3bd58e783a6a",
   "metadata": {
    "tags": []
   },
   "outputs": [
    {
     "name": "stdout",
     "output_type": "stream",
     "text": [
      "Requirement already satisfied: spotipy in c:\\users\\casti\\anaconda3\\lib\\site-packages (2.23.0)\n",
      "Requirement already satisfied: redis>=3.5.3 in c:\\users\\casti\\anaconda3\\lib\\site-packages (from spotipy) (5.0.1)\n",
      "Requirement already satisfied: requests>=2.25.0 in c:\\users\\casti\\anaconda3\\lib\\site-packages (from spotipy) (2.31.0)\n",
      "Requirement already satisfied: six>=1.15.0 in c:\\users\\casti\\anaconda3\\lib\\site-packages (from spotipy) (1.16.0)\n",
      "Requirement already satisfied: urllib3>=1.26.0 in c:\\users\\casti\\anaconda3\\lib\\site-packages (from spotipy) (1.26.18)\n",
      "Requirement already satisfied: charset-normalizer<4,>=2 in c:\\users\\casti\\anaconda3\\lib\\site-packages (from requests>=2.25.0->spotipy) (3.1.0)\n",
      "Requirement already satisfied: idna<4,>=2.5 in c:\\users\\casti\\anaconda3\\lib\\site-packages (from requests>=2.25.0->spotipy) (3.4)\n",
      "Requirement already satisfied: certifi>=2017.4.17 in c:\\users\\casti\\anaconda3\\lib\\site-packages (from requests>=2.25.0->spotipy) (2023.5.7)\n"
     ]
    }
   ],
   "source": [
    "!pip install spotipy"
   ]
  },
  {
   "cell_type": "code",
   "execution_count": 6,
   "id": "50df79d6-6e0f-4676-91e2-c2274f1e3b5d",
   "metadata": {},
   "outputs": [],
   "source": [
    "import spotipy\n",
    "from spotipy.oauth2 import SpotifyClientCredentials\n",
    "\n",
    "\n",
    "sp = spotipy.Spotify(auth_manager=SpotifyClientCredentials(client_id=\"8aaea3fe61404b23aa07c9f760df3985\",\n",
    "                                                           client_secret=\"e6670aad9bc94f1ba66f382abe39394c\"))"
   ]
  },
  {
   "cell_type": "code",
   "execution_count": 7,
   "id": "99765c18-9515-4da2-8349-18e25a143c55",
   "metadata": {},
   "outputs": [],
   "source": [
    "pd.set_option('display.max_rows', None)"
   ]
  },
  {
   "cell_type": "code",
   "execution_count": 8,
   "id": "284c0a13-b5d9-46f2-b2f6-6ec73a404e92",
   "metadata": {},
   "outputs": [],
   "source": [
    "df_1960=Master.create_playlist_dataframe('4ZuX2YvKAlym0a8VozqV1U')"
   ]
  },
  {
   "cell_type": "code",
   "execution_count": 9,
   "id": "04d963ea-0e1e-4e5d-bbbf-3092e217530f",
   "metadata": {},
   "outputs": [
    {
     "data": {
      "text/html": [
       "<div>\n",
       "<style scoped>\n",
       "    .dataframe tbody tr th:only-of-type {\n",
       "        vertical-align: middle;\n",
       "    }\n",
       "\n",
       "    .dataframe tbody tr th {\n",
       "        vertical-align: top;\n",
       "    }\n",
       "\n",
       "    .dataframe thead th {\n",
       "        text-align: right;\n",
       "    }\n",
       "</style>\n",
       "<table border=\"1\" class=\"dataframe\">\n",
       "  <thead>\n",
       "    <tr style=\"text-align: right;\">\n",
       "      <th></th>\n",
       "      <th>cancion</th>\n",
       "      <th>cantante</th>\n",
       "      <th>año</th>\n",
       "      <th>duracion_minutos</th>\n",
       "      <th>album</th>\n",
       "      <th>explicito</th>\n",
       "    </tr>\n",
       "  </thead>\n",
       "  <tbody>\n",
       "    <tr>\n",
       "      <th>0</th>\n",
       "      <td>Oh, Pretty Woman</td>\n",
       "      <td>Roy Orbison</td>\n",
       "      <td>1962</td>\n",
       "      <td>2.982217</td>\n",
       "      <td>Oh, Pretty Woman</td>\n",
       "      <td>False</td>\n",
       "    </tr>\n",
       "    <tr>\n",
       "      <th>1</th>\n",
       "      <td>Can't Help Falling in Love</td>\n",
       "      <td>Elvis Presley</td>\n",
       "      <td>1961</td>\n",
       "      <td>3.039333</td>\n",
       "      <td>Blue Hawaii</td>\n",
       "      <td>False</td>\n",
       "    </tr>\n",
       "    <tr>\n",
       "      <th>2</th>\n",
       "      <td>Brown Eyed Girl</td>\n",
       "      <td>Van Morrison</td>\n",
       "      <td>1967</td>\n",
       "      <td>3.055100</td>\n",
       "      <td>Blowin' Your Mind!</td>\n",
       "      <td>False</td>\n",
       "    </tr>\n",
       "    <tr>\n",
       "      <th>3</th>\n",
       "      <td>Mr. Tambourine Man</td>\n",
       "      <td>Bob Dylan</td>\n",
       "      <td>1965</td>\n",
       "      <td>5.508883</td>\n",
       "      <td>Bringing It All Back Home</td>\n",
       "      <td>False</td>\n",
       "    </tr>\n",
       "    <tr>\n",
       "      <th>4</th>\n",
       "      <td>Ain't No Mountain High Enough</td>\n",
       "      <td>Marvin Gaye</td>\n",
       "      <td>1967</td>\n",
       "      <td>2.527767</td>\n",
       "      <td>United</td>\n",
       "      <td>False</td>\n",
       "    </tr>\n",
       "  </tbody>\n",
       "</table>\n",
       "</div>"
      ],
      "text/plain": [
       "                         cancion       cantante   año  duracion_minutos  \\\n",
       "0               Oh, Pretty Woman    Roy Orbison  1962          2.982217   \n",
       "1     Can't Help Falling in Love  Elvis Presley  1961          3.039333   \n",
       "2                Brown Eyed Girl   Van Morrison  1967          3.055100   \n",
       "3             Mr. Tambourine Man      Bob Dylan  1965          5.508883   \n",
       "4  Ain't No Mountain High Enough    Marvin Gaye  1967          2.527767   \n",
       "\n",
       "                       album  explicito  \n",
       "0           Oh, Pretty Woman      False  \n",
       "1                Blue Hawaii      False  \n",
       "2         Blowin' Your Mind!      False  \n",
       "3  Bringing It All Back Home      False  \n",
       "4                     United      False  "
      ]
     },
     "execution_count": 9,
     "metadata": {},
     "output_type": "execute_result"
    }
   ],
   "source": [
    "df_1960.head()"
   ]
  },
  {
   "cell_type": "code",
   "execution_count": 10,
   "id": "a4c3f565-e47b-4974-9007-6989797deee8",
   "metadata": {
    "tags": []
   },
   "outputs": [
    {
     "data": {
      "text/plain": [
       "explicito\n",
       "False    100\n",
       "Name: count, dtype: int64"
      ]
     },
     "execution_count": 10,
     "metadata": {},
     "output_type": "execute_result"
    }
   ],
   "source": [
    "df_1960.explicito.value_counts() # encontramos los explicitos"
   ]
  },
  {
   "cell_type": "code",
   "execution_count": 11,
   "id": "a7b55786-7ee8-493b-88a3-84a508ce0c90",
   "metadata": {
    "tags": []
   },
   "outputs": [
    {
     "data": {
      "text/plain": [
       "count       100\n",
       "unique        1\n",
       "top       False\n",
       "freq        100\n",
       "Name: explicito, dtype: object"
      ]
     },
     "execution_count": 11,
     "metadata": {},
     "output_type": "execute_result"
    }
   ],
   "source": [
    "df_1960.explicito.describe()"
   ]
  },
  {
   "cell_type": "code",
   "execution_count": 18,
   "id": "519eb697-24b3-4842-b871-9d646af2663e",
   "metadata": {
    "tags": []
   },
   "outputs": [
    {
     "data": {
      "text/plain": [
       "100"
      ]
     },
     "execution_count": 18,
     "metadata": {},
     "output_type": "execute_result"
    }
   ],
   "source": [
    "df_1960.cantante.value_counts().sum() #Contamos las mujeres por los hombres"
   ]
  },
  {
   "cell_type": "code",
   "execution_count": 13,
   "id": "73c202da-7f8c-4933-a1c4-002b54f4a08c",
   "metadata": {},
   "outputs": [
    {
     "data": {
      "text/plain": [
       "cantante\n",
       "Bob Dylan                            6\n",
       "Simon & Garfunkel                    6\n",
       "Jimi Hendrix                         4\n",
       "Sam Cooke                            4\n",
       "The Rolling Stones                   3\n",
       "The Beatles                          3\n",
       "Elvis Presley                        3\n",
       "Roy Orbison                          2\n",
       "Nancy Sinatra                        2\n",
       "Janis Joplin                         2\n",
       "Los Bravos                           2\n",
       "The Byrds                            2\n",
       "The Isley Brothers                   2\n",
       "Sly & The Family Stone               2\n",
       "The Beach Boys                       2\n",
       "The Lovin' Spoonful                  2\n",
       "The Kinks                            2\n",
       "The Crystals                         2\n",
       "Jefferson Airplane                   2\n",
       "The Ronettes                         2\n",
       "Aretha Franklin                      2\n",
       "Johnny Cash                          2\n",
       "Creedence Clearwater Revival         2\n",
       "Led Zeppelin                         1\n",
       "The Supremes                         1\n",
       "Harry Nilsson                        1\n",
       "The Monkees                          1\n",
       "The Kingsmen                         1\n",
       "Jackie Wilson                        1\n",
       "Love Affair                          1\n",
       "Nina Simone                          1\n",
       "The McCoys                           1\n",
       "The Guess Who                        1\n",
       "Del Shannon                          1\n",
       "James Brown                          1\n",
       "Etta James                           1\n",
       "The Yardbirds                        1\n",
       "The Box Tops                         1\n",
       "Andy Williams                        1\n",
       "Paul Anka                            1\n",
       "Henry Mancini                        1\n",
       "Neil Diamond                         1\n",
       "Steppenwolf                          1\n",
       "Dusty Springfield                    1\n",
       "Van Morrison                         1\n",
       "Marvin Gaye                          1\n",
       "The Archies                          1\n",
       "The Turtles                          1\n",
       "The Animals                          1\n",
       "Ben E. King                          1\n",
       "The Tokens                           1\n",
       "The Temptations                      1\n",
       "Santana                              1\n",
       "Otis Redding                         1\n",
       "Big Brother & The Holding Company    1\n",
       "The Mamas & The Papas                1\n",
       "Scott McKenzie                       1\n",
       "Don McLean                           1\n",
       "Four Tops                            1\n",
       "Harry Belafonte                      1\n",
       "Leonard Cohen                        1\n",
       "The Delfonics                        1\n",
       "Name: count, dtype: int64"
      ]
     },
     "execution_count": 13,
     "metadata": {},
     "output_type": "execute_result"
    }
   ],
   "source": [
    "df_1960.cantante.value_counts()"
   ]
  },
  {
   "cell_type": "code",
   "execution_count": 20,
   "id": "c5b9de52-37cd-4f38-a567-8e408b155cb3",
   "metadata": {
    "tags": []
   },
   "outputs": [
    {
     "data": {
      "text/plain": [
       "66.66666666666666"
      ]
     },
     "execution_count": 20,
     "metadata": {},
     "output_type": "execute_result"
    }
   ],
   "source": [
    "(10/15)*100 #Calculamos el porcentaje de mujeres por el de los hombres e indagamos que de aqui el uno por ciento son mujeres"
   ]
  },
  {
   "cell_type": "code",
   "execution_count": 15,
   "id": "f82b50ea-5bc8-47ba-96dd-a0384c249f3f",
   "metadata": {
    "tags": []
   },
   "outputs": [
    {
     "data": {
      "text/html": [
       "<div>\n",
       "<style scoped>\n",
       "    .dataframe tbody tr th:only-of-type {\n",
       "        vertical-align: middle;\n",
       "    }\n",
       "\n",
       "    .dataframe tbody tr th {\n",
       "        vertical-align: top;\n",
       "    }\n",
       "\n",
       "    .dataframe thead th {\n",
       "        text-align: right;\n",
       "    }\n",
       "</style>\n",
       "<table border=\"1\" class=\"dataframe\">\n",
       "  <thead>\n",
       "    <tr style=\"text-align: right;\">\n",
       "      <th></th>\n",
       "      <th>duracion_minutos</th>\n",
       "    </tr>\n",
       "    <tr>\n",
       "      <th>cancion</th>\n",
       "      <th></th>\n",
       "    </tr>\n",
       "  </thead>\n",
       "  <tbody>\n",
       "    <tr>\n",
       "      <th>(I Can't Get No) Satisfaction - Mono Version</th>\n",
       "      <td>3.713550</td>\n",
       "    </tr>\n",
       "    <tr>\n",
       "      <th>(Sittin' On) the Dock of the Bay</th>\n",
       "      <td>2.729250</td>\n",
       "    </tr>\n",
       "    <tr>\n",
       "      <th>(What A) Wonderful World</th>\n",
       "      <td>2.090667</td>\n",
       "    </tr>\n",
       "    <tr>\n",
       "      <th>(Your Love Keeps Lifting Me) Higher &amp; Higher</th>\n",
       "      <td>2.985333</td>\n",
       "    </tr>\n",
       "    <tr>\n",
       "      <th>Ain't No Mountain High Enough</th>\n",
       "      <td>2.527767</td>\n",
       "    </tr>\n",
       "  </tbody>\n",
       "</table>\n",
       "</div>"
      ],
      "text/plain": [
       "                                              duracion_minutos\n",
       "cancion                                                       \n",
       "(I Can't Get No) Satisfaction - Mono Version          3.713550\n",
       "(Sittin' On) the Dock of the Bay                      2.729250\n",
       "(What A) Wonderful World                              2.090667\n",
       "(Your Love Keeps Lifting Me) Higher & Higher          2.985333\n",
       "Ain't No Mountain High Enough                         2.527767"
      ]
     },
     "execution_count": 15,
     "metadata": {},
     "output_type": "execute_result"
    }
   ],
   "source": [
    "df_1960_Duration= df_1960.groupby([\"cancion\"]).agg({\"duracion_minutos\":'sum'})\n",
    "df_1960_Duration.head()"
   ]
  },
  {
   "cell_type": "code",
   "execution_count": 16,
   "id": "d6d731b7-eabf-4dc6-aaca-cf89190117f4",
   "metadata": {
    "tags": []
   },
   "outputs": [
    {
     "data": {
      "image/png": "[encoded data removed]",
      "text/plain": [
       "<Figure size 640x480 with 1 Axes>"
      ]
     },
     "metadata": {},
     "output_type": "display_data"
    }
   ],
   "source": [
    "plt.plot(df_1960[\"duracion_minutos\"])\n",
    "plt.xticks(rotation=45,fontsize=8) \n",
    "plt.show()\n"
   ]
  },
  {
   "cell_type": "code",
   "execution_count": 22,
   "id": "a14000f3-3d14-4336-85d4-da0b53ed6a50",
   "metadata": {
    "tags": []
   },
   "outputs": [
    {
     "data": {
      "text/plain": [
       "count    100.000000\n",
       "mean       3.208766\n",
       "std        0.931476\n",
       "min        1.880000\n",
       "25%        2.645771\n",
       "50%        2.926108\n",
       "75%        3.622271\n",
       "max        7.094217\n",
       "Name: duracion_minutos, dtype: float64"
      ]
     },
     "execution_count": 22,
     "metadata": {},
     "output_type": "execute_result"
    }
   ],
   "source": [
    "df_1960.duracion_minutos.describe()"
   ]
  }
 ],
 "metadata": {
  "kernelspec": {
   "display_name": "Python 3 (ipykernel)",
   "language": "python",
   "name": "python3"
  },
  "language_info": {
   "codemirror_mode": {
    "name": "ipython",
    "version": 3
   },
   "file_extension": ".py",
   "mimetype": "text/x-python",
   "name": "python",
   "nbconvert_exporter": "python",
   "pygments_lexer": "ipython3",
   "version": "3.11.5"
  }
 },
 "nbformat": 4,
 "nbformat_minor": 5
}
