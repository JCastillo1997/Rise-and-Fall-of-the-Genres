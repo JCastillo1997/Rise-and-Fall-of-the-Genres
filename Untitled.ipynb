{
 "cells": [
  {
   "cell_type": "code",
   "execution_count": 2,
   "id": "96f65b86-632b-4224-9e85-5769dd603c25",
   "metadata": {
    "tags": []
   },
   "outputs": [],
   "source": [
    "import pandas as pd"
   ]
  },
  {
   "cell_type": "code",
   "execution_count": 9,
   "id": "3307c196-6a9f-4573-81e8-4b1b7dd0ee7d",
   "metadata": {
    "tags": []
   },
   "outputs": [
    {
     "name": "stdout",
     "output_type": "stream",
     "text": [
      "Requirement already satisfied: spotipy in c:\\users\\casti\\anaconda3\\lib\\site-packages (2.23.0)\n",
      "Requirement already satisfied: redis>=3.5.3 in c:\\users\\casti\\anaconda3\\lib\\site-packages (from spotipy) (5.0.1)\n",
      "Requirement already satisfied: requests>=2.25.0 in c:\\users\\casti\\anaconda3\\lib\\site-packages (from spotipy) (2.31.0)\n",
      "Requirement already satisfied: six>=1.15.0 in c:\\users\\casti\\anaconda3\\lib\\site-packages (from spotipy) (1.16.0)\n",
      "Requirement already satisfied: urllib3>=1.26.0 in c:\\users\\casti\\anaconda3\\lib\\site-packages (from spotipy) (1.26.18)\n",
      "Requirement already satisfied: charset-normalizer<4,>=2 in c:\\users\\casti\\anaconda3\\lib\\site-packages (from requests>=2.25.0->spotipy) (3.1.0)\n",
      "Requirement already satisfied: idna<4,>=2.5 in c:\\users\\casti\\anaconda3\\lib\\site-packages (from requests>=2.25.0->spotipy) (3.4)\n",
      "Requirement already satisfied: certifi>=2017.4.17 in c:\\users\\casti\\anaconda3\\lib\\site-packages (from requests>=2.25.0->spotipy) (2023.5.7)\n"
     ]
    }
   ],
   "source": [
    "!pip install spotipy"
   ]
  },
  {
   "cell_type": "code",
   "execution_count": 10,
   "id": "77861040-22e9-483d-94c6-d903cc27f436",
   "metadata": {
    "tags": []
   },
   "outputs": [],
   "source": [
    "import spotipy\n",
    "from spotipy.oauth2 import SpotifyClientCredentials\n",
    "\n",
    "\n",
    "sp = spotipy.Spotify(auth_manager=SpotifyClientCredentials(client_id=CLIENT_ID,\n",
    "                                                           client_secret=CLIENT_SECRET))"
   ]
  },
  {
   "cell_type": "code",
   "execution_count": 67,
   "id": "e9cea56c-8c6a-4a85-a880-710fe7e8760e",
   "metadata": {
    "tags": []
   },
   "outputs": [],
   "source": [
    "\n",
    "\n",
    "def create_playlist_dataframe(playlist_id):\n",
    "    # Configuración de la autenticación de la API de Spotify\n",
    "    client_credentials_manager = SpotifyClientCredentials(client_id=\"8aaea3fe61404b23aa07c9f760df3985\", client_secret=\"e6670aad9bc94f1ba66f382abe39394c\")\n",
    "    sp = spotipy.Spotify(client_credentials_manager=client_credentials_manager)\n",
    "\n",
    "    # Obtener la información de la playlist\n",
    "    playlist = sp.playlist(playlist_id)\n",
    "\n",
    "    # Procesar la información para crear el DataFrame\n",
    "    data = {\n",
    "        'cantante': [],\n",
    "        'año': [],\n",
    "        'duracion_minutos': [],\n",
    "        'album': [],\n",
    "        'explicito': []\n",
    "    }\n",
    "\n",
    "    for track in playlist['tracks']['items']:\n",
    "        data['cantante'].append(track['track']['artists'][0]['name'])\n",
    "        data['año'].append(track['track']['album']['release_date'][:4])\n",
    "        data['duracion_minutos'].append(track['track']['duration_ms'] / 60000)\n",
    "        data['album'].append(track['track']['album']['name'])\n",
    "        data['explicito'].append(track['track']['explicit'])\n",
    "\n",
    "    df = pd.DataFrame(data)\n",
    "    return df"
   ]
  },
  {
   "cell_type": "code",
   "execution_count": 69,
   "id": "910ce2cb-dfaf-4ba7-b673-a9c496a04fbf",
   "metadata": {
    "tags": []
   },
   "outputs": [
    {
     "data": {
      "text/html": [
       "<div>\n",
       "<style scoped>\n",
       "    .dataframe tbody tr th:only-of-type {\n",
       "        vertical-align: middle;\n",
       "    }\n",
       "\n",
       "    .dataframe tbody tr th {\n",
       "        vertical-align: top;\n",
       "    }\n",
       "\n",
       "    .dataframe thead th {\n",
       "        text-align: right;\n",
       "    }\n",
       "</style>\n",
       "<table border=\"1\" class=\"dataframe\">\n",
       "  <thead>\n",
       "    <tr style=\"text-align: right;\">\n",
       "      <th></th>\n",
       "      <th>cantante</th>\n",
       "      <th>año</th>\n",
       "      <th>duracion_minutos</th>\n",
       "      <th>album</th>\n",
       "      <th>explicito</th>\n",
       "    </tr>\n",
       "  </thead>\n",
       "  <tbody>\n",
       "    <tr>\n",
       "      <th>0</th>\n",
       "      <td>Tommy Dorsey</td>\n",
       "      <td>1990</td>\n",
       "      <td>3.157767</td>\n",
       "      <td>The Seventeen Number Ones</td>\n",
       "      <td>False</td>\n",
       "    </tr>\n",
       "    <tr>\n",
       "      <th>1</th>\n",
       "      <td>Bing Crosby</td>\n",
       "      <td>1993</td>\n",
       "      <td>3.200667</td>\n",
       "      <td>Bing-His Legendary Years 1931-1957</td>\n",
       "      <td>False</td>\n",
       "    </tr>\n",
       "    <tr>\n",
       "      <th>2</th>\n",
       "      <td>Artie Shaw</td>\n",
       "      <td>1938</td>\n",
       "      <td>3.040217</td>\n",
       "      <td>Ultimate Big Band Collection: Artie Shaw</td>\n",
       "      <td>False</td>\n",
       "    </tr>\n",
       "    <tr>\n",
       "      <th>3</th>\n",
       "      <td>Glenn Miller</td>\n",
       "      <td>2005</td>\n",
       "      <td>3.446217</td>\n",
       "      <td>Jazz Moods - Hot</td>\n",
       "      <td>False</td>\n",
       "    </tr>\n",
       "    <tr>\n",
       "      <th>4</th>\n",
       "      <td>Jimmy Dorsey</td>\n",
       "      <td>2010</td>\n",
       "      <td>3.441867</td>\n",
       "      <td>The Great Jimmy Dorsey</td>\n",
       "      <td>False</td>\n",
       "    </tr>\n",
       "    <tr>\n",
       "      <th>...</th>\n",
       "      <td>...</td>\n",
       "      <td>...</td>\n",
       "      <td>...</td>\n",
       "      <td>...</td>\n",
       "      <td>...</td>\n",
       "    </tr>\n",
       "    <tr>\n",
       "      <th>81</th>\n",
       "      <td>Vaughn Monroe</td>\n",
       "      <td>2010</td>\n",
       "      <td>2.945100</td>\n",
       "      <td>Best of Vaughn Monroe</td>\n",
       "      <td>False</td>\n",
       "    </tr>\n",
       "    <tr>\n",
       "      <th>82</th>\n",
       "      <td>Perry Como</td>\n",
       "      <td>1988</td>\n",
       "      <td>3.474433</td>\n",
       "      <td>All Time Greatest Hits</td>\n",
       "      <td>False</td>\n",
       "    </tr>\n",
       "    <tr>\n",
       "      <th>83</th>\n",
       "      <td>Vic Damone With Orchestra</td>\n",
       "      <td>2016</td>\n",
       "      <td>3.200000</td>\n",
       "      <td>Songs</td>\n",
       "      <td>False</td>\n",
       "    </tr>\n",
       "    <tr>\n",
       "      <th>84</th>\n",
       "      <td>Frankie Laine</td>\n",
       "      <td>1958</td>\n",
       "      <td>3.518433</td>\n",
       "      <td>Frankie Laine's Greatest Hits</td>\n",
       "      <td>False</td>\n",
       "    </tr>\n",
       "    <tr>\n",
       "      <th>85</th>\n",
       "      <td>Frankie Laine</td>\n",
       "      <td>2014</td>\n",
       "      <td>2.596883</td>\n",
       "      <td>The Essential Frankie Laine</td>\n",
       "      <td>False</td>\n",
       "    </tr>\n",
       "  </tbody>\n",
       "</table>\n",
       "<p>86 rows × 5 columns</p>\n",
       "</div>"
      ],
      "text/plain": [
       "                     cantante   año  duracion_minutos  \\\n",
       "0                Tommy Dorsey  1990          3.157767   \n",
       "1                 Bing Crosby  1993          3.200667   \n",
       "2                  Artie Shaw  1938          3.040217   \n",
       "3                Glenn Miller  2005          3.446217   \n",
       "4                Jimmy Dorsey  2010          3.441867   \n",
       "..                        ...   ...               ...   \n",
       "81              Vaughn Monroe  2010          2.945100   \n",
       "82                 Perry Como  1988          3.474433   \n",
       "83  Vic Damone With Orchestra  2016          3.200000   \n",
       "84              Frankie Laine  1958          3.518433   \n",
       "85              Frankie Laine  2014          2.596883   \n",
       "\n",
       "                                       album  explicito  \n",
       "0                  The Seventeen Number Ones      False  \n",
       "1         Bing-His Legendary Years 1931-1957      False  \n",
       "2   Ultimate Big Band Collection: Artie Shaw      False  \n",
       "3                           Jazz Moods - Hot      False  \n",
       "4                     The Great Jimmy Dorsey      False  \n",
       "..                                       ...        ...  \n",
       "81                     Best of Vaughn Monroe      False  \n",
       "82                    All Time Greatest Hits      False  \n",
       "83                                     Songs      False  \n",
       "84             Frankie Laine's Greatest Hits      False  \n",
       "85               The Essential Frankie Laine      False  \n",
       "\n",
       "[86 rows x 5 columns]"
      ]
     },
     "execution_count": 69,
     "metadata": {},
     "output_type": "execute_result"
    }
   ],
   "source": [
    "create_playlist_dataframe('245g9upOJ2BLTCcKeFyRDf')"
   ]
  }
 ],
 "metadata": {
  "kernelspec": {
   "display_name": "Python 3 (ipykernel)",
   "language": "python",
   "name": "python3"
  },
  "language_info": {
   "codemirror_mode": {
    "name": "ipython",
    "version": 3
   },
   "file_extension": ".py",
   "mimetype": "text/x-python",
   "name": "python",
   "nbconvert_exporter": "python",
   "pygments_lexer": "ipython3",
   "version": "3.11.5"
  }
 },
 "nbformat": 4,
 "nbformat_minor": 5
}
