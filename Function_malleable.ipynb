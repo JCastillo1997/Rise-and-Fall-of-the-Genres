{
 "cells": [
  {
   "cell_type": "code",
   "execution_count": 1,
   "id": "96f65b86-632b-4224-9e85-5769dd603c25",
   "metadata": {
    "tags": []
   },
   "outputs": [],
   "source": [
    "import pandas as pd"
   ]
  },
  {
   "cell_type": "code",
   "execution_count": 3,
   "id": "3307c196-6a9f-4573-81e8-4b1b7dd0ee7d",
   "metadata": {
    "tags": []
   },
   "outputs": [
    {
     "name": "stdout",
     "output_type": "stream",
     "text": [
      "Requirement already satisfied: spotipy in c:\\users\\casti\\anaconda3\\lib\\site-packages (2.23.0)\n",
      "Requirement already satisfied: redis>=3.5.3 in c:\\users\\casti\\anaconda3\\lib\\site-packages (from spotipy) (5.0.1)\n",
      "Requirement already satisfied: requests>=2.25.0 in c:\\users\\casti\\anaconda3\\lib\\site-packages (from spotipy) (2.31.0)\n",
      "Requirement already satisfied: six>=1.15.0 in c:\\users\\casti\\anaconda3\\lib\\site-packages (from spotipy) (1.16.0)\n",
      "Requirement already satisfied: urllib3>=1.26.0 in c:\\users\\casti\\anaconda3\\lib\\site-packages (from spotipy) (1.26.18)\n",
      "Requirement already satisfied: charset-normalizer<4,>=2 in c:\\users\\casti\\anaconda3\\lib\\site-packages (from requests>=2.25.0->spotipy) (3.1.0)\n",
      "Requirement already satisfied: idna<4,>=2.5 in c:\\users\\casti\\anaconda3\\lib\\site-packages (from requests>=2.25.0->spotipy) (3.4)\n",
      "Requirement already satisfied: certifi>=2017.4.17 in c:\\users\\casti\\anaconda3\\lib\\site-packages (from requests>=2.25.0->spotipy) (2023.5.7)\n"
     ]
    }
   ],
   "source": [
    "!pip install spotipy"
   ]
  },
  {
   "cell_type": "code",
   "execution_count": 5,
   "id": "77861040-22e9-483d-94c6-d903cc27f436",
   "metadata": {
    "tags": []
   },
   "outputs": [],
   "source": [
    "import spotipy\n",
    "from spotipy.oauth2 import SpotifyClientCredentials\n",
    "\n",
    "\n",
    "sp = spotipy.Spotify(auth_manager=SpotifyClientCredentials(client_id=\"8aaea3fe61404b23aa07c9f760df3985\",\n",
    "                                                           client_secret=\"e6670aad9bc94f1ba66f382abe39394c\"))"
   ]
  },
  {
   "cell_type": "code",
   "execution_count": null,
   "id": "e9cea56c-8c6a-4a85-a880-710fe7e8760e",
   "metadata": {
    "tags": []
   },
   "outputs": [],
   "source": [
    "def create_playlist_dataframe(playlist_id):\n",
    "    \n",
    "    import spotipy\n",
    "    from spotipy.oauth2 import SpotifyClientCredentials\n",
    "\n",
    "\n",
    "    sp = spotipy.Spotify(auth_manager=SpotifyClientCredentials(client_id=\"8aaea3fe61404b23aa07c9f760df3985\",\n",
    "                                                           client_secret=\"e6670aad9bc94f1ba66f382abe39394c\"))\n",
    "\n",
    "    client_credentials_manager = SpotifyClientCredentials(client_id=\"8aaea3fe61404b23aa07c9f760df3985\", client_secret=\"e6670aad9bc94f1ba66f382abe39394c\")\n",
    "    sp = spotipy.Spotify(client_credentials_manager=client_credentials_manager)\n",
    "\n",
    "\n",
    "    playlist = sp.playlist(playlist_id)\n",
    "\n",
    "\n",
    "  \n",
    "    data = {\n",
    "        'cancion':[],\n",
    "        'cantante': [],\n",
    "        'año': [],\n",
    "        'duracion_minutos': [],\n",
    "        'album': [],\n",
    "        'explicito': [],\n",
    "    }\n",
    "\n",
    "    for track in playlist['tracks']['items']:\n",
    "        data['cancion'].append(track['track']['name'])\n",
    "        data['cantante'].append(track['track']['artists'][0]['name'])\n",
    "        data['año'].append(track['track']['album']['release_date'][:4])\n",
    "        data['duracion_minutos'].append(track['track']['duration_ms'] / 60000)\n",
    "        data['album'].append(track['track']['album']['name'])\n",
    "        data['explicito'].append(track['track']['explicit'])\n",
    "\n",
    "    df = pd.DataFrame(data)\n",
    "    return df"
   ]
  },
  {
   "cell_type": "code",
   "execution_count": null,
   "id": "910ce2cb-dfaf-4ba7-b673-a9c496a04fbf",
   "metadata": {
    "tags": []
   },
   "outputs": [],
   "source": [
    "create_playlist_dataframe('37i9dQZEVXbNFJfN1Vw8d9')"
   ]
  }
 ],
 "metadata": {
  "kernelspec": {
   "display_name": "Python 3 (ipykernel)",
   "language": "python",
   "name": "python3"
  },
  "language_info": {
   "codemirror_mode": {
    "name": "ipython",
    "version": 3
   },
   "file_extension": ".py",
   "mimetype": "text/x-python",
   "name": "python",
   "nbconvert_exporter": "python",
   "pygments_lexer": "ipython3",
   "version": "3.11.5"
  }
 },
 "nbformat": 4,
 "nbformat_minor": 5
}
