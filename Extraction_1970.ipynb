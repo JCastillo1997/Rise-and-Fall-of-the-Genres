{
 "cells": [
  {
   "cell_type": "code",
   "execution_count": 1,
   "id": "3942717f-d09e-4a36-a392-b75aaabfb5a8",
   "metadata": {
    "tags": []
   },
   "outputs": [],
   "source": [
    "import pandas as pd\n",
    "import matplotlib.pyplot as plt\n",
    "import numpy as np"
   ]
  },
  {
   "cell_type": "code",
   "execution_count": 2,
   "id": "513c455d-060f-469c-9bff-fa4a5c4ace92",
   "metadata": {
    "tags": []
   },
   "outputs": [],
   "source": [
    "import Master"
   ]
  },
  {
   "cell_type": "code",
   "execution_count": 3,
   "id": "58ffd27c-885d-4747-8484-01a9cadfe118",
   "metadata": {
    "tags": []
   },
   "outputs": [
    {
     "data": {
      "text/plain": [
       "<function Master.create_playlist_dataframe(playlist_id)>"
      ]
     },
     "execution_count": 3,
     "metadata": {},
     "output_type": "execute_result"
    }
   ],
   "source": [
    "Master.create_playlist_dataframe"
   ]
  },
  {
   "cell_type": "code",
   "execution_count": 4,
   "id": "aef6bc6f-a778-42ba-8cbb-3bd58e783a6a",
   "metadata": {
    "tags": []
   },
   "outputs": [
    {
     "name": "stdout",
     "output_type": "stream",
     "text": [
      "Requirement already satisfied: spotipy in c:\\users\\casti\\anaconda3\\lib\\site-packages (2.23.0)\n",
      "Requirement already satisfied: redis>=3.5.3 in c:\\users\\casti\\anaconda3\\lib\\site-packages (from spotipy) (5.0.1)\n",
      "Requirement already satisfied: requests>=2.25.0 in c:\\users\\casti\\anaconda3\\lib\\site-packages (from spotipy) (2.31.0)\n",
      "Requirement already satisfied: six>=1.15.0 in c:\\users\\casti\\anaconda3\\lib\\site-packages (from spotipy) (1.16.0)\n",
      "Requirement already satisfied: urllib3>=1.26.0 in c:\\users\\casti\\anaconda3\\lib\\site-packages (from spotipy) (1.26.18)\n",
      "Requirement already satisfied: charset-normalizer<4,>=2 in c:\\users\\casti\\anaconda3\\lib\\site-packages (from requests>=2.25.0->spotipy) (3.1.0)\n",
      "Requirement already satisfied: idna<4,>=2.5 in c:\\users\\casti\\anaconda3\\lib\\site-packages (from requests>=2.25.0->spotipy) (3.4)\n",
      "Requirement already satisfied: certifi>=2017.4.17 in c:\\users\\casti\\anaconda3\\lib\\site-packages (from requests>=2.25.0->spotipy) (2023.5.7)\n"
     ]
    }
   ],
   "source": [
    "!pip install spotipy"
   ]
  },
  {
   "cell_type": "code",
   "execution_count": 5,
   "id": "50df79d6-6e0f-4676-91e2-c2274f1e3b5d",
   "metadata": {},
   "outputs": [],
   "source": [
    "import spotipy\n",
    "from spotipy.oauth2 import SpotifyClientCredentials\n",
    "\n",
    "\n",
    "sp = spotipy.Spotify(auth_manager=SpotifyClientCredentials(client_id=\"8aaea3fe61404b23aa07c9f760df3985\",\n",
    "                                                           client_secret=\"e6670aad9bc94f1ba66f382abe39394c\"))"
   ]
  },
  {
   "cell_type": "code",
   "execution_count": 6,
   "id": "284c0a13-b5d9-46f2-b2f6-6ec73a404e92",
   "metadata": {},
   "outputs": [],
   "source": [
    "df_1970=Master.create_playlist_dataframe('37i9dQZF1DWXQyLTHGuTIz')"
   ]
  },
  {
   "cell_type": "code",
   "execution_count": 7,
   "id": "50f11bf3-75f9-4a33-bf6f-5ea9b4d7c5f5",
   "metadata": {},
   "outputs": [],
   "source": [
    "pd.set_option('display.max_rows', None)"
   ]
  },
  {
   "cell_type": "code",
   "execution_count": 29,
   "id": "04d963ea-0e1e-4e5d-bbbf-3092e217530f",
   "metadata": {},
   "outputs": [
    {
     "data": {
      "text/plain": [
       "0                           Let It Be - Remastered 2009\n",
       "1                                               Cecilia\n",
       "2                                 Son of a Preacher Man\n",
       "3                                  Who'll Stop The Rain\n",
       "4                                       Big Yellow Taxi\n",
       "5                                       I Want You Back\n",
       "6       Instant Karma! (We All Shine On) - Ultimate Mix\n",
       "7                        (They Long To Be) Close To You\n",
       "8                 Signed, Sealed, Delivered (I'm Yours)\n",
       "9                    Spirit In The Sky - Deluxe Edition\n",
       "10                      Into the Mystic - 2013 Remaster\n",
       "11                           Paranoid - 2012 - Remaster\n",
       "12                  Love Grows (Where My Rosemary Goes)\n",
       "13                        Fire and Rain - 2019 Remaster\n",
       "14                                      Roadhouse Blues\n",
       "15                                     Make It with You\n",
       "16                           Bridge Over Troubled Water\n",
       "17                                        All Right Now\n",
       "18                          Lola (2020 Stereo Remaster)\n",
       "19                                    Mississippi Queen\n",
       "20                                         It's A Shame\n",
       "21                                    In the Summertime\n",
       "22                   Black Magic Woman - Single Version\n",
       "23                                                  ABC\n",
       "24          The Long And Winding Road - Remastered 2009\n",
       "25                    Raindrops Keep Fallin' On My Head\n",
       "26                     Cracklin' Rosie - Single Version\n",
       "27                                   The Thrill Is Gone\n",
       "28                         25 or 6 to 4 - 2002 Remaster\n",
       "29                                        I'll Be There\n",
       "30                                   Up Around The Bend\n",
       "31                                       American Woman\n",
       "32                                            Evil Ways\n",
       "33                                                  War\n",
       "34                                    The Wonder of You\n",
       "35                        I'll Never Fall in Love Again\n",
       "36                                     Express Yourself\n",
       "37                                             Funk #49\n",
       "38                     No Matter What - Remastered 2010\n",
       "39                             Lookin' Out My Back Door\n",
       "40                                    Lady D'Arbanville\n",
       "41                        Ain't No Mountain High Enough\n",
       "42                                 The Tears Of A Clown\n",
       "43                                             Snowbird\n",
       "44                                           Amos Moses\n",
       "45                                We've Only Just Begun\n",
       "46                 No Sugar Tonight / New Mother Nature\n",
       "47                                              Vehicle\n",
       "48                                         Yellow River\n",
       "49                                Hey There Lonely Girl\n",
       "50                    Come And Get It - Remastered 2010\n",
       "51                            Band Of Gold (Single Mix)\n",
       "52                                    The Love You Save\n",
       "53                               Rainy Night in Georgia\n",
       "54                                    Ride Captain Ride\n",
       "55                                  Let's Work Together\n",
       "56                                              Candida\n",
       "57                                              No Time\n",
       "58                        Apeman (2020 Stereo Remaster)\n",
       "59    Ball Of Confusion (That's What The World Is To...\n",
       "60                                      Green-Eyed Lady\n",
       "61                                             Question\n",
       "62                                   Still Water (Love)\n",
       "63                    You Can Get It If You Really Want\n",
       "64                                              Call Me\n",
       "65                               It's Only Make Believe\n",
       "66                      Give Me Just A Little More Time\n",
       "67                                              Patches\n",
       "68                                         Ruby Tuesday\n",
       "69                                            Woodstock\n",
       "70                             Love on a Two Way Street\n",
       "71                            Love of the Common People\n",
       "72                          Turn Back The Hands Of Time\n",
       "73                                            Get Ready\n",
       "74                                 Daughter Of Darkness\n",
       "75                                          Black Night\n",
       "76    Thank You (Falettinme Be Mice Elf Agin) - Sing...\n",
       "77                               Reflections of My Life\n",
       "78                         To Be Young Gifted and Black\n",
       "79                        I Don't Believe In If Anymore\n",
       "80                                    Ride A White Swan\n",
       "81                               Abraham, Martin & John\n",
       "82                          The Letter - Single Version\n",
       "83                                          Montego Bay\n",
       "84    The Green Manalishi (With the Two Prong Crown)...\n",
       "85                            Something - 1994 Remaster\n",
       "86                                            The Bells\n",
       "87                         Stoned Love - Single Version\n",
       "88                                        Make Me Smile\n",
       "89                           Farewell Is A Lonely Sound\n",
       "90                                 My Baby Loves Lovin'\n",
       "91                           Mama Told Me (Not To Come)\n",
       "92                  Didn't I (Blow Your Mind This Time)\n",
       "93                                      Honey Come Back\n",
       "94                                 Julie, Do Ya Love Me\n",
       "95                Indiana Wants Me - Commercial Version\n",
       "96                            Up The Ladder To The Roof\n",
       "97                                    Down the Dustpipe\n",
       "98                                            Superstar\n",
       "99             (I Know) I'm Losing You - Single Version\n",
       "Name: cancion, dtype: object"
      ]
     },
     "execution_count": 29,
     "metadata": {},
     "output_type": "execute_result"
    }
   ],
   "source": [
    "df_1970.cancion"
   ]
  },
  {
   "cell_type": "code",
   "execution_count": 9,
   "id": "a4c3f565-e47b-4974-9007-6989797deee8",
   "metadata": {
    "tags": []
   },
   "outputs": [
    {
     "data": {
      "text/plain": [
       "explicito\n",
       "False    100\n",
       "Name: count, dtype: int64"
      ]
     },
     "execution_count": 9,
     "metadata": {},
     "output_type": "execute_result"
    }
   ],
   "source": [
    "df_1970.explicito.value_counts() # encontramos los explicitos"
   ]
  },
  {
   "cell_type": "code",
   "execution_count": 10,
   "id": "519eb697-24b3-4842-b871-9d646af2663e",
   "metadata": {
    "tags": []
   },
   "outputs": [
    {
     "data": {
      "text/plain": [
       "100"
      ]
     },
     "execution_count": 10,
     "metadata": {},
     "output_type": "execute_result"
    }
   ],
   "source": [
    "df_1970.cantante.value_counts().sum() #Contamos las mujeres por los hombres"
   ]
  },
  {
   "cell_type": "code",
   "execution_count": 11,
   "id": "73c202da-7f8c-4933-a1c4-002b54f4a08c",
   "metadata": {},
   "outputs": [
    {
     "data": {
      "text/plain": [
       "cantante\n",
       "The Jackson 5                                          4\n",
       "The Guess Who                                          3\n",
       "Creedence Clearwater Revival                           3\n",
       "Glen Campbell                                          2\n",
       "Chicago                                                2\n",
       "Rare Earth                                             2\n",
       "Santana                                                2\n",
       "Badfinger                                              2\n",
       "The Kinks                                              2\n",
       "The Beatles                                            2\n",
       "Simon & Garfunkel                                      2\n",
       "Carpenters                                             2\n",
       "Aretha Franklin                                        2\n",
       "The Supremes                                           2\n",
       "Melanie                                                1\n",
       "Matthews' Southern Comfort                             1\n",
       "The Moments                                            1\n",
       "Desmond Dekker                                         1\n",
       "Chairmen Of The Board                                  1\n",
       "Tyrone Davis                                           1\n",
       "Sly & The Family Stone                                 1\n",
       "Four Tops                                              1\n",
       "The Moody Blues                                        1\n",
       "Tom Jones                                              1\n",
       "Deep Purple                                            1\n",
       "Clarence Carter                                        1\n",
       "Nicky Thomas                                           1\n",
       "Roger Whittaker                                        1\n",
       "Marmalade                                              1\n",
       "Bob & Marcia                                           1\n",
       "Status Quo                                             1\n",
       "R. Dean Taylor                                         1\n",
       "Bobby Sherman                                          1\n",
       "The Delfonics                                          1\n",
       "Three Dog Night                                        1\n",
       "White Plains                                           1\n",
       "Jimmy Ruffin                                           1\n",
       "The Originals                                          1\n",
       "Shirley Bassey                                         1\n",
       "Fleetwood Mac                                          1\n",
       "Bobby Bloom                                            1\n",
       "Joe Cocker                                             1\n",
       "Marvin Gaye                                            1\n",
       "T. Rex                                                 1\n",
       "The Temptations                                        1\n",
       "Sugarloaf                                              1\n",
       "Freda Payne                                            1\n",
       "The Dawn                                               1\n",
       "James Taylor                                           1\n",
       "Mungo Jerry                                            1\n",
       "The Spinners                                           1\n",
       "Mountain                                               1\n",
       "Free                                                   1\n",
       "Bread                                                  1\n",
       "The Doors                                              1\n",
       "Edison Lighthouse                                      1\n",
       "Neil Diamond                                           1\n",
       "Black Sabbath                                          1\n",
       "Van Morrison                                           1\n",
       "Norman Greenbaum                                       1\n",
       "Stevie Wonder                                          1\n",
       "John Lennon                                            1\n",
       "Joni Mitchell                                          1\n",
       "B.J. Thomas                                            1\n",
       "B.B. King                                              1\n",
       "Canned Heat                                            1\n",
       "Anne Murray                                            1\n",
       "Blues Image                                            1\n",
       "Brook Benton                                           1\n",
       "Eddie Holman                                           1\n",
       "Christie                                               1\n",
       "The Ides Of March                                      1\n",
       "Jerry Reed                                             1\n",
       "Smokey Robinson & The Miracles                         1\n",
       "Edwin Starr                                            1\n",
       "Diana Ross                                             1\n",
       "Yusuf / Cat Stevens                                    1\n",
       "James Gang                                             1\n",
       "Charles Wright & The Watts 103rd Street Rhythm Band    1\n",
       "Dionne Warwick                                         1\n",
       "Elvis Presley                                          1\n",
       "Murray Head                                            1\n",
       "Name: count, dtype: int64"
      ]
     },
     "execution_count": 11,
     "metadata": {},
     "output_type": "execute_result"
    }
   ],
   "source": [
    "df_1970.cantante.value_counts()"
   ]
  },
  {
   "cell_type": "code",
   "execution_count": 12,
   "id": "c5b9de52-37cd-4f38-a567-8e408b155cb3",
   "metadata": {
    "tags": []
   },
   "outputs": [
    {
     "data": {
      "text/plain": [
       "18.0"
      ]
     },
     "execution_count": 12,
     "metadata": {},
     "output_type": "execute_result"
    }
   ],
   "source": [
    "(18/100)*100 #Calculamos el porcentaje de mujeres por el de los hombres e indagamos que de aqui el uno por ciento son mujeres"
   ]
  },
  {
   "cell_type": "code",
   "execution_count": 13,
   "id": "f82b50ea-5bc8-47ba-96dd-a0384c249f3f",
   "metadata": {
    "tags": []
   },
   "outputs": [
    {
     "data": {
      "text/html": [
       "<div>\n",
       "<style scoped>\n",
       "    .dataframe tbody tr th:only-of-type {\n",
       "        vertical-align: middle;\n",
       "    }\n",
       "\n",
       "    .dataframe tbody tr th {\n",
       "        vertical-align: top;\n",
       "    }\n",
       "\n",
       "    .dataframe thead th {\n",
       "        text-align: right;\n",
       "    }\n",
       "</style>\n",
       "<table border=\"1\" class=\"dataframe\">\n",
       "  <thead>\n",
       "    <tr style=\"text-align: right;\">\n",
       "      <th></th>\n",
       "      <th>duracion_minutos</th>\n",
       "    </tr>\n",
       "    <tr>\n",
       "      <th>cancion</th>\n",
       "      <th></th>\n",
       "    </tr>\n",
       "  </thead>\n",
       "  <tbody>\n",
       "    <tr>\n",
       "      <th>(I Know) I'm Losing You - Single Version</th>\n",
       "      <td>3.599767</td>\n",
       "    </tr>\n",
       "    <tr>\n",
       "      <th>(They Long To Be) Close To You</th>\n",
       "      <td>4.600000</td>\n",
       "    </tr>\n",
       "    <tr>\n",
       "      <th>25 or 6 to 4 - 2002 Remaster</th>\n",
       "      <td>4.830000</td>\n",
       "    </tr>\n",
       "    <tr>\n",
       "      <th>ABC</th>\n",
       "      <td>2.914433</td>\n",
       "    </tr>\n",
       "    <tr>\n",
       "      <th>Abraham, Martin &amp; John</th>\n",
       "      <td>4.253767</td>\n",
       "    </tr>\n",
       "  </tbody>\n",
       "</table>\n",
       "</div>"
      ],
      "text/plain": [
       "                                          duracion_minutos\n",
       "cancion                                                   \n",
       "(I Know) I'm Losing You - Single Version          3.599767\n",
       "(They Long To Be) Close To You                    4.600000\n",
       "25 or 6 to 4 - 2002 Remaster                      4.830000\n",
       "ABC                                               2.914433\n",
       "Abraham, Martin & John                            4.253767"
      ]
     },
     "execution_count": 13,
     "metadata": {},
     "output_type": "execute_result"
    }
   ],
   "source": [
    "df_1970_Duration= df_1970.groupby([\"cancion\"]).agg({\"duracion_minutos\":'sum'})\n",
    "df_1970_Duration.head()"
   ]
  },
  {
   "cell_type": "code",
   "execution_count": 14,
   "id": "d6d731b7-eabf-4dc6-aaca-cf89190117f4",
   "metadata": {
    "tags": []
   },
   "outputs": [
    {
     "data": {
      "image/png": "[encoded data removed]",
      "text/plain": [
       "<Figure size 640x480 with 1 Axes>"
      ]
     },
     "metadata": {},
     "output_type": "display_data"
    }
   ],
   "source": [
    "plt.plot(df_1970[\"duracion_minutos\"])\n",
    "plt.xticks(rotation=45,fontsize=8) \n",
    "plt.show()\n"
   ]
  },
  {
   "cell_type": "code",
   "execution_count": 15,
   "id": "a14000f3-3d14-4336-85d4-da0b53ed6a50",
   "metadata": {
    "tags": []
   },
   "outputs": [
    {
     "data": {
      "text/plain": [
       "count    100.000000\n",
       "mean       3.611348\n",
       "std        1.971489\n",
       "min        2.050433\n",
       "25%        2.914325\n",
       "50%        3.271325\n",
       "75%        3.953992\n",
       "max       21.538217\n",
       "Name: duracion_minutos, dtype: float64"
      ]
     },
     "execution_count": 15,
     "metadata": {},
     "output_type": "execute_result"
    }
   ],
   "source": [
    "df_1970.duracion_minutos.describe()"
   ]
  }
 ],
 "metadata": {
  "kernelspec": {
   "display_name": "Python 3 (ipykernel)",
   "language": "python",
   "name": "python3"
  },
  "language_info": {
   "codemirror_mode": {
    "name": "ipython",
    "version": 3
   },
   "file_extension": ".py",
   "mimetype": "text/x-python",
   "name": "python",
   "nbconvert_exporter": "python",
   "pygments_lexer": "ipython3",
   "version": "3.11.5"
  }
 },
 "nbformat": 4,
 "nbformat_minor": 5
}
