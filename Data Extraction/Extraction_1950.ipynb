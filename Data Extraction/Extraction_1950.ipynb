{
 "cells": [
  {
   "cell_type": "code",
   "execution_count": 1,
   "id": "3942717f-d09e-4a36-a392-b75aaabfb5a8",
   "metadata": {
    "tags": []
   },
   "outputs": [],
   "source": [
    "import pandas as pd\n",
    "import matplotlib.pyplot as plt\n",
    "import numpy as np"
   ]
  },
  {
   "cell_type": "code",
   "execution_count": 2,
   "id": "513c455d-060f-469c-9bff-fa4a5c4ace92",
   "metadata": {
    "tags": []
   },
   "outputs": [],
   "source": [
    "import Master"
   ]
  },
  {
   "cell_type": "code",
   "execution_count": 3,
   "id": "58ffd27c-885d-4747-8484-01a9cadfe118",
   "metadata": {
    "tags": []
   },
   "outputs": [
    {
     "data": {
      "text/plain": [
       "<function Master.create_playlist_dataframe(playlist_id)>"
      ]
     },
     "execution_count": 3,
     "metadata": {},
     "output_type": "execute_result"
    }
   ],
   "source": [
    "Master.create_playlist_dataframe"
   ]
  },
  {
   "cell_type": "code",
   "execution_count": 4,
   "id": "aef6bc6f-a778-42ba-8cbb-3bd58e783a6a",
   "metadata": {
    "tags": []
   },
   "outputs": [
    {
     "name": "stdout",
     "output_type": "stream",
     "text": [
      "Requirement already satisfied: spotipy in c:\\users\\casti\\anaconda3\\lib\\site-packages (2.23.0)\n",
      "Requirement already satisfied: redis>=3.5.3 in c:\\users\\casti\\anaconda3\\lib\\site-packages (from spotipy) (5.0.1)\n",
      "Requirement already satisfied: requests>=2.25.0 in c:\\users\\casti\\anaconda3\\lib\\site-packages (from spotipy) (2.31.0)\n",
      "Requirement already satisfied: six>=1.15.0 in c:\\users\\casti\\anaconda3\\lib\\site-packages (from spotipy) (1.16.0)\n",
      "Requirement already satisfied: urllib3>=1.26.0 in c:\\users\\casti\\anaconda3\\lib\\site-packages (from spotipy) (1.26.18)\n",
      "Requirement already satisfied: charset-normalizer<4,>=2 in c:\\users\\casti\\anaconda3\\lib\\site-packages (from requests>=2.25.0->spotipy) (3.1.0)\n",
      "Requirement already satisfied: idna<4,>=2.5 in c:\\users\\casti\\anaconda3\\lib\\site-packages (from requests>=2.25.0->spotipy) (3.4)\n",
      "Requirement already satisfied: certifi>=2017.4.17 in c:\\users\\casti\\anaconda3\\lib\\site-packages (from requests>=2.25.0->spotipy) (2023.5.7)\n"
     ]
    }
   ],
   "source": [
    "!pip install spotipy"
   ]
  },
  {
   "cell_type": "code",
   "execution_count": 5,
   "id": "50df79d6-6e0f-4676-91e2-c2274f1e3b5d",
   "metadata": {},
   "outputs": [],
   "source": [
    "import spotipy\n",
    "from spotipy.oauth2 import SpotifyClientCredentials\n",
    "\n",
    "\n",
    "sp = spotipy.Spotify(auth_manager=SpotifyClientCredentials(client_id=\"8aaea3fe61404b23aa07c9f760df3985\",\n",
    "                                                           client_secret=\"e6670aad9bc94f1ba66f382abe39394c\"))"
   ]
  },
  {
   "cell_type": "code",
   "execution_count": 6,
   "id": "284c0a13-b5d9-46f2-b2f6-6ec73a404e92",
   "metadata": {},
   "outputs": [],
   "source": [
    "df_1950=Master.create_playlist_dataframe('37i9dQZF1DWSV3Tk4GO2fq')"
   ]
  },
  {
   "cell_type": "code",
   "execution_count": 7,
   "id": "04d963ea-0e1e-4e5d-bbbf-3092e217530f",
   "metadata": {},
   "outputs": [
    {
     "data": {
      "text/html": [
       "<div>\n",
       "<style scoped>\n",
       "    .dataframe tbody tr th:only-of-type {\n",
       "        vertical-align: middle;\n",
       "    }\n",
       "\n",
       "    .dataframe tbody tr th {\n",
       "        vertical-align: top;\n",
       "    }\n",
       "\n",
       "    .dataframe thead th {\n",
       "        text-align: right;\n",
       "    }\n",
       "</style>\n",
       "<table border=\"1\" class=\"dataframe\">\n",
       "  <thead>\n",
       "    <tr style=\"text-align: right;\">\n",
       "      <th></th>\n",
       "      <th>cancion</th>\n",
       "      <th>cantante</th>\n",
       "      <th>año</th>\n",
       "      <th>duracion_minutos</th>\n",
       "      <th>album</th>\n",
       "      <th>explicito</th>\n",
       "    </tr>\n",
       "  </thead>\n",
       "  <tbody>\n",
       "    <tr>\n",
       "      <th>0</th>\n",
       "      <td>Johnny B. Goode</td>\n",
       "      <td>Chuck Berry</td>\n",
       "      <td>1959</td>\n",
       "      <td>2.692667</td>\n",
       "      <td>Berry Is On Top</td>\n",
       "      <td>False</td>\n",
       "    </tr>\n",
       "    <tr>\n",
       "      <th>1</th>\n",
       "      <td>We Belong Together</td>\n",
       "      <td>Ritchie Valens</td>\n",
       "      <td>1959</td>\n",
       "      <td>1.943767</td>\n",
       "      <td>Ritchie Valens</td>\n",
       "      <td>False</td>\n",
       "    </tr>\n",
       "    <tr>\n",
       "      <th>2</th>\n",
       "      <td>Beyond the Sea</td>\n",
       "      <td>Bobby Darin</td>\n",
       "      <td>1959</td>\n",
       "      <td>2.874667</td>\n",
       "      <td>That's All</td>\n",
       "      <td>False</td>\n",
       "    </tr>\n",
       "    <tr>\n",
       "      <th>3</th>\n",
       "      <td>I've Got a Woman</td>\n",
       "      <td>Ray Charles</td>\n",
       "      <td>1957</td>\n",
       "      <td>2.857767</td>\n",
       "      <td>Ray Charles (aka: Hallelujah, I Love Her So)</td>\n",
       "      <td>False</td>\n",
       "    </tr>\n",
       "    <tr>\n",
       "      <th>4</th>\n",
       "      <td>Unforgettable</td>\n",
       "      <td>Nat King Cole</td>\n",
       "      <td>1954</td>\n",
       "      <td>3.199550</td>\n",
       "      <td>Unforgettable</td>\n",
       "      <td>False</td>\n",
       "    </tr>\n",
       "    <tr>\n",
       "      <th>...</th>\n",
       "      <td>...</td>\n",
       "      <td>...</td>\n",
       "      <td>...</td>\n",
       "      <td>...</td>\n",
       "      <td>...</td>\n",
       "      <td>...</td>\n",
       "    </tr>\n",
       "    <tr>\n",
       "      <th>95</th>\n",
       "      <td>Crazy He Calls Me</td>\n",
       "      <td>Billie Holiday</td>\n",
       "      <td>1958</td>\n",
       "      <td>3.088000</td>\n",
       "      <td>Lover Man</td>\n",
       "      <td>False</td>\n",
       "    </tr>\n",
       "    <tr>\n",
       "      <th>96</th>\n",
       "      <td>Poor Little Fool - Remastered</td>\n",
       "      <td>Ricky Nelson</td>\n",
       "      <td>1958</td>\n",
       "      <td>2.565550</td>\n",
       "      <td>Ricky Nelson (Expanded Edition / Remastered)</td>\n",
       "      <td>False</td>\n",
       "    </tr>\n",
       "    <tr>\n",
       "      <th>97</th>\n",
       "      <td>Maybellene</td>\n",
       "      <td>Chuck Berry</td>\n",
       "      <td>1959</td>\n",
       "      <td>2.387333</td>\n",
       "      <td>Berry Is On Top</td>\n",
       "      <td>False</td>\n",
       "    </tr>\n",
       "    <tr>\n",
       "      <th>98</th>\n",
       "      <td>Why Do Fools Fall in Love</td>\n",
       "      <td>Frankie Lymon</td>\n",
       "      <td>1989</td>\n",
       "      <td>2.327767</td>\n",
       "      <td>The Best Of Frankie Lymon &amp; The Teenagers</td>\n",
       "      <td>False</td>\n",
       "    </tr>\n",
       "    <tr>\n",
       "      <th>99</th>\n",
       "      <td>It's Only Make Believe</td>\n",
       "      <td>Conway Twitty</td>\n",
       "      <td>1959</td>\n",
       "      <td>2.200433</td>\n",
       "      <td>Conway Twitty Sings</td>\n",
       "      <td>False</td>\n",
       "    </tr>\n",
       "  </tbody>\n",
       "</table>\n",
       "<p>100 rows × 6 columns</p>\n",
       "</div>"
      ],
      "text/plain": [
       "                          cancion        cantante   año  duracion_minutos  \\\n",
       "0                 Johnny B. Goode     Chuck Berry  1959          2.692667   \n",
       "1              We Belong Together  Ritchie Valens  1959          1.943767   \n",
       "2                  Beyond the Sea     Bobby Darin  1959          2.874667   \n",
       "3                I've Got a Woman     Ray Charles  1957          2.857767   \n",
       "4                   Unforgettable   Nat King Cole  1954          3.199550   \n",
       "..                            ...             ...   ...               ...   \n",
       "95              Crazy He Calls Me  Billie Holiday  1958          3.088000   \n",
       "96  Poor Little Fool - Remastered    Ricky Nelson  1958          2.565550   \n",
       "97                     Maybellene     Chuck Berry  1959          2.387333   \n",
       "98      Why Do Fools Fall in Love   Frankie Lymon  1989          2.327767   \n",
       "99         It's Only Make Believe   Conway Twitty  1959          2.200433   \n",
       "\n",
       "                                           album  explicito  \n",
       "0                                Berry Is On Top      False  \n",
       "1                                 Ritchie Valens      False  \n",
       "2                                     That's All      False  \n",
       "3   Ray Charles (aka: Hallelujah, I Love Her So)      False  \n",
       "4                                  Unforgettable      False  \n",
       "..                                           ...        ...  \n",
       "95                                     Lover Man      False  \n",
       "96  Ricky Nelson (Expanded Edition / Remastered)      False  \n",
       "97                               Berry Is On Top      False  \n",
       "98     The Best Of Frankie Lymon & The Teenagers      False  \n",
       "99                           Conway Twitty Sings      False  \n",
       "\n",
       "[100 rows x 6 columns]"
      ]
     },
     "execution_count": 7,
     "metadata": {},
     "output_type": "execute_result"
    }
   ],
   "source": [
    "df_1950"
   ]
  },
  {
   "cell_type": "code",
   "execution_count": 8,
   "id": "a4c3f565-e47b-4974-9007-6989797deee8",
   "metadata": {
    "tags": []
   },
   "outputs": [
    {
     "data": {
      "text/plain": [
       "explicito\n",
       "False    100\n",
       "Name: count, dtype: int64"
      ]
     },
     "execution_count": 8,
     "metadata": {},
     "output_type": "execute_result"
    }
   ],
   "source": [
    "df_1950.explicito.value_counts() # encontramos los explicitos"
   ]
  },
  {
   "cell_type": "code",
   "execution_count": 9,
   "id": "519eb697-24b3-4842-b871-9d646af2663e",
   "metadata": {
    "tags": []
   },
   "outputs": [
    {
     "data": {
      "text/plain": [
       "100"
      ]
     },
     "execution_count": 9,
     "metadata": {},
     "output_type": "execute_result"
    }
   ],
   "source": [
    "df_1950.cantante.value_counts().sum() #Contamos las mujeres por los hombres"
   ]
  },
  {
   "cell_type": "code",
   "execution_count": 10,
   "id": "73c202da-7f8c-4933-a1c4-002b54f4a08c",
   "metadata": {},
   "outputs": [
    {
     "data": {
      "text/plain": [
       "cantante\n",
       "Ray Charles                5\n",
       "The Platters               5\n",
       "Frank Sinatra              5\n",
       "Elvis Presley              5\n",
       "Buddy Holly                4\n",
       "Billie Holiday             4\n",
       "Bobby Darin                4\n",
       "Ritchie Valens             4\n",
       "Little Richard             4\n",
       "Chuck Berry                3\n",
       "Chet Baker                 3\n",
       "Dean Martin                2\n",
       "Eddie Cochran              2\n",
       "Dinah Washington           2\n",
       "Perry Como                 2\n",
       "Ella Fitzgerald            2\n",
       "Fats Domino                2\n",
       "Dion & The Belmonts        2\n",
       "Neil Sedaka                2\n",
       "Nat King Cole              2\n",
       "The Everly Brothers        2\n",
       "Jackie Wilson              1\n",
       "Danny & The Juniors        1\n",
       "Bobby Day                  1\n",
       "Connie Francis             1\n",
       "Bobby Vinton               1\n",
       "Bo Diddley                 1\n",
       "Tennessee Ernie Ford       1\n",
       "Carl Perkins               1\n",
       "The Five Satins            1\n",
       "Johnny Mathis              1\n",
       "The Isley Brothers         1\n",
       "The Big Bopper             1\n",
       "The Coasters               1\n",
       "Ricky Nelson               1\n",
       "Frankie Lymon              1\n",
       "Doris Day                  1\n",
       "Sam Cooke                  1\n",
       "The Chordettes             1\n",
       "Muddy Waters               1\n",
       "Louis Armstrong            1\n",
       "Jerry Lee Lewis            1\n",
       "The Flamingos              1\n",
       "Peggy Lee                  1\n",
       "Bill Haley & His Comets    1\n",
       "Harry Belafonte            1\n",
       "The Chords                 1\n",
       "Thurston Harris            1\n",
       "Louis Prima                1\n",
       "Brenda Lee                 1\n",
       "Johnny Cash                1\n",
       "Barrett Strong             1\n",
       "Paul Anka                  1\n",
       "The Penguins               1\n",
       "Conway Twitty              1\n",
       "Name: count, dtype: int64"
      ]
     },
     "execution_count": 10,
     "metadata": {},
     "output_type": "execute_result"
    }
   ],
   "source": [
    "df_1950.cantante.value_counts()"
   ]
  },
  {
   "cell_type": "code",
   "execution_count": 31,
   "id": "c5b9de52-37cd-4f38-a567-8e408b155cb3",
   "metadata": {
    "tags": []
   },
   "outputs": [
    {
     "data": {
      "text/plain": [
       "18.0"
      ]
     },
     "execution_count": 31,
     "metadata": {},
     "output_type": "execute_result"
    }
   ],
   "source": [
    "(18/100)*100 #Calculamos el porcentaje de mujeres por el de los hombres e indagamos que de aqui el uno por ciento son mujeres"
   ]
  },
  {
   "cell_type": "code",
   "execution_count": 12,
   "id": "f82b50ea-5bc8-47ba-96dd-a0384c249f3f",
   "metadata": {
    "tags": []
   },
   "outputs": [
    {
     "data": {
      "text/html": [
       "<div>\n",
       "<style scoped>\n",
       "    .dataframe tbody tr th:only-of-type {\n",
       "        vertical-align: middle;\n",
       "    }\n",
       "\n",
       "    .dataframe tbody tr th {\n",
       "        vertical-align: top;\n",
       "    }\n",
       "\n",
       "    .dataframe thead th {\n",
       "        text-align: right;\n",
       "    }\n",
       "</style>\n",
       "<table border=\"1\" class=\"dataframe\">\n",
       "  <thead>\n",
       "    <tr style=\"text-align: right;\">\n",
       "      <th></th>\n",
       "      <th>duracion_minutos</th>\n",
       "    </tr>\n",
       "    <tr>\n",
       "      <th>cancion</th>\n",
       "      <th></th>\n",
       "    </tr>\n",
       "  </thead>\n",
       "  <tbody>\n",
       "    <tr>\n",
       "      <th>(We're Gonna) Rock Around The Clock</th>\n",
       "      <td>2.164883</td>\n",
       "    </tr>\n",
       "    <tr>\n",
       "      <th>A Teenager In Love</th>\n",
       "      <td>2.637550</td>\n",
       "    </tr>\n",
       "    <tr>\n",
       "      <th>Ain't That A Shame</th>\n",
       "      <td>2.536667</td>\n",
       "    </tr>\n",
       "    <tr>\n",
       "      <th>All I Have To Do Is Dream</th>\n",
       "      <td>2.359333</td>\n",
       "    </tr>\n",
       "    <tr>\n",
       "      <th>All Shook Up</th>\n",
       "      <td>1.951333</td>\n",
       "    </tr>\n",
       "  </tbody>\n",
       "</table>\n",
       "</div>"
      ],
      "text/plain": [
       "                                     duracion_minutos\n",
       "cancion                                              \n",
       "(We're Gonna) Rock Around The Clock          2.164883\n",
       "A Teenager In Love                           2.637550\n",
       "Ain't That A Shame                           2.536667\n",
       "All I Have To Do Is Dream                    2.359333\n",
       "All Shook Up                                 1.951333"
      ]
     },
     "execution_count": 12,
     "metadata": {},
     "output_type": "execute_result"
    }
   ],
   "source": [
    "df_1950_Duration= df_1950.groupby([\"cancion\"]).agg({\"duracion_minutos\":'sum'})\n",
    "df_1950_Duration.head()"
   ]
  },
  {
   "cell_type": "code",
   "execution_count": 13,
   "id": "d6d731b7-eabf-4dc6-aaca-cf89190117f4",
   "metadata": {
    "tags": []
   },
   "outputs": [
    {
     "data": {
      "image/png": "[encoded data removed]",
      "text/plain": [
       "<Figure size 640x480 with 1 Axes>"
      ]
     },
     "metadata": {},
     "output_type": "display_data"
    }
   ],
   "source": [
    "plt.plot(df_1950[\"duracion_minutos\"])\n",
    "plt.xticks(rotation=45,fontsize=8) \n",
    "plt.show()\n"
   ]
  },
  {
   "cell_type": "code",
   "execution_count": 14,
   "id": "a14000f3-3d14-4336-85d4-da0b53ed6a50",
   "metadata": {
    "tags": []
   },
   "outputs": [
    {
     "data": {
      "text/plain": [
       "count    100.000000\n",
       "mean       2.767405\n",
       "std        0.715740\n",
       "min        1.858917\n",
       "25%        2.358608\n",
       "50%        2.639992\n",
       "75%        2.966000\n",
       "max        5.887767\n",
       "Name: duracion_minutos, dtype: float64"
      ]
     },
     "execution_count": 14,
     "metadata": {},
     "output_type": "execute_result"
    }
   ],
   "source": [
    "df_1950.duracion_minutos.describe()"
   ]
  }
 ],
 "metadata": {
  "kernelspec": {
   "display_name": "Python 3 (ipykernel)",
   "language": "python",
   "name": "python3"
  },
  "language_info": {
   "codemirror_mode": {
    "name": "ipython",
    "version": 3
   },
   "file_extension": ".py",
   "mimetype": "text/x-python",
   "name": "python",
   "nbconvert_exporter": "python",
   "pygments_lexer": "ipython3",
   "version": "3.11.5"
  }
 },
 "nbformat": 4,
 "nbformat_minor": 5
}
