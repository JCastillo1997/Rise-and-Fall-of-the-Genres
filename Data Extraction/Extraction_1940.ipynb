{
 "cells": [
  {
   "cell_type": "code",
   "execution_count": 1,
   "id": "3942717f-d09e-4a36-a392-b75aaabfb5a8",
   "metadata": {
    "tags": []
   },
   "outputs": [],
   "source": [
    "import pandas as pd\n",
    "import matplotlib.pyplot as plt\n",
    "import numpy as np"
   ]
  },
  {
   "cell_type": "code",
   "execution_count": 2,
   "id": "513c455d-060f-469c-9bff-fa4a5c4ace92",
   "metadata": {
    "tags": []
   },
   "outputs": [
    {
     "ename": "ModuleNotFoundError",
     "evalue": "No module named 'Master'",
     "output_type": "error",
     "traceback": [
      "\u001b[1;31m---------------------------------------------------------------------------\u001b[0m",
      "\u001b[1;31mModuleNotFoundError\u001b[0m                       Traceback (most recent call last)",
      "Cell \u001b[1;32mIn[2], line 1\u001b[0m\n\u001b[1;32m----> 1\u001b[0m \u001b[38;5;28;01mimport\u001b[39;00m \u001b[38;5;21;01mMaster\u001b[39;00m\n",
      "\u001b[1;31mModuleNotFoundError\u001b[0m: No module named 'Master'"
     ]
    }
   ],
   "source": [
    "import Master"
   ]
  },
  {
   "cell_type": "code",
   "execution_count": null,
   "id": "58ffd27c-885d-4747-8484-01a9cadfe118",
   "metadata": {
    "tags": []
   },
   "outputs": [],
   "source": [
    "Master.create_playlist_dataframe"
   ]
  },
  {
   "cell_type": "code",
   "execution_count": null,
   "id": "aef6bc6f-a778-42ba-8cbb-3bd58e783a6a",
   "metadata": {
    "tags": []
   },
   "outputs": [],
   "source": [
    "!pip install spotipy"
   ]
  },
  {
   "cell_type": "code",
   "execution_count": null,
   "id": "c67ece66-cae5-4b72-b1a1-c34b73cb658c",
   "metadata": {},
   "outputs": [],
   "source": [
    "import spotipy\n",
    "from spotipy.oauth2 import SpotifyClientCredentials\n",
    "\n",
    "\n",
    "sp = spotipy.Spotify(auth_manager=SpotifyClientCredentials(client_id=\"8aaea3fe61404b23aa07c9f760df3985\",\n",
    "                                                           client_secret=\"e6670aad9bc94f1ba66f382abe39394c\"))"
   ]
  },
  {
   "cell_type": "code",
   "execution_count": null,
   "id": "bc21fbd4-ae28-4698-9d3a-edcb692bd3b7",
   "metadata": {
    "tags": []
   },
   "outputs": [],
   "source": [
    "from spotipy.oauth2 import SpotifyClientCredentials\n",
    "\n",
    "\n",
    "sp = spotipy.Spotify(auth_manager=SpotifyClientCredentials(client_id=\"8aaea3fe61404b23aa07c9f760df3985\",\n",
    "                                                           client_secret=\"e6670aad9bc94f1ba66f382abe39394c\"))"
   ]
  },
  {
   "cell_type": "code",
   "execution_count": null,
   "id": "284c0a13-b5d9-46f2-b2f6-6ec73a404e92",
   "metadata": {},
   "outputs": [],
   "source": [
    "df_1940=Master.create_playlist_dataframe('245g9upOJ2BLTCcKeFyRDf')"
   ]
  },
  {
   "cell_type": "code",
   "execution_count": null,
   "id": "04d963ea-0e1e-4e5d-bbbf-3092e217530f",
   "metadata": {},
   "outputs": [],
   "source": [
    "df_1940"
   ]
  },
  {
   "cell_type": "code",
   "execution_count": null,
   "id": "a4c3f565-e47b-4974-9007-6989797deee8",
   "metadata": {
    "tags": []
   },
   "outputs": [],
   "source": [
    "df_1940.explicito.value_counts() # encontramos los explicitos"
   ]
  },
  {
   "cell_type": "code",
   "execution_count": null,
   "id": "519eb697-24b3-4842-b871-9d646af2663e",
   "metadata": {
    "tags": []
   },
   "outputs": [],
   "source": [
    "df_1940.cantante.value_counts().sum() #Contamos las mujeres por los hombres"
   ]
  },
  {
   "cell_type": "code",
   "execution_count": null,
   "id": "c5b9de52-37cd-4f38-a567-8e408b155cb3",
   "metadata": {
    "tags": []
   },
   "outputs": [],
   "source": [
    "(11/86)*100 #Calculamos el porcentaje de mujeres por el de los hombres e indagamos que de aqui el uno por ciento son mujeres"
   ]
  },
  {
   "cell_type": "code",
   "execution_count": null,
   "id": "f82b50ea-5bc8-47ba-96dd-a0384c249f3f",
   "metadata": {
    "tags": []
   },
   "outputs": [],
   "source": [
    "df_1940_Duration= df_1940.groupby([\"cancion\"]).agg({\"duracion_minutos\":'sum'})\n",
    "df_1940_Duration.head()"
   ]
  },
  {
   "cell_type": "code",
   "execution_count": null,
   "id": "58bb1da1-2e72-4e6a-91d2-1289019889a9",
   "metadata": {
    "tags": []
   },
   "outputs": [],
   "source": [
    "df_plot=df_1940_Duration.plot()"
   ]
  },
  {
   "cell_type": "code",
   "execution_count": null,
   "id": "d6d731b7-eabf-4dc6-aaca-cf89190117f4",
   "metadata": {
    "tags": []
   },
   "outputs": [],
   "source": [
    "plt.plot(df_1940[\"duracion_minutos\"].round())\n",
    "plt.xticks(rotation=45,fontsize=8) \n",
    "plt.show()\n"
   ]
  },
  {
   "cell_type": "code",
   "execution_count": null,
   "id": "a14000f3-3d14-4336-85d4-da0b53ed6a50",
   "metadata": {
    "tags": []
   },
   "outputs": [],
   "source": [
    "df_1940.duracion_minutos.describe()"
   ]
  },
  {
   "cell_type": "code",
   "execution_count": null,
   "id": "4045f65c-a7d6-4a1e-9ec1-3fef74a0a71e",
   "metadata": {
    "tags": []
   },
   "outputs": [],
   "source": [
    "plt.title('Woman to Men in 1960 top charts')\n",
    "sizes = [11, 86]  # Porcentajes de cada categoría\n",
    "labels = ['Woman', 'Men']\n",
    "colors=['lightcoral','lightskyblue']\n",
    "\n",
    "plt.pie(sizes,colors=colors, labels=labels, autopct='%1.1f%%')  # Crear el gráfico circular\n",
    "plt.show()"
   ]
  },
  {
   "cell_type": "code",
   "execution_count": null,
   "id": "50105ab0-930b-4ae6-ad02-0179d510e51f",
   "metadata": {
    "tags": []
   },
   "outputs": [],
   "source": [
    "plt.title('Black Woman to Woman in 1940 top charts')\n",
    "sizes = [1, 11]  # Porcentajes de cada categoría\n",
    "labels = ['Black Woman', 'Woman']  # Etiquetas de las categorías\n",
    "colors=['peru','olive']\n",
    "plt.pie(sizes, colors=colors, labels=labels, autopct='%1.1f%%')  # Crear el gráfico circular\n",
    "plt.show()"
   ]
  },
  {
   "cell_type": "code",
   "execution_count": null,
   "id": "16baf6ae-db5c-4eeb-9ad4-38c470734c93",
   "metadata": {
    "tags": []
   },
   "outputs": [],
   "source": [
    "df_1940.to_csv('data.csv_1940', index=False)"
   ]
  }
 ],
 "metadata": {
  "kernelspec": {
   "display_name": "Python 3 (ipykernel)",
   "language": "python",
   "name": "python3"
  },
  "language_info": {
   "codemirror_mode": {
    "name": "ipython",
    "version": 3
   },
   "file_extension": ".py",
   "mimetype": "text/x-python",
   "name": "python",
   "nbconvert_exporter": "python",
   "pygments_lexer": "ipython3",
   "version": "3.11.5"
  }
 },
 "nbformat": 4,
 "nbformat_minor": 5
}
