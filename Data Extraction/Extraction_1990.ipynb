{
 "cells": [
  {
   "cell_type": "code",
   "execution_count": 1,
   "id": "3942717f-d09e-4a36-a392-b75aaabfb5a8",
   "metadata": {
    "tags": []
   },
   "outputs": [],
   "source": [
    "import pandas as pd\n",
    "import matplotlib.pyplot as plt\n",
    "import numpy as np"
   ]
  },
  {
   "cell_type": "code",
   "execution_count": 2,
   "id": "513c455d-060f-469c-9bff-fa4a5c4ace92",
   "metadata": {
    "tags": []
   },
   "outputs": [],
   "source": [
    "import Master"
   ]
  },
  {
   "cell_type": "code",
   "execution_count": 3,
   "id": "58ffd27c-885d-4747-8484-01a9cadfe118",
   "metadata": {
    "tags": []
   },
   "outputs": [
    {
     "data": {
      "text/plain": [
       "<function Master.create_playlist_dataframe(playlist_id)>"
      ]
     },
     "execution_count": 3,
     "metadata": {},
     "output_type": "execute_result"
    }
   ],
   "source": [
    "Master.create_playlist_dataframe"
   ]
  },
  {
   "cell_type": "code",
   "execution_count": 4,
   "id": "aef6bc6f-a778-42ba-8cbb-3bd58e783a6a",
   "metadata": {
    "tags": []
   },
   "outputs": [
    {
     "name": "stdout",
     "output_type": "stream",
     "text": [
      "Requirement already satisfied: spotipy in c:\\users\\casti\\anaconda3\\lib\\site-packages (2.23.0)\n",
      "Requirement already satisfied: redis>=3.5.3 in c:\\users\\casti\\anaconda3\\lib\\site-packages (from spotipy) (5.0.1)\n",
      "Requirement already satisfied: requests>=2.25.0 in c:\\users\\casti\\anaconda3\\lib\\site-packages (from spotipy) (2.31.0)\n",
      "Requirement already satisfied: six>=1.15.0 in c:\\users\\casti\\anaconda3\\lib\\site-packages (from spotipy) (1.16.0)\n",
      "Requirement already satisfied: urllib3>=1.26.0 in c:\\users\\casti\\anaconda3\\lib\\site-packages (from spotipy) (1.26.18)\n",
      "Requirement already satisfied: charset-normalizer<4,>=2 in c:\\users\\casti\\anaconda3\\lib\\site-packages (from requests>=2.25.0->spotipy) (3.1.0)\n",
      "Requirement already satisfied: idna<4,>=2.5 in c:\\users\\casti\\anaconda3\\lib\\site-packages (from requests>=2.25.0->spotipy) (3.4)\n",
      "Requirement already satisfied: certifi>=2017.4.17 in c:\\users\\casti\\anaconda3\\lib\\site-packages (from requests>=2.25.0->spotipy) (2023.5.7)\n"
     ]
    }
   ],
   "source": [
    "!pip install spotipy"
   ]
  },
  {
   "cell_type": "code",
   "execution_count": 5,
   "id": "50df79d6-6e0f-4676-91e2-c2274f1e3b5d",
   "metadata": {},
   "outputs": [],
   "source": [
    "import spotipy\n",
    "from spotipy.oauth2 import SpotifyClientCredentials\n",
    "\n",
    "\n",
    "sp = spotipy.Spotify(auth_manager=SpotifyClientCredentials(client_id=\"8aaea3fe61404b23aa07c9f760df3985\",\n",
    "                                                           client_secret=\"e6670aad9bc94f1ba66f382abe39394c\"))"
   ]
  },
  {
   "cell_type": "code",
   "execution_count": 6,
   "id": "284c0a13-b5d9-46f2-b2f6-6ec73a404e92",
   "metadata": {},
   "outputs": [],
   "source": [
    "df_1990=Master.create_playlist_dataframe('37i9dQZF1DXbTxeAdrVG2l')"
   ]
  },
  {
   "cell_type": "code",
   "execution_count": 7,
   "id": "50f11bf3-75f9-4a33-bf6f-5ea9b4d7c5f5",
   "metadata": {},
   "outputs": [],
   "source": [
    "pd.set_option('display.max_rows', None)"
   ]
  },
  {
   "cell_type": "code",
   "execution_count": 8,
   "id": "04d963ea-0e1e-4e5d-bbbf-3092e217530f",
   "metadata": {},
   "outputs": [
    {
     "data": {
      "text/html": [
       "<div>\n",
       "<style scoped>\n",
       "    .dataframe tbody tr th:only-of-type {\n",
       "        vertical-align: middle;\n",
       "    }\n",
       "\n",
       "    .dataframe tbody tr th {\n",
       "        vertical-align: top;\n",
       "    }\n",
       "\n",
       "    .dataframe thead th {\n",
       "        text-align: right;\n",
       "    }\n",
       "</style>\n",
       "<table border=\"1\" class=\"dataframe\">\n",
       "  <thead>\n",
       "    <tr style=\"text-align: right;\">\n",
       "      <th></th>\n",
       "      <th>cancion</th>\n",
       "      <th>cantante</th>\n",
       "      <th>año</th>\n",
       "      <th>duracion_minutos</th>\n",
       "      <th>album</th>\n",
       "      <th>explicito</th>\n",
       "    </tr>\n",
       "  </thead>\n",
       "  <tbody>\n",
       "    <tr>\n",
       "      <th>0</th>\n",
       "      <td>All I Wanna Do</td>\n",
       "      <td>Sheryl Crow</td>\n",
       "      <td>1993</td>\n",
       "      <td>4.535100</td>\n",
       "      <td>Tuesday Night Music Club</td>\n",
       "      <td>False</td>\n",
       "    </tr>\n",
       "    <tr>\n",
       "      <th>1</th>\n",
       "      <td>Creep</td>\n",
       "      <td>Radiohead</td>\n",
       "      <td>1993</td>\n",
       "      <td>3.977333</td>\n",
       "      <td>Pablo Honey</td>\n",
       "      <td>True</td>\n",
       "    </tr>\n",
       "    <tr>\n",
       "      <th>2</th>\n",
       "      <td>Iris</td>\n",
       "      <td>The Goo Goo Dolls</td>\n",
       "      <td>1998</td>\n",
       "      <td>4.825550</td>\n",
       "      <td>Dizzy up the Girl</td>\n",
       "      <td>False</td>\n",
       "    </tr>\n",
       "    <tr>\n",
       "      <th>3</th>\n",
       "      <td>Barbie Girl</td>\n",
       "      <td>Aqua</td>\n",
       "      <td>1997</td>\n",
       "      <td>3.299333</td>\n",
       "      <td>Aquarium (Special Edition)</td>\n",
       "      <td>False</td>\n",
       "    </tr>\n",
       "    <tr>\n",
       "      <th>4</th>\n",
       "      <td>Gangsta's Paradise</td>\n",
       "      <td>Coolio</td>\n",
       "      <td>1995</td>\n",
       "      <td>4.011550</td>\n",
       "      <td>Gangsta's Paradise</td>\n",
       "      <td>False</td>\n",
       "    </tr>\n",
       "  </tbody>\n",
       "</table>\n",
       "</div>"
      ],
      "text/plain": [
       "              cancion           cantante   año  duracion_minutos  \\\n",
       "0      All I Wanna Do        Sheryl Crow  1993          4.535100   \n",
       "1               Creep          Radiohead  1993          3.977333   \n",
       "2                Iris  The Goo Goo Dolls  1998          4.825550   \n",
       "3         Barbie Girl               Aqua  1997          3.299333   \n",
       "4  Gangsta's Paradise             Coolio  1995          4.011550   \n",
       "\n",
       "                        album  explicito  \n",
       "0    Tuesday Night Music Club      False  \n",
       "1                 Pablo Honey       True  \n",
       "2           Dizzy up the Girl      False  \n",
       "3  Aquarium (Special Edition)      False  \n",
       "4          Gangsta's Paradise      False  "
      ]
     },
     "execution_count": 8,
     "metadata": {},
     "output_type": "execute_result"
    }
   ],
   "source": [
    "df_1990.head()"
   ]
  },
  {
   "cell_type": "code",
   "execution_count": 9,
   "id": "a4c3f565-e47b-4974-9007-6989797deee8",
   "metadata": {
    "tags": []
   },
   "outputs": [
    {
     "data": {
      "text/plain": [
       "explicito\n",
       "False    90\n",
       "True     10\n",
       "Name: count, dtype: int64"
      ]
     },
     "execution_count": 9,
     "metadata": {},
     "output_type": "execute_result"
    }
   ],
   "source": [
    "df_1990.explicito.value_counts() # encontramos los explicitos"
   ]
  },
  {
   "cell_type": "code",
   "execution_count": 10,
   "id": "79a7d633-0571-4a60-88d7-0676630d0540",
   "metadata": {
    "tags": []
   },
   "outputs": [
    {
     "data": {
      "text/html": [
       "<div>\n",
       "<style scoped>\n",
       "    .dataframe tbody tr th:only-of-type {\n",
       "        vertical-align: middle;\n",
       "    }\n",
       "\n",
       "    .dataframe tbody tr th {\n",
       "        vertical-align: top;\n",
       "    }\n",
       "\n",
       "    .dataframe thead th {\n",
       "        text-align: right;\n",
       "    }\n",
       "</style>\n",
       "<table border=\"1\" class=\"dataframe\">\n",
       "  <thead>\n",
       "    <tr style=\"text-align: right;\">\n",
       "      <th></th>\n",
       "      <th>cancion</th>\n",
       "      <th>cantante</th>\n",
       "      <th>año</th>\n",
       "      <th>duracion_minutos</th>\n",
       "      <th>album</th>\n",
       "      <th>explicito</th>\n",
       "    </tr>\n",
       "  </thead>\n",
       "  <tbody>\n",
       "    <tr>\n",
       "      <th>1</th>\n",
       "      <td>Creep</td>\n",
       "      <td>Radiohead</td>\n",
       "      <td>1993</td>\n",
       "      <td>3.977333</td>\n",
       "      <td>Pablo Honey</td>\n",
       "      <td>True</td>\n",
       "    </tr>\n",
       "    <tr>\n",
       "      <th>18</th>\n",
       "      <td>Still D.R.E.</td>\n",
       "      <td>Dr. Dre</td>\n",
       "      <td>1999</td>\n",
       "      <td>4.509767</td>\n",
       "      <td>2001</td>\n",
       "      <td>True</td>\n",
       "    </tr>\n",
       "    <tr>\n",
       "      <th>30</th>\n",
       "      <td>What's My Age Again?</td>\n",
       "      <td>blink-182</td>\n",
       "      <td>1999</td>\n",
       "      <td>2.472667</td>\n",
       "      <td>Enema Of The State</td>\n",
       "      <td>True</td>\n",
       "    </tr>\n",
       "    <tr>\n",
       "      <th>32</th>\n",
       "      <td>Good Riddance (Time of Your Life)</td>\n",
       "      <td>Green Day</td>\n",
       "      <td>1997</td>\n",
       "      <td>2.557767</td>\n",
       "      <td>Nimrod</td>\n",
       "      <td>True</td>\n",
       "    </tr>\n",
       "    <tr>\n",
       "      <th>46</th>\n",
       "      <td>Killing Me Softly With His Song</td>\n",
       "      <td>Fugees</td>\n",
       "      <td>1996</td>\n",
       "      <td>4.979550</td>\n",
       "      <td>The Score (Expanded Edition)</td>\n",
       "      <td>True</td>\n",
       "    </tr>\n",
       "    <tr>\n",
       "      <th>51</th>\n",
       "      <td>Even Flow</td>\n",
       "      <td>Pearl Jam</td>\n",
       "      <td>1991</td>\n",
       "      <td>4.876333</td>\n",
       "      <td>Ten</td>\n",
       "      <td>True</td>\n",
       "    </tr>\n",
       "    <tr>\n",
       "      <th>58</th>\n",
       "      <td>My Name Is</td>\n",
       "      <td>Eminem</td>\n",
       "      <td>1999</td>\n",
       "      <td>4.473333</td>\n",
       "      <td>The Slim Shady LP</td>\n",
       "      <td>True</td>\n",
       "    </tr>\n",
       "    <tr>\n",
       "      <th>61</th>\n",
       "      <td>Nuthin' But A \"G\" Thang</td>\n",
       "      <td>Dr. Dre</td>\n",
       "      <td>1992</td>\n",
       "      <td>3.959550</td>\n",
       "      <td>The Chronic</td>\n",
       "      <td>True</td>\n",
       "    </tr>\n",
       "    <tr>\n",
       "      <th>93</th>\n",
       "      <td>Changes</td>\n",
       "      <td>2Pac</td>\n",
       "      <td>1998</td>\n",
       "      <td>4.480433</td>\n",
       "      <td>Greatest Hits</td>\n",
       "      <td>True</td>\n",
       "    </tr>\n",
       "    <tr>\n",
       "      <th>99</th>\n",
       "      <td>Regulate</td>\n",
       "      <td>Warren G</td>\n",
       "      <td>1994</td>\n",
       "      <td>4.147767</td>\n",
       "      <td>Regulate… G Funk Era</td>\n",
       "      <td>True</td>\n",
       "    </tr>\n",
       "  </tbody>\n",
       "</table>\n",
       "</div>"
      ],
      "text/plain": [
       "                              cancion   cantante   año  duracion_minutos  \\\n",
       "1                               Creep  Radiohead  1993          3.977333   \n",
       "18                       Still D.R.E.    Dr. Dre  1999          4.509767   \n",
       "30               What's My Age Again?  blink-182  1999          2.472667   \n",
       "32  Good Riddance (Time of Your Life)  Green Day  1997          2.557767   \n",
       "46    Killing Me Softly With His Song     Fugees  1996          4.979550   \n",
       "51                          Even Flow  Pearl Jam  1991          4.876333   \n",
       "58                         My Name Is     Eminem  1999          4.473333   \n",
       "61            Nuthin' But A \"G\" Thang    Dr. Dre  1992          3.959550   \n",
       "93                            Changes       2Pac  1998          4.480433   \n",
       "99                           Regulate   Warren G  1994          4.147767   \n",
       "\n",
       "                           album  explicito  \n",
       "1                    Pablo Honey       True  \n",
       "18                          2001       True  \n",
       "30            Enema Of The State       True  \n",
       "32                        Nimrod       True  \n",
       "46  The Score (Expanded Edition)       True  \n",
       "51                           Ten       True  \n",
       "58             The Slim Shady LP       True  \n",
       "61                   The Chronic       True  \n",
       "93                 Greatest Hits       True  \n",
       "99          Regulate… G Funk Era       True  "
      ]
     },
     "execution_count": 10,
     "metadata": {},
     "output_type": "execute_result"
    }
   ],
   "source": [
    "df_1990_explicito=df_1990[df_1990['explicito']==True]\n",
    "df_1990_explicito"
   ]
  },
  {
   "cell_type": "code",
   "execution_count": 11,
   "id": "d8122698-5df3-44f8-94a0-84e6a813870d",
   "metadata": {
    "tags": []
   },
   "outputs": [
    {
     "data": {
      "text/plain": [
       "<bound method NDFrame.head of                                               cancion  \\\n",
       "29                                      November Rain   \n",
       "22            Bitter Sweet Symphony - Remastered 2016   \n",
       "77                                             Always   \n",
       "82                                              Alive   \n",
       "38                          Knockin' On Heaven's Door   \n",
       "76                         Enter Sandman (Remastered)   \n",
       "8                                     Californication   \n",
       "9                               If It Makes You Happy   \n",
       "83                                    Everybody Hurts   \n",
       "68                               Doo Wop (That Thing)   \n",
       "49                                     Black Hole Sun   \n",
       "94                                              Crazy   \n",
       "35                                     Wind Of Change   \n",
       "10                                             Zombie   \n",
       "44                                         No Diggity   \n",
       "39                            Smells Like Teen Spirit   \n",
       "66                              You Get What You Give   \n",
       "46                    Killing Me Softly With His Song   \n",
       "14                                      Fade Into You   \n",
       "20                                         What's Up?   \n",
       "7                                       Thunderstruck   \n",
       "51                                          Even Flow   \n",
       "2                                                Iris   \n",
       "25                                        Wicked Game   \n",
       "98                                   Kiss from a Rose   \n",
       "54                               Don't Cry (Original)   \n",
       "95                                       Give It Away   \n",
       "33                                   Heart-Shaped Box   \n",
       "79                               Nothing Compares 2 U   \n",
       "90    My Heart Will Go On - Love Theme from \"Titanic\"   \n",
       "96                                         Waterfalls   \n",
       "69                                                One   \n",
       "5                                              Linger   \n",
       "47                                          Mr. Jones   \n",
       "0                                      All I Wanna Do   \n",
       "53                             I Will Always Love You   \n",
       "18                                       Still D.R.E.   \n",
       "78                              What Is Love - 7\" Mix   \n",
       "93                                            Changes   \n",
       "6                                  Losing My Religion   \n",
       "58                                         My Name Is   \n",
       "87                                  Semi-Charmed Life   \n",
       "43                             1979 - Remastered 2012   \n",
       "72                                             Angels   \n",
       "16                                   Under the Bridge   \n",
       "31                                       Karma Police   \n",
       "42                                        Don't Speak   \n",
       "88                Maria Maria (feat. The Product G&B)   \n",
       "70                  The Man Who Sold The World - Live   \n",
       "71                                            My Hero   \n",
       "52  It Must Have Been Love - From the Film \"Pretty...   \n",
       "48                            Wonderwall - Remastered   \n",
       "60                                        Self Esteem   \n",
       "59                                       High and Dry   \n",
       "34                                          Otherside   \n",
       "91                                      I Got 5 On It   \n",
       "99                                           Regulate   \n",
       "50                                               Torn   \n",
       "57                                            Fantasy   \n",
       "81                                Livin' la Vida Loca   \n",
       "73                       It Ain't Over 'Til It's Over   \n",
       "4                                  Gangsta's Paradise   \n",
       "37                                            Believe   \n",
       "1                                               Creep   \n",
       "61                            Nuthin' But A \"G\" Thang   \n",
       "62                                       Learn to Fly   \n",
       "36                                       It Wasn't Me   \n",
       "92                                 Shiny Happy People   \n",
       "84                                           Fly Away   \n",
       "63                   Mambo No. 5 (a Little Bit of...)   \n",
       "55                                    Come As You Are   \n",
       "80                                          Thank You   \n",
       "85                                  Genie In a Bottle   \n",
       "89                                            No Rain   \n",
       "26                                        Scar Tissue   \n",
       "56                                   Better Off Alone   \n",
       "21                                          No Scrubs   \n",
       "41        Freed From Desire - prod. Molella, Phil Jay   \n",
       "15                                 I Want It That Way   \n",
       "65                                 Return of the Mack   \n",
       "67                                 All That She Wants   \n",
       "24                              ...Baby One More Time   \n",
       "17                                            Kiss Me   \n",
       "86                           Boom, Boom, Boom, Boom!!   \n",
       "28                                           All Star   \n",
       "3                                         Barbie Girl   \n",
       "27                                           Lovefool   \n",
       "74                                         Lemon Tree   \n",
       "75                       Pretty Fly (For A White Guy)   \n",
       "40                                           Santeria   \n",
       "12                                        Basket Case   \n",
       "97                                            Alright   \n",
       "13                            The Kids Aren't Alright   \n",
       "45                                 When I Come Around   \n",
       "19                                            Wannabe   \n",
       "11                               All The Small Things   \n",
       "64                                        Buddy Holly   \n",
       "32                  Good Riddance (Time of Your Life)   \n",
       "30                               What's My Age Again?   \n",
       "23                             Song 2 - 2012 Remaster   \n",
       "\n",
       "                    cantante   año  duracion_minutos  \\\n",
       "29             Guns N' Roses  1991          8.934433   \n",
       "22                 The Verve  1997          5.954433   \n",
       "77                  Bon Jovi  1994          5.883767   \n",
       "82                 Pearl Jam  1991          5.681783   \n",
       "38             Guns N' Roses  1991          5.600000   \n",
       "76                 Metallica  1991          5.526000   \n",
       "8      Red Hot Chili Peppers  1999          5.495550   \n",
       "9                Sheryl Crow  1996          5.390000   \n",
       "83                    R.E.M.  1992          5.337767   \n",
       "68           Ms. Lauryn Hill  1998          5.337767   \n",
       "49               Soundgarden  1994          5.309767   \n",
       "94                 Aerosmith  1993          5.280433   \n",
       "35                 Scorpions  1990          5.206000   \n",
       "10           The Cranberries  1994          5.107333   \n",
       "44               Blackstreet  1996          5.076667   \n",
       "39                   Nirvana  1991          5.032000   \n",
       "66              New Radicals  1998          5.012883   \n",
       "46                    Fugees  1996          4.979550   \n",
       "14                Mazzy Star  1993          4.926667   \n",
       "20             4 Non Blondes  1992          4.925550   \n",
       "7                      AC/DC  1990          4.881333   \n",
       "51                 Pearl Jam  1991          4.876333   \n",
       "2          The Goo Goo Dolls  1998          4.825550   \n",
       "25               Chris Isaak  1989          4.817767   \n",
       "98                      Seal  1994          4.807100   \n",
       "54             Guns N' Roses  1991          4.728883   \n",
       "95     Red Hot Chili Peppers  1991          4.715100   \n",
       "33                   Nirvana  1993          4.686000   \n",
       "79           Sinéad O'Connor  1990          4.667333   \n",
       "90               Céline Dion  1997          4.666667   \n",
       "96                       TLC  1994          4.658433   \n",
       "69                        U2  1991          4.603100   \n",
       "5            The Cranberries  1993          4.578433   \n",
       "47            Counting Crows  1993          4.538217   \n",
       "0                Sheryl Crow  1993          4.535100   \n",
       "53           Whitney Houston  1992          4.518217   \n",
       "18                   Dr. Dre  1999          4.509767   \n",
       "78                  Haddaway  1993          4.506217   \n",
       "93                      2Pac  1998          4.480433   \n",
       "6                     R.E.M.  1991          4.473767   \n",
       "58                    Eminem  1999          4.473333   \n",
       "87           Third Eye Blind  1997          4.472667   \n",
       "43     The Smashing Pumpkins  1995          4.436667   \n",
       "72           Robbie Williams  1997          4.416667   \n",
       "16     Red Hot Chili Peppers  1991          4.405100   \n",
       "31                 Radiohead  1997          4.401100   \n",
       "42                  No Doubt  1995          4.392667   \n",
       "88                   Santana  1999          4.366217   \n",
       "70                   Nirvana  1994          4.351550   \n",
       "71              Foo Fighters  1997          4.333767   \n",
       "52                   Roxette  1990          4.313100   \n",
       "48                     Oasis  1995          4.312883   \n",
       "60             The Offspring  1994          4.297100   \n",
       "59                 Radiohead  1995          4.291333   \n",
       "34     Red Hot Chili Peppers  1999          4.256217   \n",
       "91                     Luniz  1995          4.225550   \n",
       "99                  Warren G  1994          4.147767   \n",
       "50         Natalie Imbruglia  1997          4.077767   \n",
       "57              Mariah Carey  1995          4.058217   \n",
       "81              Ricky Martin  1999          4.052667   \n",
       "73             Lenny Kravitz  1991          4.044000   \n",
       "4                     Coolio  1995          4.011550   \n",
       "37                      Cher  1998          3.983767   \n",
       "1                  Radiohead  1993          3.977333   \n",
       "61                   Dr. Dre  1992          3.959550   \n",
       "62              Foo Fighters  1999          3.921550   \n",
       "36                    Shaggy  2000          3.793333   \n",
       "92                    R.E.M.  1991          3.763100   \n",
       "84             Lenny Kravitz  1998          3.688867   \n",
       "63                  Lou Bega  1999          3.671550   \n",
       "55                   Nirvana  1991          3.648667   \n",
       "80                      Dido  1999          3.639333   \n",
       "85        Christina Aguilera  1999          3.626217   \n",
       "89               Blind Melon  1992          3.618433   \n",
       "26     Red Hot Chili Peppers  1999          3.598433   \n",
       "56              Alice Deejay  2000          3.581383   \n",
       "21                       TLC  1999          3.573333   \n",
       "41                      Gala  1997          3.556567   \n",
       "15           Backstreet Boys  1999          3.555100   \n",
       "65             Mark Morrison  1996          3.551550   \n",
       "67               Ace of Base  1993          3.520217   \n",
       "24            Britney Spears  1999          3.517767   \n",
       "17  Sixpence None The Richer  1997          3.478000   \n",
       "86                 Vengaboys  1999          3.376383   \n",
       "28               Smash Mouth  1999          3.339550   \n",
       "3                       Aqua  1997          3.299333   \n",
       "27             The Cardigans  1996          3.232550   \n",
       "74              Fools Garden  1995          3.183767   \n",
       "75             The Offspring  1998          3.144433   \n",
       "40                   Sublime  1996          3.045767   \n",
       "12                 Green Day  1994          3.025550   \n",
       "97                Supergrass  1995          3.014667   \n",
       "13             The Offspring  1998          3.002667   \n",
       "45                 Green Day  1994          2.966667   \n",
       "19               Spice Girls  1996          2.883767   \n",
       "11                 blink-182  1999          2.784433   \n",
       "64                    Weezer  1994          2.653767   \n",
       "32                 Green Day  1997          2.557767   \n",
       "30                 blink-182  1999          2.472667   \n",
       "23                      Blur  1997          2.019333   \n",
       "\n",
       "                                                album  explicito  \n",
       "29                                Use Your Illusion I      False  \n",
       "22                      Urban Hymns (Remastered 2016)      False  \n",
       "77                                         Cross Road      False  \n",
       "82                                                Ten      False  \n",
       "38                               Use Your Illusion II      False  \n",
       "76                             Metallica (Remastered)      False  \n",
       "8                    Californication (Deluxe Edition)      False  \n",
       "9                                         Sheryl Crow      False  \n",
       "83                           Automatic For The People      False  \n",
       "68                    The Miseducation of Lauryn Hill      False  \n",
       "49                      Superunknown (Deluxe Edition)      False  \n",
       "94                                         Get A Grip      False  \n",
       "35                                        Crazy World      False  \n",
       "10  No Need To Argue (The Complete Sessions 1994-1...      False  \n",
       "44                                      Another Level      False  \n",
       "39                             Nevermind (Remastered)      False  \n",
       "66                  Maybe You've Been Brainwashed Too      False  \n",
       "46                       The Score (Expanded Edition)       True  \n",
       "14                        So Tonight That I Might See      False  \n",
       "20                     Bigger, Better, Faster, More !      False  \n",
       "7                                     The Razors Edge      False  \n",
       "51                                                Ten       True  \n",
       "2                                   Dizzy up the Girl      False  \n",
       "25                                 Heart Shaped World      False  \n",
       "98                                               Seal      False  \n",
       "54                                Use Your Illusion I      False  \n",
       "95             Blood Sugar Sex Magik (Deluxe Edition)      False  \n",
       "33                          In Utero (Deluxe Edition)      False  \n",
       "79                   I Do Not Want What I Haven't Got      False  \n",
       "90                              Let's Talk About Love      False  \n",
       "96                                      Crazysexycool      False  \n",
       "69                      Achtung Baby (Deluxe Edition)      False  \n",
       "5        Everybody Else Is Doing It, So Why Can't We?      False  \n",
       "47                        August And Everything After      False  \n",
       "0                            Tuesday Night Music Club      False  \n",
       "53          The Bodyguard - Original Soundtrack Album      False  \n",
       "18                                               2001       True  \n",
       "78                                          The Album      False  \n",
       "93                                      Greatest Hits       True  \n",
       "6              Out Of Time (25th Anniversary Edition)      False  \n",
       "58                                  The Slim Shady LP       True  \n",
       "87                                    Third Eye Blind      False  \n",
       "43  Mellon Collie And The Infinite Sadness (Deluxe...      False  \n",
       "72                                   Life Thru A Lens      False  \n",
       "16             Blood Sugar Sex Magik (Deluxe Edition)      False  \n",
       "31                                        OK Computer      False  \n",
       "42                                     Tragic Kingdom      False  \n",
       "88                          Supernatural (Remastered)      False  \n",
       "70                          MTV Unplugged In New York      False  \n",
       "71                           The Colour And The Shape      False  \n",
       "52                             It Must Have Been Love      False  \n",
       "48  (What's The Story) Morning Glory? (Deluxe Rema...      False  \n",
       "60                                              Smash      False  \n",
       "59                                          The Bends      False  \n",
       "34                   Californication (Deluxe Edition)      False  \n",
       "91                                 Operation Stackola      False  \n",
       "99                               Regulate… G Funk Era       True  \n",
       "50                                 Left Of The Middle      False  \n",
       "57                                           Daydream      False  \n",
       "81                                       Ricky Martin      False  \n",
       "73                                          Mama Said      False  \n",
       "4                                  Gangsta's Paradise      False  \n",
       "37                                            Believe      False  \n",
       "1                                         Pablo Honey       True  \n",
       "61                                        The Chronic       True  \n",
       "62                      There Is Nothing Left To Lose      False  \n",
       "36                                           Hot Shot      False  \n",
       "92             Out Of Time (25th Anniversary Edition)      False  \n",
       "84                                                  5      False  \n",
       "63                              A Little Bit of Mambo      False  \n",
       "55                             Nevermind (Remastered)      False  \n",
       "80                                           No Angel      False  \n",
       "85              Christina Aguilera (Expanded Edition)      False  \n",
       "89                                        Blind Melon      False  \n",
       "26                   Californication (Deluxe Edition)      False  \n",
       "56                          Who Needs Guitars Anyway?      False  \n",
       "21                                            Fanmail      False  \n",
       "41                      Come Into My Life (The Album)      False  \n",
       "15                                         Millennium      False  \n",
       "65                                 Return of the Mack      False  \n",
       "67                                           The Sign      False  \n",
       "24     ...Baby One More Time (Digital Deluxe Version)      False  \n",
       "17                           Sixpence None the Richer      False  \n",
       "86                                   The Party Album!      False  \n",
       "28                                       Astro Lounge      False  \n",
       "3                          Aquarium (Special Edition)      False  \n",
       "27                First Band On The Moon (Remastered)      False  \n",
       "74                                    Dish of the Day      False  \n",
       "75                                          Americana      False  \n",
       "40                                            Sublime      False  \n",
       "12                                             Dookie      False  \n",
       "97                                      I Should Coco      False  \n",
       "13                                          Americana      False  \n",
       "45                                             Dookie      False  \n",
       "19                                              Spice      False  \n",
       "11                                 Enema Of The State      False  \n",
       "64                                             Weezer      False  \n",
       "32                                             Nimrod       True  \n",
       "30                                 Enema Of The State       True  \n",
       "23                             Blur (Special Edition)      False  >"
      ]
     },
     "execution_count": 11,
     "metadata": {},
     "output_type": "execute_result"
    }
   ],
   "source": [
    "df_1990.sort_values(by= 'duracion_minutos',ascending=False,inplace=True)\n",
    "df_1990.head"
   ]
  },
  {
   "cell_type": "code",
   "execution_count": 12,
   "id": "519eb697-24b3-4842-b871-9d646af2663e",
   "metadata": {
    "tags": []
   },
   "outputs": [
    {
     "data": {
      "text/plain": [
       "100"
      ]
     },
     "execution_count": 12,
     "metadata": {},
     "output_type": "execute_result"
    }
   ],
   "source": [
    "df_1990.cantante.value_counts().sum() #Contamos las mujeres por los hombres"
   ]
  },
  {
   "cell_type": "code",
   "execution_count": 13,
   "id": "73c202da-7f8c-4933-a1c4-002b54f4a08c",
   "metadata": {},
   "outputs": [
    {
     "data": {
      "text/plain": [
       "cantante\n",
       "Red Hot Chili Peppers       5\n",
       "Nirvana                     4\n",
       "Guns N' Roses               3\n",
       "R.E.M.                      3\n",
       "Radiohead                   3\n",
       "Green Day                   3\n",
       "The Offspring               3\n",
       "Sheryl Crow                 2\n",
       "Pearl Jam                   2\n",
       "Foo Fighters                2\n",
       "Lenny Kravitz               2\n",
       "Dr. Dre                     2\n",
       "TLC                         2\n",
       "The Cranberries             2\n",
       "blink-182                   2\n",
       "Fools Garden                1\n",
       "Warren G                    1\n",
       "Natalie Imbruglia           1\n",
       "Supergrass                  1\n",
       "Mariah Carey                1\n",
       "Ricky Martin                1\n",
       "Weezer                      1\n",
       "Coolio                      1\n",
       "Cher                        1\n",
       "Shaggy                      1\n",
       "Lou Bega                    1\n",
       "Dido                        1\n",
       "Sublime                     1\n",
       "Christina Aguilera          1\n",
       "Blind Melon                 1\n",
       "Alice Deejay                1\n",
       "Spice Girls                 1\n",
       "Gala                        1\n",
       "Backstreet Boys             1\n",
       "Mark Morrison               1\n",
       "Luniz                       1\n",
       "Britney Spears              1\n",
       "Sixpence None The Richer    1\n",
       "Vengaboys                   1\n",
       "Smash Mouth                 1\n",
       "Aqua                        1\n",
       "The Cardigans               1\n",
       "Ace of Base                 1\n",
       "No Doubt                    1\n",
       "Oasis                       1\n",
       "Chris Isaak                 1\n",
       "Bon Jovi                    1\n",
       "Metallica                   1\n",
       "Ms. Lauryn Hill             1\n",
       "Soundgarden                 1\n",
       "Aerosmith                   1\n",
       "Scorpions                   1\n",
       "Blackstreet                 1\n",
       "New Radicals                1\n",
       "Fugees                      1\n",
       "Mazzy Star                  1\n",
       "4 Non Blondes               1\n",
       "AC/DC                       1\n",
       "The Goo Goo Dolls           1\n",
       "Seal                        1\n",
       "Roxette                     1\n",
       "Sinéad O'Connor             1\n",
       "Céline Dion                 1\n",
       "U2                          1\n",
       "Counting Crows              1\n",
       "Whitney Houston             1\n",
       "Haddaway                    1\n",
       "2Pac                        1\n",
       "Eminem                      1\n",
       "Third Eye Blind             1\n",
       "The Smashing Pumpkins       1\n",
       "Robbie Williams             1\n",
       "The Verve                   1\n",
       "Santana                     1\n",
       "Blur                        1\n",
       "Name: count, dtype: int64"
      ]
     },
     "execution_count": 13,
     "metadata": {},
     "output_type": "execute_result"
    }
   ],
   "source": [
    "df_1990.cantante.value_counts()"
   ]
  },
  {
   "cell_type": "code",
   "execution_count": 14,
   "id": "c5b9de52-37cd-4f38-a567-8e408b155cb3",
   "metadata": {
    "tags": []
   },
   "outputs": [
    {
     "data": {
      "text/plain": [
       "23.0"
      ]
     },
     "execution_count": 14,
     "metadata": {},
     "output_type": "execute_result"
    }
   ],
   "source": [
    "(23/100)*100 #Calculamos el porcentaje de mujeres por el de los hombres e indagamos que de aqui el uno por ciento son mujeres"
   ]
  },
  {
   "cell_type": "code",
   "execution_count": 15,
   "id": "f82b50ea-5bc8-47ba-96dd-a0384c249f3f",
   "metadata": {
    "tags": []
   },
   "outputs": [
    {
     "data": {
      "text/html": [
       "<div>\n",
       "<style scoped>\n",
       "    .dataframe tbody tr th:only-of-type {\n",
       "        vertical-align: middle;\n",
       "    }\n",
       "\n",
       "    .dataframe tbody tr th {\n",
       "        vertical-align: top;\n",
       "    }\n",
       "\n",
       "    .dataframe thead th {\n",
       "        text-align: right;\n",
       "    }\n",
       "</style>\n",
       "<table border=\"1\" class=\"dataframe\">\n",
       "  <thead>\n",
       "    <tr style=\"text-align: right;\">\n",
       "      <th></th>\n",
       "      <th>duracion_minutos</th>\n",
       "    </tr>\n",
       "    <tr>\n",
       "      <th>cancion</th>\n",
       "      <th></th>\n",
       "    </tr>\n",
       "  </thead>\n",
       "  <tbody>\n",
       "    <tr>\n",
       "      <th>...Baby One More Time</th>\n",
       "      <td>3.517767</td>\n",
       "    </tr>\n",
       "    <tr>\n",
       "      <th>1979 - Remastered 2012</th>\n",
       "      <td>4.436667</td>\n",
       "    </tr>\n",
       "    <tr>\n",
       "      <th>Alive</th>\n",
       "      <td>5.681783</td>\n",
       "    </tr>\n",
       "    <tr>\n",
       "      <th>All I Wanna Do</th>\n",
       "      <td>4.535100</td>\n",
       "    </tr>\n",
       "    <tr>\n",
       "      <th>All Star</th>\n",
       "      <td>3.339550</td>\n",
       "    </tr>\n",
       "  </tbody>\n",
       "</table>\n",
       "</div>"
      ],
      "text/plain": [
       "                        duracion_minutos\n",
       "cancion                                 \n",
       "...Baby One More Time           3.517767\n",
       "1979 - Remastered 2012          4.436667\n",
       "Alive                           5.681783\n",
       "All I Wanna Do                  4.535100\n",
       "All Star                        3.339550"
      ]
     },
     "execution_count": 15,
     "metadata": {},
     "output_type": "execute_result"
    }
   ],
   "source": [
    "df_1990_Duration= df_1990.groupby([\"cancion\"]).agg({\"duracion_minutos\":'sum'})\n",
    "df_1990_Duration.head()"
   ]
  },
  {
   "cell_type": "code",
   "execution_count": 16,
   "id": "d6d731b7-eabf-4dc6-aaca-cf89190117f4",
   "metadata": {
    "tags": []
   },
   "outputs": [
    {
     "data": {
      "image/png": "[encoded data removed]",
      "text/plain": [
       "<Figure size 640x480 with 1 Axes>"
      ]
     },
     "metadata": {},
     "output_type": "display_data"
    }
   ],
   "source": [
    "plt.plot(df_1990[\"duracion_minutos\"]) \n",
    "plt.show()\n"
   ]
  },
  {
   "cell_type": "code",
   "execution_count": 17,
   "id": "a14000f3-3d14-4336-85d4-da0b53ed6a50",
   "metadata": {
    "tags": []
   },
   "outputs": [
    {
     "data": {
      "text/plain": [
       "count    100.000000\n",
       "mean       4.244371\n",
       "std        0.942909\n",
       "min        2.019333\n",
       "25%        3.594171\n",
       "50%        4.323433\n",
       "75%        4.748437\n",
       "max        8.934433\n",
       "Name: duracion_minutos, dtype: float64"
      ]
     },
     "execution_count": 17,
     "metadata": {},
     "output_type": "execute_result"
    }
   ],
   "source": [
    "df_1990.duracion_minutos.describe()"
   ]
  },
  {
   "cell_type": "code",
   "execution_count": null,
   "id": "ec8f4532-41e3-4114-bd0a-eb176cb6d1cf",
   "metadata": {
    "jupyter": {
     "source_hidden": true
    },
    "tags": []
   },
   "outputs": [],
   "source": []
  },
  {
   "cell_type": "code",
   "execution_count": 18,
   "id": "37f05124-536c-4a29-866a-0acbd14c0d95",
   "metadata": {
    "tags": []
   },
   "outputs": [
    {
     "data": {
      "image/png": "[encoded data removed]",
      "text/plain": [
       "<Figure size 640x480 with 1 Axes>"
      ]
     },
     "metadata": {},
     "output_type": "display_data"
    }
   ],
   "source": [
    "plt.title('Woman to men in 1990 top charts')\n",
    "sizes = [21, 100]  # Porcentajes de cada categoría\n",
    "labels = ['Woman', 'Men']\n",
    "colors=['lightcoral','lightskyblue']\n",
    "\n",
    "plt.pie(sizes,colors=colors, labels=labels, autopct='%1.1f%%')  # Crear el gráfico circular\n",
    "plt.show()"
   ]
  },
  {
   "cell_type": "code",
   "execution_count": 19,
   "id": "ee08a724-edfa-43b6-b6b1-147d00216e11",
   "metadata": {
    "tags": []
   },
   "outputs": [
    {
     "data": {
      "image/png": "[encoded data removed]",
      "text/plain": [
       "<Figure size 640x480 with 1 Axes>"
      ]
     },
     "metadata": {},
     "output_type": "display_data"
    }
   ],
   "source": [
    "plt.title('Black Woman to Woman in 1990 top charts')\n",
    "sizes = [4, 17]  # Porcentajes de cada categoría\n",
    "labels = ['Black Woman', 'Woman']  # Etiquetas de las categorías\n",
    "colors=['peru','olive']\n",
    "plt.pie(sizes, colors=colors, labels=labels, autopct='%1.1f%%')  # Crear el gráfico circular\n",
    "plt.show()"
   ]
  },
  {
   "cell_type": "code",
   "execution_count": 42,
   "id": "c085bdfe-e903-472b-a2e1-56ad230c214e",
   "metadata": {
    "tags": []
   },
   "outputs": [],
   "source": [
    "df_1990.to_csv('data_1990.csv', index=False)"
   ]
  }
 ],
 "metadata": {
  "kernelspec": {
   "display_name": "Python 3 (ipykernel)",
   "language": "python",
   "name": "python3"
  },
  "language_info": {
   "codemirror_mode": {
    "name": "ipython",
    "version": 3
   },
   "file_extension": ".py",
   "mimetype": "text/x-python",
   "name": "python",
   "nbconvert_exporter": "python",
   "pygments_lexer": "ipython3",
   "version": "3.11.5"
  }
 },
 "nbformat": 4,
 "nbformat_minor": 5
}
