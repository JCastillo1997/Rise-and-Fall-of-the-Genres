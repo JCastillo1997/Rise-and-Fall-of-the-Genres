{
 "cells": [
  {
   "cell_type": "code",
   "execution_count": null,
   "id": "ed59f34c-37df-4825-bf6b-2b246ed71d23",
   "metadata": {},
   "outputs": [],
   "source": [
    "Canciones=[e['track']['name'] for e in playlist_URI]"
   ]
  },
  {
   "cell_type": "code",
   "execution_count": null,
   "id": "f1bbac8b-b53b-464c-baba-156829d52787",
   "metadata": {},
   "outputs": [],
   "source": [
    "Genero = [sp.search(q=Artistas, type='artist')['artists']['items'][0]['genres'] for Artistas in Artistas]"
   ]
  },
  {
   "cell_type": "code",
   "execution_count": null,
   "id": "faaa1174-ad0b-4f7f-adaa-343d2135fa06",
   "metadata": {
    "tags": []
   },
   "outputs": [],
   "source": [
    "Artistas = [e['track']['artists'][0]['name'] for e in lista_playlist]"
   ]
  },
  {
   "cell_type": "code",
   "execution_count": null,
   "id": "ee748a0e-ec9f-4ddd-ae10-bb43bd6e5272",
   "metadata": {
    "tags": []
   },
   "outputs": [],
   "source": [
    "Año_album=track['track']['album']['release_date'][:4]"
   ]
  },
  {
   "cell_type": "code",
   "execution_count": null,
   "id": "768c6ea2-bdf1-498e-95d9-13149f9275af",
   "metadata": {
    "tags": []
   },
   "outputs": [],
   "source": [
    "Duración=data['duracion_minutos'].append(track['track']['duration_ms'] "
   ]
  },
  {
   "cell_type": "code",
   "execution_count": null,
   "id": "b1ba0b0c-c1db-45d9-822c-225ff2f38cc4",
   "metadata": {},
   "outputs": [],
   "source": [
    "Album=data['album'].append(track['track']['album']['name']"
   ]
  },
  {
   "cell_type": "code",
   "execution_count": null,
   "id": "95ca2902-deb5-4fdf-bd49-c5a292d11679",
   "metadata": {},
   "outputs": [],
   "source": [
    "Explicit=data['explicito'].append(track['track']['explicit'])"
   ]
  }
 ],
 "metadata": {
  "kernelspec": {
   "display_name": "Python 3 (ipykernel)",
   "language": "python",
   "name": "python3"
  },
  "language_info": {
   "codemirror_mode": {
    "name": "ipython",
    "version": 3
   },
   "file_extension": ".py",
   "mimetype": "text/x-python",
   "name": "python",
   "nbconvert_exporter": "python",
   "pygments_lexer": "ipython3",
   "version": "3.11.5"
  }
 },
 "nbformat": 4,
 "nbformat_minor": 5
}
