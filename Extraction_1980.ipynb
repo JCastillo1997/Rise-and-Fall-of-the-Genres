{
 "cells": [
  {
   "cell_type": "code",
   "execution_count": 1,
   "id": "3942717f-d09e-4a36-a392-b75aaabfb5a8",
   "metadata": {
    "tags": []
   },
   "outputs": [],
   "source": [
    "import pandas as pd\n",
    "import matplotlib.pyplot as plt\n",
    "import numpy as np"
   ]
  },
  {
   "cell_type": "code",
   "execution_count": 2,
   "id": "513c455d-060f-469c-9bff-fa4a5c4ace92",
   "metadata": {
    "tags": []
   },
   "outputs": [],
   "source": [
    "import Master"
   ]
  },
  {
   "cell_type": "code",
   "execution_count": 3,
   "id": "58ffd27c-885d-4747-8484-01a9cadfe118",
   "metadata": {
    "tags": []
   },
   "outputs": [
    {
     "data": {
      "text/plain": [
       "<function Master.create_playlist_dataframe(playlist_id)>"
      ]
     },
     "execution_count": 3,
     "metadata": {},
     "output_type": "execute_result"
    }
   ],
   "source": [
    "Master.create_playlist_dataframe"
   ]
  },
  {
   "cell_type": "code",
   "execution_count": 4,
   "id": "aef6bc6f-a778-42ba-8cbb-3bd58e783a6a",
   "metadata": {
    "tags": []
   },
   "outputs": [
    {
     "name": "stdout",
     "output_type": "stream",
     "text": [
      "Requirement already satisfied: spotipy in c:\\users\\casti\\anaconda3\\lib\\site-packages (2.23.0)\n",
      "Requirement already satisfied: redis>=3.5.3 in c:\\users\\casti\\anaconda3\\lib\\site-packages (from spotipy) (5.0.1)\n",
      "Requirement already satisfied: requests>=2.25.0 in c:\\users\\casti\\anaconda3\\lib\\site-packages (from spotipy) (2.31.0)\n",
      "Requirement already satisfied: six>=1.15.0 in c:\\users\\casti\\anaconda3\\lib\\site-packages (from spotipy) (1.16.0)\n",
      "Requirement already satisfied: urllib3>=1.26.0 in c:\\users\\casti\\anaconda3\\lib\\site-packages (from spotipy) (1.26.18)\n",
      "Requirement already satisfied: charset-normalizer<4,>=2 in c:\\users\\casti\\anaconda3\\lib\\site-packages (from requests>=2.25.0->spotipy) (3.1.0)\n",
      "Requirement already satisfied: idna<4,>=2.5 in c:\\users\\casti\\anaconda3\\lib\\site-packages (from requests>=2.25.0->spotipy) (3.4)\n",
      "Requirement already satisfied: certifi>=2017.4.17 in c:\\users\\casti\\anaconda3\\lib\\site-packages (from requests>=2.25.0->spotipy) (2023.5.7)\n"
     ]
    }
   ],
   "source": [
    "!pip install spotipy"
   ]
  },
  {
   "cell_type": "code",
   "execution_count": 5,
   "id": "50df79d6-6e0f-4676-91e2-c2274f1e3b5d",
   "metadata": {},
   "outputs": [],
   "source": [
    "import spotipy\n",
    "from spotipy.oauth2 import SpotifyClientCredentials\n",
    "\n",
    "\n",
    "sp = spotipy.Spotify(auth_manager=SpotifyClientCredentials(client_id=\"8aaea3fe61404b23aa07c9f760df3985\",\n",
    "                                                           client_secret=\"e6670aad9bc94f1ba66f382abe39394c\"))"
   ]
  },
  {
   "cell_type": "code",
   "execution_count": 6,
   "id": "284c0a13-b5d9-46f2-b2f6-6ec73a404e92",
   "metadata": {},
   "outputs": [],
   "source": [
    "df_1980=Master.create_playlist_dataframe('37i9dQZF1DWXbLOeOIhbc5')"
   ]
  },
  {
   "cell_type": "code",
   "execution_count": 7,
   "id": "50f11bf3-75f9-4a33-bf6f-5ea9b4d7c5f5",
   "metadata": {},
   "outputs": [],
   "source": [
    "pd.set_option('display.max_rows', None)"
   ]
  },
  {
   "cell_type": "code",
   "execution_count": 22,
   "id": "04d963ea-0e1e-4e5d-bbbf-3092e217530f",
   "metadata": {},
   "outputs": [
    {
     "data": {
      "text/html": [
       "<div>\n",
       "<style scoped>\n",
       "    .dataframe tbody tr th:only-of-type {\n",
       "        vertical-align: middle;\n",
       "    }\n",
       "\n",
       "    .dataframe tbody tr th {\n",
       "        vertical-align: top;\n",
       "    }\n",
       "\n",
       "    .dataframe thead th {\n",
       "        text-align: right;\n",
       "    }\n",
       "</style>\n",
       "<table border=\"1\" class=\"dataframe\">\n",
       "  <thead>\n",
       "    <tr style=\"text-align: right;\">\n",
       "      <th></th>\n",
       "      <th>cancion</th>\n",
       "      <th>cantante</th>\n",
       "      <th>año</th>\n",
       "      <th>duracion_minutos</th>\n",
       "      <th>album</th>\n",
       "      <th>explicito</th>\n",
       "    </tr>\n",
       "  </thead>\n",
       "  <tbody>\n",
       "    <tr>\n",
       "      <th>0</th>\n",
       "      <td>Could You Be Loved</td>\n",
       "      <td>Bob Marley &amp; The Wailers</td>\n",
       "      <td>1980</td>\n",
       "      <td>3.950000</td>\n",
       "      <td>Uprising</td>\n",
       "      <td>False</td>\n",
       "    </tr>\n",
       "    <tr>\n",
       "      <th>1</th>\n",
       "      <td>9 to 5</td>\n",
       "      <td>Dolly Parton</td>\n",
       "      <td>1980</td>\n",
       "      <td>2.707767</td>\n",
       "      <td>9 To 5 And Odd Jobs</td>\n",
       "      <td>False</td>\n",
       "    </tr>\n",
       "    <tr>\n",
       "      <th>2</th>\n",
       "      <td>Rock with You - Single Version</td>\n",
       "      <td>Michael Jackson</td>\n",
       "      <td>1979</td>\n",
       "      <td>3.677100</td>\n",
       "      <td>Off the Wall</td>\n",
       "      <td>False</td>\n",
       "    </tr>\n",
       "    <tr>\n",
       "      <th>3</th>\n",
       "      <td>The Winner Takes It All</td>\n",
       "      <td>ABBA</td>\n",
       "      <td>1980</td>\n",
       "      <td>4.912000</td>\n",
       "      <td>Super Trouper</td>\n",
       "      <td>False</td>\n",
       "    </tr>\n",
       "    <tr>\n",
       "      <th>4</th>\n",
       "      <td>Another One Bites The Dust - Remastered 2011</td>\n",
       "      <td>Queen</td>\n",
       "      <td>1980</td>\n",
       "      <td>3.577550</td>\n",
       "      <td>The Game (Deluxe Remastered Version)</td>\n",
       "      <td>False</td>\n",
       "    </tr>\n",
       "  </tbody>\n",
       "</table>\n",
       "</div>"
      ],
      "text/plain": [
       "                                        cancion                  cantante  \\\n",
       "0                            Could You Be Loved  Bob Marley & The Wailers   \n",
       "1                                        9 to 5              Dolly Parton   \n",
       "2                Rock with You - Single Version           Michael Jackson   \n",
       "3                       The Winner Takes It All                      ABBA   \n",
       "4  Another One Bites The Dust - Remastered 2011                     Queen   \n",
       "\n",
       "    año  duracion_minutos                                 album  explicito  \n",
       "0  1980          3.950000                              Uprising      False  \n",
       "1  1980          2.707767                   9 To 5 And Odd Jobs      False  \n",
       "2  1979          3.677100                          Off the Wall      False  \n",
       "3  1980          4.912000                         Super Trouper      False  \n",
       "4  1980          3.577550  The Game (Deluxe Remastered Version)      False  "
      ]
     },
     "execution_count": 22,
     "metadata": {},
     "output_type": "execute_result"
    }
   ],
   "source": [
    "df_1980.head()"
   ]
  },
  {
   "cell_type": "code",
   "execution_count": 9,
   "id": "a4c3f565-e47b-4974-9007-6989797deee8",
   "metadata": {
    "tags": []
   },
   "outputs": [
    {
     "data": {
      "text/plain": [
       "explicito\n",
       "False    100\n",
       "Name: count, dtype: int64"
      ]
     },
     "execution_count": 9,
     "metadata": {},
     "output_type": "execute_result"
    }
   ],
   "source": [
    "df_1980.explicito.value_counts() # encontramos los explicitos"
   ]
  },
  {
   "cell_type": "code",
   "execution_count": 10,
   "id": "519eb697-24b3-4842-b871-9d646af2663e",
   "metadata": {
    "tags": []
   },
   "outputs": [
    {
     "data": {
      "text/plain": [
       "100"
      ]
     },
     "execution_count": 10,
     "metadata": {},
     "output_type": "execute_result"
    }
   ],
   "source": [
    "df_1980.cantante.value_counts().sum() #Contamos las mujeres por los hombres"
   ]
  },
  {
   "cell_type": "code",
   "execution_count": 24,
   "id": "73c202da-7f8c-4933-a1c4-002b54f4a08c",
   "metadata": {},
   "outputs": [
    {
     "data": {
      "text/plain": [
       "cantante\n",
       "Diana Ross                           4\n",
       "Blondie                              3\n",
       "Kenny Rogers                         3\n",
       "Air Supply                           3\n",
       "The Jam                              2\n",
       "Christopher Cross                    2\n",
       "Neil Diamond                         2\n",
       "Bob Seger                            2\n",
       "Roxy Music                           2\n",
       "UB40                                 2\n",
       "Billy Joel                           2\n",
       "Tom Petty and the Heartbreakers      2\n",
       "Kool & The Gang                      2\n",
       "Pat Benatar                          2\n",
       "Michael Jackson                      2\n",
       "ABBA                                 2\n",
       "Queen                                2\n",
       "Stevie Wonder                        2\n",
       "Rupert Holmes                        1\n",
       "The Nolans                           1\n",
       "Dexys Midnight Runners               1\n",
       "The Brothers Johnson                 1\n",
       "Olivia Newton-John                   1\n",
       "The Spinners                         1\n",
       "The Vapors                           1\n",
       "The O'Jays                           1\n",
       "Stephanie Mills                      1\n",
       "Dr. Hook                             1\n",
       "Paul McCartney                       1\n",
       "Don McLean                           1\n",
       "Fleetwood Mac                        1\n",
       "Kelly Marie                          1\n",
       "Leo Sayer                            1\n",
       "Electric Light Orchestra             1\n",
       "The English Beat                     1\n",
       "The Manhattans                       1\n",
       "The Specials                         1\n",
       "Elvis Costello & The Attractions     1\n",
       "Stacy Lattisaw                       1\n",
       "Rod Stewart                          1\n",
       "Odyssey                              1\n",
       "Liquid Gold                          1\n",
       "Spandau Ballet                       1\n",
       "Madness                              1\n",
       "Barry Gibb                           1\n",
       "The S.O.S Band                       1\n",
       "Bob Marley & The Wailers             1\n",
       "The Rolling Stones                   1\n",
       "John Mellencamp                      1\n",
       "REO Speedwagon                       1\n",
       "The Police                           1\n",
       "Barbra Streisand                     1\n",
       "Orchestral Manoeuvres In The Dark    1\n",
       "Billy Idol                           1\n",
       "Irene Cara                           1\n",
       "George Benson                        1\n",
       "Eagles                               1\n",
       "David Bowie                          1\n",
       "DEVO                                 1\n",
       "Eddie Rabbitt                        1\n",
       "Bette Midler                         1\n",
       "Ambrosia                             1\n",
       "Dan Fogelberg                        1\n",
       "Visage                               1\n",
       "Pretenders                           1\n",
       "Donna Summer                         1\n",
       "Pete Townshend                       1\n",
       "Lipps Inc.                           1\n",
       "Ottawan                              1\n",
       "Randy Crawford                       1\n",
       "Dolly Parton                         1\n",
       "Benny Mardones                       1\n",
       "Robbie Dupree                        1\n",
       "Elton John                           1\n",
       "Genesis                              1\n",
       "Kate Bush                            1\n",
       "Peaches & Herb                       1\n",
       "Name: count, dtype: int64"
      ]
     },
     "execution_count": 24,
     "metadata": {},
     "output_type": "execute_result"
    }
   ],
   "source": [
    "df_1980.cantante.value_counts()"
   ]
  },
  {
   "cell_type": "code",
   "execution_count": 12,
   "id": "c5b9de52-37cd-4f38-a567-8e408b155cb3",
   "metadata": {
    "tags": []
   },
   "outputs": [
    {
     "data": {
      "text/plain": [
       "18.0"
      ]
     },
     "execution_count": 12,
     "metadata": {},
     "output_type": "execute_result"
    }
   ],
   "source": [
    "(18/100)*100 #Calculamos el porcentaje de mujeres por el de los hombres e indagamos que de aqui el uno por ciento son mujeres"
   ]
  },
  {
   "cell_type": "code",
   "execution_count": 13,
   "id": "f82b50ea-5bc8-47ba-96dd-a0384c249f3f",
   "metadata": {
    "tags": []
   },
   "outputs": [
    {
     "ename": "NameError",
     "evalue": "name 'df_1970' is not defined",
     "output_type": "error",
     "traceback": [
      "\u001b[1;31m---------------------------------------------------------------------------\u001b[0m",
      "\u001b[1;31mNameError\u001b[0m                                 Traceback (most recent call last)",
      "Cell \u001b[1;32mIn[13], line 1\u001b[0m\n\u001b[1;32m----> 1\u001b[0m df_190_Duration\u001b[38;5;241m=\u001b[39m df_1970\u001b[38;5;241m.\u001b[39mgroupby([\u001b[38;5;124m\"\u001b[39m\u001b[38;5;124mcancion\u001b[39m\u001b[38;5;124m\"\u001b[39m])\u001b[38;5;241m.\u001b[39magg({\u001b[38;5;124m\"\u001b[39m\u001b[38;5;124mduracion_minutos\u001b[39m\u001b[38;5;124m\"\u001b[39m:\u001b[38;5;124m'\u001b[39m\u001b[38;5;124msum\u001b[39m\u001b[38;5;124m'\u001b[39m})\n\u001b[0;32m      2\u001b[0m df_1980_Duration\u001b[38;5;241m.\u001b[39mhead()\n",
      "\u001b[1;31mNameError\u001b[0m: name 'df_1970' is not defined"
     ]
    }
   ],
   "source": [
    "df_1980_Duration= df_1980.groupby([\"cancion\"]).agg({\"duracion_minutos\":'sum'})\n",
    "df_1980_Duration.head()"
   ]
  },
  {
   "cell_type": "code",
   "execution_count": null,
   "id": "d6d731b7-eabf-4dc6-aaca-cf89190117f4",
   "metadata": {
    "tags": []
   },
   "outputs": [],
   "source": [
    "plt.plot(df_1980[\"duracion_minutos\"])\n",
    "plt.xticks(rotation=45,fontsize=8) \n",
    "plt.show()\n"
   ]
  },
  {
   "cell_type": "code",
   "execution_count": null,
   "id": "a14000f3-3d14-4336-85d4-da0b53ed6a50",
   "metadata": {
    "tags": []
   },
   "outputs": [],
   "source": [
    "df_1980.duracion_minutos.describe()"
   ]
  },
  {
   "cell_type": "code",
   "execution_count": null,
   "id": "ec8f4532-41e3-4114-bd0a-eb176cb6d1cf",
   "metadata": {
    "jupyter": {
     "source_hidden": true
    },
    "tags": []
   },
   "outputs": [],
   "source": []
  },
  {
   "cell_type": "code",
   "execution_count": 36,
   "id": "37f05124-536c-4a29-866a-0acbd14c0d95",
   "metadata": {
    "tags": []
   },
   "outputs": [
    {
     "data": {
      "image/png": "[encoded data removed]",
      "text/plain": [
       "<Figure size 640x480 with 1 Axes>"
      ]
     },
     "metadata": {},
     "output_type": "display_data"
    }
   ],
   "source": [
    "plt.title('Woman to men in 1980 top charts')\n",
    "sizes = [42, 100]  # Porcentajes de cada categoría\n",
    "labels = ['Woman', 'Men']\n",
    "colors=['lightcoral','lightskyblue']\n",
    "\n",
    "plt.pie(sizes,colors=colors, labels=labels, autopct='%1.1f%%')  # Crear el gráfico circular\n",
    "plt.show()"
   ]
  },
  {
   "cell_type": "code",
   "execution_count": null,
   "id": "ee08a724-edfa-43b6-b6b1-147d00216e11",
   "metadata": {
    "tags": []
   },
   "outputs": [],
   "source": [
    "plt.title('Black Woman to Woman in 1980 top charts')\n",
    "sizes = [18, 9]  # Porcentajes de cada categoría\n",
    "labels = ['Black Woman', 'Woman']  # Etiquetas de las categorías\n",
    "colors=['peru','olive']\n",
    "plt.pie(sizes, colors=colors, labels=labels, autopct='%1.1f%%')  # Crear el gráfico circular\n",
    "plt.show()"
   ]
  }
 ],
 "metadata": {
  "kernelspec": {
   "display_name": "Python 3 (ipykernel)",
   "language": "python",
   "name": "python3"
  },
  "language_info": {
   "codemirror_mode": {
    "name": "ipython",
    "version": 3
   },
   "file_extension": ".py",
   "mimetype": "text/x-python",
   "name": "python",
   "nbconvert_exporter": "python",
   "pygments_lexer": "ipython3",
   "version": "3.11.5"
  }
 },
 "nbformat": 4,
 "nbformat_minor": 5
}
