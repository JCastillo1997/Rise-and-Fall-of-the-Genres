{
 "cells": [
  {
   "cell_type": "code",
   "execution_count": 2,
   "id": "3942717f-d09e-4a36-a392-b75aaabfb5a8",
   "metadata": {
    "tags": []
   },
   "outputs": [],
   "source": [
    "import pandas as pd\n",
    "import matplotlib.pyplot as plt\n",
    "import numpy as np"
   ]
  },
  {
   "cell_type": "code",
   "execution_count": 3,
   "id": "513c455d-060f-469c-9bff-fa4a5c4ace92",
   "metadata": {
    "tags": []
   },
   "outputs": [],
   "source": [
    "import Master"
   ]
  },
  {
   "cell_type": "code",
   "execution_count": 4,
   "id": "58ffd27c-885d-4747-8484-01a9cadfe118",
   "metadata": {
    "tags": []
   },
   "outputs": [
    {
     "data": {
      "text/plain": [
       "<function Master.create_playlist_dataframe(playlist_id)>"
      ]
     },
     "execution_count": 4,
     "metadata": {},
     "output_type": "execute_result"
    }
   ],
   "source": [
    "Master.create_playlist_dataframe"
   ]
  },
  {
   "cell_type": "code",
   "execution_count": 5,
   "id": "aef6bc6f-a778-42ba-8cbb-3bd58e783a6a",
   "metadata": {
    "tags": []
   },
   "outputs": [
    {
     "name": "stdout",
     "output_type": "stream",
     "text": [
      "Requirement already satisfied: spotipy in c:\\users\\casti\\anaconda3\\lib\\site-packages (2.23.0)\n",
      "Requirement already satisfied: redis>=3.5.3 in c:\\users\\casti\\anaconda3\\lib\\site-packages (from spotipy) (5.0.1)\n",
      "Requirement already satisfied: requests>=2.25.0 in c:\\users\\casti\\anaconda3\\lib\\site-packages (from spotipy) (2.31.0)\n",
      "Requirement already satisfied: six>=1.15.0 in c:\\users\\casti\\anaconda3\\lib\\site-packages (from spotipy) (1.16.0)\n",
      "Requirement already satisfied: urllib3>=1.26.0 in c:\\users\\casti\\anaconda3\\lib\\site-packages (from spotipy) (1.26.18)\n",
      "Requirement already satisfied: charset-normalizer<4,>=2 in c:\\users\\casti\\anaconda3\\lib\\site-packages (from requests>=2.25.0->spotipy) (3.1.0)\n",
      "Requirement already satisfied: idna<4,>=2.5 in c:\\users\\casti\\anaconda3\\lib\\site-packages (from requests>=2.25.0->spotipy) (3.4)\n",
      "Requirement already satisfied: certifi>=2017.4.17 in c:\\users\\casti\\anaconda3\\lib\\site-packages (from requests>=2.25.0->spotipy) (2023.5.7)\n"
     ]
    }
   ],
   "source": [
    "!pip install spotipy"
   ]
  },
  {
   "cell_type": "code",
   "execution_count": 6,
   "id": "c67ece66-cae5-4b72-b1a1-c34b73cb658c",
   "metadata": {},
   "outputs": [],
   "source": [
    "import spotipy\n",
    "from spotipy.oauth2 import SpotifyClientCredentials\n",
    "\n",
    "\n",
    "sp = spotipy.Spotify(auth_manager=SpotifyClientCredentials(client_id=\"8aaea3fe61404b23aa07c9f760df3985\",\n",
    "                                                           client_secret=\"e6670aad9bc94f1ba66f382abe39394c\"))"
   ]
  },
  {
   "cell_type": "code",
   "execution_count": 7,
   "id": "bc21fbd4-ae28-4698-9d3a-edcb692bd3b7",
   "metadata": {
    "tags": []
   },
   "outputs": [],
   "source": [
    "from spotipy.oauth2 import SpotifyClientCredentials\n",
    "\n",
    "\n",
    "sp = spotipy.Spotify(auth_manager=SpotifyClientCredentials(client_id=\"8aaea3fe61404b23aa07c9f760df3985\",\n",
    "                                                           client_secret=\"e6670aad9bc94f1ba66f382abe39394c\"))"
   ]
  },
  {
   "cell_type": "code",
   "execution_count": 8,
   "id": "284c0a13-b5d9-46f2-b2f6-6ec73a404e92",
   "metadata": {},
   "outputs": [],
   "source": [
    "df_1940=Master.create_playlist_dataframe('245g9upOJ2BLTCcKeFyRDf')"
   ]
  },
  {
   "cell_type": "code",
   "execution_count": 9,
   "id": "04d963ea-0e1e-4e5d-bbbf-3092e217530f",
   "metadata": {},
   "outputs": [
    {
     "data": {
      "text/html": [
       "<div>\n",
       "<style scoped>\n",
       "    .dataframe tbody tr th:only-of-type {\n",
       "        vertical-align: middle;\n",
       "    }\n",
       "\n",
       "    .dataframe tbody tr th {\n",
       "        vertical-align: top;\n",
       "    }\n",
       "\n",
       "    .dataframe thead th {\n",
       "        text-align: right;\n",
       "    }\n",
       "</style>\n",
       "<table border=\"1\" class=\"dataframe\">\n",
       "  <thead>\n",
       "    <tr style=\"text-align: right;\">\n",
       "      <th></th>\n",
       "      <th>cancion</th>\n",
       "      <th>cantante</th>\n",
       "      <th>año</th>\n",
       "      <th>duracion_minutos</th>\n",
       "      <th>album</th>\n",
       "      <th>explicito</th>\n",
       "    </tr>\n",
       "  </thead>\n",
       "  <tbody>\n",
       "    <tr>\n",
       "      <th>0</th>\n",
       "      <td>I'll Never Smile Again</td>\n",
       "      <td>Tommy Dorsey</td>\n",
       "      <td>1990</td>\n",
       "      <td>3.157767</td>\n",
       "      <td>The Seventeen Number Ones</td>\n",
       "      <td>False</td>\n",
       "    </tr>\n",
       "    <tr>\n",
       "      <th>1</th>\n",
       "      <td>Only Forever - Single Version</td>\n",
       "      <td>Bing Crosby</td>\n",
       "      <td>1993</td>\n",
       "      <td>3.200667</td>\n",
       "      <td>Bing-His Legendary Years 1931-1957</td>\n",
       "      <td>False</td>\n",
       "    </tr>\n",
       "    <tr>\n",
       "      <th>2</th>\n",
       "      <td>Frenesi</td>\n",
       "      <td>Artie Shaw</td>\n",
       "      <td>1938</td>\n",
       "      <td>3.040217</td>\n",
       "      <td>Ultimate Big Band Collection: Artie Shaw</td>\n",
       "      <td>False</td>\n",
       "    </tr>\n",
       "    <tr>\n",
       "      <th>3</th>\n",
       "      <td>Song of the Volga Boatmen - Remastered 2002</td>\n",
       "      <td>Glenn Miller</td>\n",
       "      <td>2005</td>\n",
       "      <td>3.446217</td>\n",
       "      <td>Jazz Moods - Hot</td>\n",
       "      <td>False</td>\n",
       "    </tr>\n",
       "    <tr>\n",
       "      <th>4</th>\n",
       "      <td>Amapola</td>\n",
       "      <td>Jimmy Dorsey</td>\n",
       "      <td>2010</td>\n",
       "      <td>3.441867</td>\n",
       "      <td>The Great Jimmy Dorsey</td>\n",
       "      <td>False</td>\n",
       "    </tr>\n",
       "    <tr>\n",
       "      <th>...</th>\n",
       "      <td>...</td>\n",
       "      <td>...</td>\n",
       "      <td>...</td>\n",
       "      <td>...</td>\n",
       "      <td>...</td>\n",
       "      <td>...</td>\n",
       "    </tr>\n",
       "    <tr>\n",
       "      <th>81</th>\n",
       "      <td>Riders In the Sky</td>\n",
       "      <td>Vaughn Monroe</td>\n",
       "      <td>2010</td>\n",
       "      <td>2.945100</td>\n",
       "      <td>Best of Vaughn Monroe</td>\n",
       "      <td>False</td>\n",
       "    </tr>\n",
       "    <tr>\n",
       "      <th>82</th>\n",
       "      <td>Some Enchanted Evening</td>\n",
       "      <td>Perry Como</td>\n",
       "      <td>1988</td>\n",
       "      <td>3.474433</td>\n",
       "      <td>All Time Greatest Hits</td>\n",
       "      <td>False</td>\n",
       "    </tr>\n",
       "    <tr>\n",
       "      <th>83</th>\n",
       "      <td>You're Breaking My Heart</td>\n",
       "      <td>Vic Damone With Orchestra</td>\n",
       "      <td>2016</td>\n",
       "      <td>3.200000</td>\n",
       "      <td>Songs</td>\n",
       "      <td>False</td>\n",
       "    </tr>\n",
       "    <tr>\n",
       "      <th>84</th>\n",
       "      <td>That Lucky Old Sun</td>\n",
       "      <td>Frankie Laine</td>\n",
       "      <td>1958</td>\n",
       "      <td>3.518433</td>\n",
       "      <td>Frankie Laine's Greatest Hits</td>\n",
       "      <td>False</td>\n",
       "    </tr>\n",
       "    <tr>\n",
       "      <th>85</th>\n",
       "      <td>Mule Train</td>\n",
       "      <td>Frankie Laine</td>\n",
       "      <td>2014</td>\n",
       "      <td>2.596883</td>\n",
       "      <td>The Essential Frankie Laine</td>\n",
       "      <td>False</td>\n",
       "    </tr>\n",
       "  </tbody>\n",
       "</table>\n",
       "<p>86 rows × 6 columns</p>\n",
       "</div>"
      ],
      "text/plain": [
       "                                        cancion                   cantante  \\\n",
       "0                        I'll Never Smile Again               Tommy Dorsey   \n",
       "1                 Only Forever - Single Version                Bing Crosby   \n",
       "2                                       Frenesi                 Artie Shaw   \n",
       "3   Song of the Volga Boatmen - Remastered 2002               Glenn Miller   \n",
       "4                                       Amapola               Jimmy Dorsey   \n",
       "..                                          ...                        ...   \n",
       "81                            Riders In the Sky              Vaughn Monroe   \n",
       "82                       Some Enchanted Evening                 Perry Como   \n",
       "83                     You're Breaking My Heart  Vic Damone With Orchestra   \n",
       "84                           That Lucky Old Sun              Frankie Laine   \n",
       "85                                   Mule Train              Frankie Laine   \n",
       "\n",
       "     año  duracion_minutos                                     album  \\\n",
       "0   1990          3.157767                 The Seventeen Number Ones   \n",
       "1   1993          3.200667        Bing-His Legendary Years 1931-1957   \n",
       "2   1938          3.040217  Ultimate Big Band Collection: Artie Shaw   \n",
       "3   2005          3.446217                          Jazz Moods - Hot   \n",
       "4   2010          3.441867                    The Great Jimmy Dorsey   \n",
       "..   ...               ...                                       ...   \n",
       "81  2010          2.945100                     Best of Vaughn Monroe   \n",
       "82  1988          3.474433                    All Time Greatest Hits   \n",
       "83  2016          3.200000                                     Songs   \n",
       "84  1958          3.518433             Frankie Laine's Greatest Hits   \n",
       "85  2014          2.596883               The Essential Frankie Laine   \n",
       "\n",
       "    explicito  \n",
       "0       False  \n",
       "1       False  \n",
       "2       False  \n",
       "3       False  \n",
       "4       False  \n",
       "..        ...  \n",
       "81      False  \n",
       "82      False  \n",
       "83      False  \n",
       "84      False  \n",
       "85      False  \n",
       "\n",
       "[86 rows x 6 columns]"
      ]
     },
     "execution_count": 9,
     "metadata": {},
     "output_type": "execute_result"
    }
   ],
   "source": [
    "df_1940"
   ]
  },
  {
   "cell_type": "code",
   "execution_count": 10,
   "id": "a4c3f565-e47b-4974-9007-6989797deee8",
   "metadata": {
    "tags": []
   },
   "outputs": [
    {
     "data": {
      "text/plain": [
       "explicito\n",
       "False    86\n",
       "Name: count, dtype: int64"
      ]
     },
     "execution_count": 10,
     "metadata": {},
     "output_type": "execute_result"
    }
   ],
   "source": [
    "df_1940.explicito.value_counts() # encontramos los explicitos"
   ]
  },
  {
   "cell_type": "code",
   "execution_count": 11,
   "id": "519eb697-24b3-4842-b871-9d646af2663e",
   "metadata": {
    "tags": []
   },
   "outputs": [
    {
     "data": {
      "text/plain": [
       "86"
      ]
     },
     "execution_count": 11,
     "metadata": {},
     "output_type": "execute_result"
    }
   ],
   "source": [
    "df_1940.cantante.value_counts().sum() #Contamos las mujeres por los hombres"
   ]
  },
  {
   "cell_type": "code",
   "execution_count": 12,
   "id": "c5b9de52-37cd-4f38-a567-8e408b155cb3",
   "metadata": {
    "tags": []
   },
   "outputs": [
    {
     "data": {
      "text/plain": [
       "12.790697674418606"
      ]
     },
     "execution_count": 12,
     "metadata": {},
     "output_type": "execute_result"
    }
   ],
   "source": [
    "(11/86)*100 #Calculamos el porcentaje de mujeres por el de los hombres e indagamos que de aqui el uno por ciento son mujeres"
   ]
  },
  {
   "cell_type": "code",
   "execution_count": 13,
   "id": "f82b50ea-5bc8-47ba-96dd-a0384c249f3f",
   "metadata": {
    "tags": []
   },
   "outputs": [
    {
     "data": {
      "text/html": [
       "<div>\n",
       "<style scoped>\n",
       "    .dataframe tbody tr th:only-of-type {\n",
       "        vertical-align: middle;\n",
       "    }\n",
       "\n",
       "    .dataframe tbody tr th {\n",
       "        vertical-align: top;\n",
       "    }\n",
       "\n",
       "    .dataframe thead th {\n",
       "        text-align: right;\n",
       "    }\n",
       "</style>\n",
       "<table border=\"1\" class=\"dataframe\">\n",
       "  <thead>\n",
       "    <tr style=\"text-align: right;\">\n",
       "      <th></th>\n",
       "      <th>duracion_minutos</th>\n",
       "    </tr>\n",
       "    <tr>\n",
       "      <th>cancion</th>\n",
       "      <th></th>\n",
       "    </tr>\n",
       "  </thead>\n",
       "  <tbody>\n",
       "    <tr>\n",
       "      <th>(I Got Spurs That) Jingle, Jangle, Jingle</th>\n",
       "      <td>3.334433</td>\n",
       "    </tr>\n",
       "    <tr>\n",
       "      <th>(I Love You) For Sentimental Reasons</th>\n",
       "      <td>2.877767</td>\n",
       "    </tr>\n",
       "    <tr>\n",
       "      <th>A Little Bird Told Me</th>\n",
       "      <td>2.647933</td>\n",
       "    </tr>\n",
       "    <tr>\n",
       "      <th>A String of Pearls</th>\n",
       "      <td>3.200433</td>\n",
       "    </tr>\n",
       "    <tr>\n",
       "      <th>A Tree In The Meadow - Remastered 1990</th>\n",
       "      <td>2.573333</td>\n",
       "    </tr>\n",
       "  </tbody>\n",
       "</table>\n",
       "</div>"
      ],
      "text/plain": [
       "                                           duracion_minutos\n",
       "cancion                                                    \n",
       "(I Got Spurs That) Jingle, Jangle, Jingle          3.334433\n",
       "(I Love You) For Sentimental Reasons               2.877767\n",
       "A Little Bird Told Me                              2.647933\n",
       "A String of Pearls                                 3.200433\n",
       "A Tree In The Meadow - Remastered 1990             2.573333"
      ]
     },
     "execution_count": 13,
     "metadata": {},
     "output_type": "execute_result"
    }
   ],
   "source": [
    "df_1940_Duration= df_1940.groupby([\"cancion\"]).agg({\"duracion_minutos\":'sum'})\n",
    "df_1940_Duration.head()"
   ]
  },
  {
   "cell_type": "code",
   "execution_count": 14,
   "id": "58bb1da1-2e72-4e6a-91d2-1289019889a9",
   "metadata": {
    "tags": []
   },
   "outputs": [
    {
     "data": {
      "image/png": "[encoded data removed]",
      "text/plain": [
       "<Figure size 640x480 with 1 Axes>"
      ]
     },
     "metadata": {},
     "output_type": "display_data"
    }
   ],
   "source": [
    "df_plot=df_1940_Duration.plot()"
   ]
  },
  {
   "cell_type": "code",
   "execution_count": 15,
   "id": "d6d731b7-eabf-4dc6-aaca-cf89190117f4",
   "metadata": {
    "tags": []
   },
   "outputs": [
    {
     "data": {
      "image/png": "[encoded data removed]",
      "text/plain": [
       "<Figure size 640x480 with 1 Axes>"
      ]
     },
     "metadata": {},
     "output_type": "display_data"
    }
   ],
   "source": [
    "plt.plot(df_1940[\"duracion_minutos\"].round())\n",
    "plt.xticks(rotation=45,fontsize=8) \n",
    "plt.show()\n"
   ]
  },
  {
   "cell_type": "code",
   "execution_count": 35,
   "id": "a14000f3-3d14-4336-85d4-da0b53ed6a50",
   "metadata": {
    "tags": []
   },
   "outputs": [
    {
     "data": {
      "text/plain": [
       "count    86.000000\n",
       "mean      3.025729\n",
       "std       0.323470\n",
       "min       2.016217\n",
       "25%       2.832267\n",
       "50%       3.060217\n",
       "75%       3.212275\n",
       "max       3.847100\n",
       "Name: duracion_minutos, dtype: float64"
      ]
     },
     "execution_count": 35,
     "metadata": {},
     "output_type": "execute_result"
    }
   ],
   "source": [
    "df_1940.duracion_minutos.describe()"
   ]
  },
  {
   "cell_type": "code",
   "execution_count": null,
   "id": "4045f65c-a7d6-4a1e-9ec1-3fef74a0a71e",
   "metadata": {},
   "outputs": [],
   "source": [
    "\n",
    "sizes = [11, 86]  # Porcentajes de cada categoría\n",
    "labels = ['', 'B', 'C', 'D']  # Etiquetas de las categorías\n",
    "\n",
    "plt.pie(sizes, labels=labels, autopct='%1.1f%%')  # Crear el gráfico circular\n",
    "plt.show()"
   ]
  }
 ],
 "metadata": {
  "kernelspec": {
   "display_name": "Python 3 (ipykernel)",
   "language": "python",
   "name": "python3"
  },
  "language_info": {
   "codemirror_mode": {
    "name": "ipython",
    "version": 3
   },
   "file_extension": ".py",
   "mimetype": "text/x-python",
   "name": "python",
   "nbconvert_exporter": "python",
   "pygments_lexer": "ipython3",
   "version": "3.11.5"
  }
 },
 "nbformat": 4,
 "nbformat_minor": 5
}
