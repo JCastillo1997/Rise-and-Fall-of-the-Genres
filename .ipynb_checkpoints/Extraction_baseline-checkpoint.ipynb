{
 "cells": [
  {
   "cell_type": "code",
   "execution_count": 1,
   "id": "3942717f-d09e-4a36-a392-b75aaabfb5a8",
   "metadata": {
    "tags": []
   },
   "outputs": [],
   "source": [
    "import pandas as pd"
   ]
  },
  {
   "cell_type": "code",
   "execution_count": 23,
   "id": "513c455d-060f-469c-9bff-fa4a5c4ace92",
   "metadata": {
    "tags": []
   },
   "outputs": [],
   "source": [
    "import Function"
   ]
  },
  {
   "cell_type": "code",
   "execution_count": 25,
   "id": "8b8d7bc3-34a8-4506-921f-722dd23f8008",
   "metadata": {
    "tags": []
   },
   "outputs": [],
   "source": [
    "CLIENT_ID = \"8aaea3fe61404b23aa07c9f760df3985\"\n",
    "CLIENT_SECRET = \"e6670aad9bc94f1ba66f382abe39394c\""
   ]
  },
  {
   "cell_type": "code",
   "execution_count": 27,
   "id": "aef6bc6f-a778-42ba-8cbb-3bd58e783a6a",
   "metadata": {
    "tags": []
   },
   "outputs": [
    {
     "name": "stdout",
     "output_type": "stream",
     "text": [
      "Requirement already satisfied: spotipy in c:\\users\\casti\\anaconda3\\lib\\site-packages (2.23.0)\n",
      "Requirement already satisfied: redis>=3.5.3 in c:\\users\\casti\\anaconda3\\lib\\site-packages (from spotipy) (5.0.1)\n",
      "Requirement already satisfied: requests>=2.25.0 in c:\\users\\casti\\anaconda3\\lib\\site-packages (from spotipy) (2.31.0)\n",
      "Requirement already satisfied: six>=1.15.0 in c:\\users\\casti\\anaconda3\\lib\\site-packages (from spotipy) (1.16.0)\n",
      "Requirement already satisfied: urllib3>=1.26.0 in c:\\users\\casti\\anaconda3\\lib\\site-packages (from spotipy) (1.26.18)\n",
      "Requirement already satisfied: charset-normalizer<4,>=2 in c:\\users\\casti\\anaconda3\\lib\\site-packages (from requests>=2.25.0->spotipy) (3.1.0)\n",
      "Requirement already satisfied: idna<4,>=2.5 in c:\\users\\casti\\anaconda3\\lib\\site-packages (from requests>=2.25.0->spotipy) (3.4)\n",
      "Requirement already satisfied: certifi>=2017.4.17 in c:\\users\\casti\\anaconda3\\lib\\site-packages (from requests>=2.25.0->spotipy) (2023.5.7)\n"
     ]
    }
   ],
   "source": [
    "!pip install spotipy"
   ]
  },
  {
   "cell_type": "code",
   "execution_count": 28,
   "id": "bc21fbd4-ae28-4698-9d3a-edcb692bd3b7",
   "metadata": {
    "tags": []
   },
   "outputs": [],
   "source": [
    "import spotipy\n",
    "from spotipy.oauth2 import SpotifyClientCredentials\n",
    "\n",
    "\n",
    "sp = spotipy.Spotify(auth_manager=SpotifyClientCredentials(client_id=CLIENT_ID,\n",
    "                                                           client_secret=CLIENT_SECRET))"
   ]
  },
  {
   "cell_type": "code",
   "execution_count": null,
   "id": "284c0a13-b5d9-46f2-b2f6-6ec73a404e92",
   "metadata": {},
   "outputs": [],
   "source": [
    "create_playlist_dataframe(playlist_id)"
   ]
  }
 ],
 "metadata": {
  "kernelspec": {
   "display_name": "Python 3 (ipykernel)",
   "language": "python",
   "name": "python3"
  },
  "language_info": {
   "codemirror_mode": {
    "name": "ipython",
    "version": 3
   },
   "file_extension": ".py",
   "mimetype": "text/x-python",
   "name": "python",
   "nbconvert_exporter": "python",
   "pygments_lexer": "ipython3",
   "version": "3.11.5"
  }
 },
 "nbformat": 4,
 "nbformat_minor": 5
}
