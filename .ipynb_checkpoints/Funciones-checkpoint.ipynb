{
 "cells": [
  {
   "cell_type": "code",
   "execution_count": 1,
   "id": "6f69a990-a1b0-4345-95a7-ca1847733fdd",
   "metadata": {
    "tags": []
   },
   "outputs": [],
   "source": [
    "import pandas as pd"
   ]
  },
  {
   "cell_type": "code",
   "execution_count": 2,
   "id": "38439f1b-8cf6-4425-9ca2-4cca9c3d835e",
   "metadata": {
    "tags": []
   },
   "outputs": [],
   "source": [
    "CLIENT_ID = \"8aaea3fe61404b23aa07c9f760df3985\"\n",
    "CLIENT_SECRET = \"e6670aad9bc94f1ba66f382abe39394c\""
   ]
  },
  {
   "cell_type": "code",
   "execution_count": 3,
   "id": "b54fa75d-fdad-496e-ac4a-28b61545b596",
   "metadata": {
    "tags": []
   },
   "outputs": [
    {
     "name": "stdout",
     "output_type": "stream",
     "text": [
      "Requirement already satisfied: spotipy in c:\\users\\casti\\anaconda3\\lib\\site-packages (2.23.0)\n",
      "Requirement already satisfied: redis>=3.5.3 in c:\\users\\casti\\anaconda3\\lib\\site-packages (from spotipy) (5.0.1)\n",
      "Requirement already satisfied: requests>=2.25.0 in c:\\users\\casti\\anaconda3\\lib\\site-packages (from spotipy) (2.31.0)\n",
      "Requirement already satisfied: six>=1.15.0 in c:\\users\\casti\\anaconda3\\lib\\site-packages (from spotipy) (1.16.0)\n",
      "Requirement already satisfied: urllib3>=1.26.0 in c:\\users\\casti\\anaconda3\\lib\\site-packages (from spotipy) (1.26.18)\n",
      "Requirement already satisfied: charset-normalizer<4,>=2 in c:\\users\\casti\\anaconda3\\lib\\site-packages (from requests>=2.25.0->spotipy) (3.1.0)\n",
      "Requirement already satisfied: idna<4,>=2.5 in c:\\users\\casti\\anaconda3\\lib\\site-packages (from requests>=2.25.0->spotipy) (3.4)\n",
      "Requirement already satisfied: certifi>=2017.4.17 in c:\\users\\casti\\anaconda3\\lib\\site-packages (from requests>=2.25.0->spotipy) (2023.5.7)\n"
     ]
    }
   ],
   "source": [
    "!pip install spotipy"
   ]
  },
  {
   "cell_type": "code",
   "execution_count": 4,
   "id": "ca3a4ed3-0fe4-465d-852d-3c0d7d3d605c",
   "metadata": {
    "tags": []
   },
   "outputs": [],
   "source": [
    "import spotipy\n",
    "from spotipy.oauth2 import SpotifyClientCredentials\n",
    "\n",
    "\n",
    "sp = spotipy.Spotify(auth_manager=SpotifyClientCredentials(client_id=CLIENT_ID,\n",
    "                                                           client_secret=CLIENT_SECRET))"
   ]
  },
  {
   "cell_type": "code",
   "execution_count": null,
   "id": "e1c12127-88d2-4ff2-ae53-de25a719c018",
   "metadata": {
    "tags": []
   },
   "outputs": [],
   "source": [
    "playlist_id = '245g9upOJ2BLTCcKeFyRDf'  \n",
    "\n",
    "\n",
    "song_names = []\n",
    "durations = []\n",
    "artists_list = []\n",
    "release_years = []\n",
    "genres = []\n",
    "\n",
    "\n",
    "playlist = sp.user_playlist_tracks(user='spotify', playlist_id=playlist_id)\n",
    "\n",
    "for track in playlist['items']:\n",
    "    song_names.append(track['track']['name'])\n",
    "    durations.append(track['track']['duration_ms'] / 60000)  \n",
    "    artists = [artist['name'] for artist in track['track']['artists']]\n",
    "    artists_list.append(', '.join(artists))\n",
    "    release_years.append(track['track']['album']['release_date'][:4]) "
   ]
  },
  {
   "cell_type": "markdown",
   "id": "08ab9d14-b25c-4585-a5c0-7fcd3604fc0e",
   "metadata": {},
   "source": [
    "\n",
    "    for track in tracks:\n",
    "    song_id = track['track']['id']\n",
    "    track_info = sp.track(song_id)\n",
    "    generos.extend(track_info['genres'])"
   ]
  },
  {
   "cell_type": "code",
   "execution_count": null,
   "id": "e2c7be76-7134-439a-894d-963da3916eb0",
   "metadata": {
    "tags": []
   },
   "outputs": [],
   "source": [
    "type(song_names)"
   ]
  },
  {
   "cell_type": "markdown",
   "id": "4b8e5b75-4604-4cf6-b609-66111467718f",
   "metadata": {
    "tags": []
   },
   "source": [
    "results = sp.playlist_tracks('245g9upOJ2BLTCcKeFyRDf')\n",
    "\n",
    "for item in results['items']:\n",
    "    track = item['track']\n",
    "    track_name = track['name']\n",
    "    artists = track['artists']\n",
    "\n",
    "    for artist in artists:\n",
    "        artist_id = artist['id']\n",
    "\n",
    "        artist_info = sp.artist(artist_id)\n",
    "        genres_1 = artist_info['genres']\n",
    "        genres.append(genres_1)"
   ]
  },
  {
   "cell_type": "code",
   "execution_count": null,
   "id": "420bf84a-a2da-4d35-ba1b-b0d6a5c368c1",
   "metadata": {
    "tags": []
   },
   "outputs": [],
   "source": [
    "data = {\n",
    "    'Canción': song_names,\n",
    "    'Duración (minutos)': durations,\n",
    "    'Artistas': artists_list,\n",
    "    'Año de salida': release_years,\n",
    "    'Género': genres\n",
    "}\n",
    "df = pd.DataFrame(data)                   "
   ]
  },
  {
   "cell_type": "code",
   "execution_count": null,
   "id": "1d5ee858-af74-441f-ab46-e8b812a985bb",
   "metadata": {
    "tags": []
   },
   "outputs": [],
   "source": [
    "print(len(song_names))\n",
    "print(len(durations))\n",
    "print(len(artists_list))\n",
    "print(len(release_years))\n",
    "print(len(genres))"
   ]
  }
 ],
 "metadata": {
  "kernelspec": {
   "display_name": "Python 3 (ipykernel)",
   "language": "python",
   "name": "python3"
  },
  "language_info": {
   "codemirror_mode": {
    "name": "ipython",
    "version": 3
   },
   "file_extension": ".py",
   "mimetype": "text/x-python",
   "name": "python",
   "nbconvert_exporter": "python",
   "pygments_lexer": "ipython3",
   "version": "3.11.5"
  }
 },
 "nbformat": 4,
 "nbformat_minor": 5
}
