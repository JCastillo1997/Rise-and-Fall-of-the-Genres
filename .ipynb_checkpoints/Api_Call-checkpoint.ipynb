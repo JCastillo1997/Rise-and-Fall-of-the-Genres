{
 "cells": [
  {
   "cell_type": "code",
   "execution_count": 3,
   "id": "b664bb7b-19f2-41f5-8b45-d4bafdbd13f5",
   "metadata": {
    "tags": []
   },
   "outputs": [],
   "source": [
    "import pandas as pd"
   ]
  },
  {
   "cell_type": "code",
   "execution_count": 5,
   "id": "18a22f97-0832-4ec7-8959-1461a5df66af",
   "metadata": {
    "tags": []
   },
   "outputs": [],
   "source": [
    "CLIENT_ID = \"8aaea3fe61404b23aa07c9f760df3985\"\n",
    "CLIENT_SECRET = \"e6670aad9bc94f1ba66f382abe39394c\""
   ]
  },
  {
   "cell_type": "code",
   "execution_count": 7,
   "id": "62248993-c648-433a-a096-32dadb24b89d",
   "metadata": {
    "tags": []
   },
   "outputs": [
    {
     "name": "stdout",
     "output_type": "stream",
     "text": [
      "Requirement already satisfied: spotipy in c:\\users\\casti\\anaconda3\\lib\\site-packages (2.23.0)\n",
      "Requirement already satisfied: redis>=3.5.3 in c:\\users\\casti\\anaconda3\\lib\\site-packages (from spotipy) (5.0.1)\n",
      "Requirement already satisfied: requests>=2.25.0 in c:\\users\\casti\\anaconda3\\lib\\site-packages (from spotipy) (2.31.0)\n",
      "Requirement already satisfied: six>=1.15.0 in c:\\users\\casti\\anaconda3\\lib\\site-packages (from spotipy) (1.16.0)\n",
      "Requirement already satisfied: urllib3>=1.26.0 in c:\\users\\casti\\anaconda3\\lib\\site-packages (from spotipy) (1.26.18)\n",
      "Requirement already satisfied: charset-normalizer<4,>=2 in c:\\users\\casti\\anaconda3\\lib\\site-packages (from requests>=2.25.0->spotipy) (3.1.0)\n",
      "Requirement already satisfied: idna<4,>=2.5 in c:\\users\\casti\\anaconda3\\lib\\site-packages (from requests>=2.25.0->spotipy) (3.4)\n",
      "Requirement already satisfied: certifi>=2017.4.17 in c:\\users\\casti\\anaconda3\\lib\\site-packages (from requests>=2.25.0->spotipy) (2023.5.7)\n"
     ]
    }
   ],
   "source": [
    "!pip install spotipy"
   ]
  },
  {
   "cell_type": "code",
   "execution_count": 8,
   "id": "ba3fc2cf-eb6d-4fbc-acd6-2d1a98a0ff73",
   "metadata": {
    "tags": []
   },
   "outputs": [],
   "source": [
    "import spotipy\n",
    "from spotipy.oauth2 import SpotifyClientCredentials\n",
    "\n",
    "\n",
    "sp = spotipy.Spotify(auth_manager=SpotifyClientCredentials(client_id=CLIENT_ID,\n",
    "                                                           client_secret=CLIENT_SECRET))"
   ]
  },
  {
   "cell_type": "code",
   "execution_count": 77,
   "id": "d5f129d3-1cd7-4a43-8b95-0779fffd2a9c",
   "metadata": {
    "tags": []
   },
   "outputs": [],
   "source": [
    "playlist_link = \"https://open.spotify.com/playlist/245g9upOJ2BLTCcKeFyRDf?si=eeeb8f93352a41fb\"\n",
    "playlist_URI = playlist_link.split(\"/\")[-1].split(\"?\")[0]\n",
    "track_uris = [x[\"track\"][\"uri\"] for x in sp.playlist_tracks(playlist_URI)[\"items\"]]"
   ]
  },
  {
   "cell_type": "code",
   "execution_count": 89,
   "id": "b30aed1e-45ff-43b6-885d-2e7d070f8842",
   "metadata": {
    "tags": []
   },
   "outputs": [],
   "source": [
    "lista_playlist= sp.playlist_tracks('245g9upOJ2BLTCcKeFyRDf')['items']\n",
    "\n",
    "\n",
    "\n"
   ]
  },
  {
   "cell_type": "code",
   "execution_count": 238,
   "id": "47d0e7e0-9d45-41cf-8f7f-d30f57199139",
   "metadata": {
    "tags": []
   },
   "outputs": [],
   "source": [
    "Canciones=[e['track']['name'] for e in lista_playlist]\n",
    "Artistas = [e['track']['artists'][0]['name'] for e in lista_playlist]\n",
    "Genero = [sp.search(q=Artistas, type='artist')['artists']['items'][0]['genres'] for artista in results]\n"
   ]
  },
  {
   "cell_type": "code",
   "execution_count": 244,
   "id": "d08e4521-64ef-43c8-bff9-1aeb73ab6dda",
   "metadata": {
    "tags": []
   },
   "outputs": [
    {
     "ename": "TypeError",
     "evalue": "list indices must be integers or slices, not str",
     "output_type": "error",
     "traceback": [
      "\u001b[1;31m---------------------------------------------------------------------------\u001b[0m",
      "\u001b[1;31mTypeError\u001b[0m                                 Traceback (most recent call last)",
      "Cell \u001b[1;32mIn[244], line 1\u001b[0m\n\u001b[1;32m----> 1\u001b[0m generos \u001b[38;5;241m=\u001b[39m Canciones[\u001b[38;5;124m'\u001b[39m\u001b[38;5;124mtracks\u001b[39m\u001b[38;5;124m'\u001b[39m][\u001b[38;5;124m'\u001b[39m\u001b[38;5;124mitems\u001b[39m\u001b[38;5;124m'\u001b[39m][\u001b[38;5;241m0\u001b[39m][\u001b[38;5;124m'\u001b[39m\u001b[38;5;124malbum\u001b[39m\u001b[38;5;124m'\u001b[39m][\u001b[38;5;124m'\u001b[39m\u001b[38;5;124mgenres\u001b[39m\u001b[38;5;124m'\u001b[39m]\n",
      "\u001b[1;31mTypeError\u001b[0m: list indices must be integers or slices, not str"
     ]
    }
   ],
   "source": [
    "generos = "
   ]
  },
  {
   "cell_type": "code",
   "execution_count": null,
   "id": "3205e706-41e7-4256-bab6-528b3cf3727d",
   "metadata": {},
   "outputs": [],
   "source": [
    "Can"
   ]
  },
  {
   "cell_type": "code",
   "execution_count": 228,
   "id": "ec632519-2bc6-404c-a4d1-de3e520f0ed6",
   "metadata": {
    "tags": []
   },
   "outputs": [],
   "source": [
    "Tabla=({'Canciones':Canciones,'Artistas':Artistas,'Generos':Generos})"
   ]
  },
  {
   "cell_type": "code",
   "execution_count": 232,
   "id": "83ebe0da-9403-4181-9960-b6af04ac8d84",
   "metadata": {
    "tags": []
   },
   "outputs": [
    {
     "data": {
      "text/html": [
       "<div>\n",
       "<style scoped>\n",
       "    .dataframe tbody tr th:only-of-type {\n",
       "        vertical-align: middle;\n",
       "    }\n",
       "\n",
       "    .dataframe tbody tr th {\n",
       "        vertical-align: top;\n",
       "    }\n",
       "\n",
       "    .dataframe thead th {\n",
       "        text-align: right;\n",
       "    }\n",
       "</style>\n",
       "<table border=\"1\" class=\"dataframe\">\n",
       "  <thead>\n",
       "    <tr style=\"text-align: right;\">\n",
       "      <th></th>\n",
       "      <th>Canciones</th>\n",
       "      <th>Artistas</th>\n",
       "      <th>Generos</th>\n",
       "    </tr>\n",
       "  </thead>\n",
       "  <tbody>\n",
       "    <tr>\n",
       "      <th>0</th>\n",
       "      <td>I'll Never Smile Again</td>\n",
       "      <td>Tommy Dorsey</td>\n",
       "      <td>[adult standards, big band, dixieland, jazz tr...</td>\n",
       "    </tr>\n",
       "    <tr>\n",
       "      <th>1</th>\n",
       "      <td>Only Forever - Single Version</td>\n",
       "      <td>Bing Crosby</td>\n",
       "      <td>None</td>\n",
       "    </tr>\n",
       "    <tr>\n",
       "      <th>2</th>\n",
       "      <td>Frenesi</td>\n",
       "      <td>Artie Shaw</td>\n",
       "      <td>None</td>\n",
       "    </tr>\n",
       "    <tr>\n",
       "      <th>3</th>\n",
       "      <td>Song of the Volga Boatmen - Remastered 2002</td>\n",
       "      <td>Glenn Miller</td>\n",
       "      <td>None</td>\n",
       "    </tr>\n",
       "    <tr>\n",
       "      <th>4</th>\n",
       "      <td>Amapola</td>\n",
       "      <td>Jimmy Dorsey</td>\n",
       "      <td>None</td>\n",
       "    </tr>\n",
       "    <tr>\n",
       "      <th>5</th>\n",
       "      <td>Maria Elena - Remastered</td>\n",
       "      <td>Jimmy Dorsey</td>\n",
       "      <td>None</td>\n",
       "    </tr>\n",
       "    <tr>\n",
       "      <th>6</th>\n",
       "      <td>Daddy</td>\n",
       "      <td>Sammy Kaye</td>\n",
       "      <td>None</td>\n",
       "    </tr>\n",
       "    <tr>\n",
       "      <th>7</th>\n",
       "      <td>Green Eyes - Remastered</td>\n",
       "      <td>Jimmy Dorsey</td>\n",
       "      <td>None</td>\n",
       "    </tr>\n",
       "    <tr>\n",
       "      <th>8</th>\n",
       "      <td>Blue Champagne - Remastered</td>\n",
       "      <td>Jimmy Dorsey</td>\n",
       "      <td>None</td>\n",
       "    </tr>\n",
       "    <tr>\n",
       "      <th>9</th>\n",
       "      <td>Piano Concerto in B-Flat (Tonight We Love)</td>\n",
       "      <td>Freddy Martin &amp; His Orchestra</td>\n",
       "      <td>None</td>\n",
       "    </tr>\n",
       "    <tr>\n",
       "      <th>10</th>\n",
       "      <td>Chattanooga Choo Choo</td>\n",
       "      <td>Glenn Miller</td>\n",
       "      <td>None</td>\n",
       "    </tr>\n",
       "    <tr>\n",
       "      <th>11</th>\n",
       "      <td>Elmer's Tune - 2002 Remastered</td>\n",
       "      <td>Glenn Miller</td>\n",
       "      <td>None</td>\n",
       "    </tr>\n",
       "    <tr>\n",
       "      <th>12</th>\n",
       "      <td>A String of Pearls</td>\n",
       "      <td>Glenn Miller</td>\n",
       "      <td>None</td>\n",
       "    </tr>\n",
       "    <tr>\n",
       "      <th>13</th>\n",
       "      <td>Blues In The Night</td>\n",
       "      <td>Woody Herman &amp; His Orchestra</td>\n",
       "      <td>None</td>\n",
       "    </tr>\n",
       "    <tr>\n",
       "      <th>14</th>\n",
       "      <td>Moonlight Cocktail - Remastered</td>\n",
       "      <td>Glenn Miller</td>\n",
       "      <td>None</td>\n",
       "    </tr>\n",
       "    <tr>\n",
       "      <th>15</th>\n",
       "      <td>Tangerine - Remastered</td>\n",
       "      <td>Jimmy Dorsey</td>\n",
       "      <td>None</td>\n",
       "    </tr>\n",
       "    <tr>\n",
       "      <th>16</th>\n",
       "      <td>Sleepy Lagoon</td>\n",
       "      <td>Harry James</td>\n",
       "      <td>None</td>\n",
       "    </tr>\n",
       "    <tr>\n",
       "      <th>17</th>\n",
       "      <td>(I Got Spurs That) Jingle, Jangle, Jingle</td>\n",
       "      <td>Kay Kyser &amp; His Orchestra</td>\n",
       "      <td>None</td>\n",
       "    </tr>\n",
       "    <tr>\n",
       "      <th>18</th>\n",
       "      <td>There Are Such Things</td>\n",
       "      <td>Tommy Dorsey</td>\n",
       "      <td>None</td>\n",
       "    </tr>\n",
       "    <tr>\n",
       "      <th>19</th>\n",
       "      <td>I Had The Craziest Dream</td>\n",
       "      <td>Harry James</td>\n",
       "      <td>None</td>\n",
       "    </tr>\n",
       "  </tbody>\n",
       "</table>\n",
       "</div>"
      ],
      "text/plain": [
       "                                      Canciones  \\\n",
       "0                        I'll Never Smile Again   \n",
       "1                 Only Forever - Single Version   \n",
       "2                                       Frenesi   \n",
       "3   Song of the Volga Boatmen - Remastered 2002   \n",
       "4                                       Amapola   \n",
       "5                      Maria Elena - Remastered   \n",
       "6                                         Daddy   \n",
       "7                       Green Eyes - Remastered   \n",
       "8                   Blue Champagne - Remastered   \n",
       "9    Piano Concerto in B-Flat (Tonight We Love)   \n",
       "10                        Chattanooga Choo Choo   \n",
       "11               Elmer's Tune - 2002 Remastered   \n",
       "12                           A String of Pearls   \n",
       "13                           Blues In The Night   \n",
       "14              Moonlight Cocktail - Remastered   \n",
       "15                       Tangerine - Remastered   \n",
       "16                                Sleepy Lagoon   \n",
       "17    (I Got Spurs That) Jingle, Jangle, Jingle   \n",
       "18                        There Are Such Things   \n",
       "19                     I Had The Craziest Dream   \n",
       "\n",
       "                         Artistas  \\\n",
       "0                    Tommy Dorsey   \n",
       "1                     Bing Crosby   \n",
       "2                      Artie Shaw   \n",
       "3                    Glenn Miller   \n",
       "4                    Jimmy Dorsey   \n",
       "5                    Jimmy Dorsey   \n",
       "6                      Sammy Kaye   \n",
       "7                    Jimmy Dorsey   \n",
       "8                    Jimmy Dorsey   \n",
       "9   Freddy Martin & His Orchestra   \n",
       "10                   Glenn Miller   \n",
       "11                   Glenn Miller   \n",
       "12                   Glenn Miller   \n",
       "13   Woody Herman & His Orchestra   \n",
       "14                   Glenn Miller   \n",
       "15                   Jimmy Dorsey   \n",
       "16                    Harry James   \n",
       "17      Kay Kyser & His Orchestra   \n",
       "18                   Tommy Dorsey   \n",
       "19                    Harry James   \n",
       "\n",
       "                                              Generos  \n",
       "0   [adult standards, big band, dixieland, jazz tr...  \n",
       "1                                                None  \n",
       "2                                                None  \n",
       "3                                                None  \n",
       "4                                                None  \n",
       "5                                                None  \n",
       "6                                                None  \n",
       "7                                                None  \n",
       "8                                                None  \n",
       "9                                                None  \n",
       "10                                               None  \n",
       "11                                               None  \n",
       "12                                               None  \n",
       "13                                               None  \n",
       "14                                               None  \n",
       "15                                               None  \n",
       "16                                               None  \n",
       "17                                               None  \n",
       "18                                               None  \n",
       "19                                               None  "
      ]
     },
     "execution_count": 232,
     "metadata": {},
     "output_type": "execute_result"
    }
   ],
   "source": [
    "max_length = max(len(Canciones), len(Artistas), len(Generos))\n",
    "\n",
    "# Pad the lists with NaN to make them of the same length\n",
    "max_length = max(len(Canciones), len(Artistas), len(Generos))\n",
    "Canciones += [None] * (max_length - len(Canciones))\n",
    "Artistas += [None] * (max_length - len(Artistas))\n",
    "Generos += [None] * (max_length - len(Generos))\n",
    "\n",
    "# Create the DataFrame\n",
    "data = {\n",
    "    'Canciones': Canciones,\n",
    "    'Artistas': Artistas,\n",
    "    'Generos': Generos\n",
    "}\n",
    "\n",
    "Tabla = pd.DataFrame(data)\n",
    "Tabla.head(20)"
   ]
  },
  {
   "cell_type": "code",
   "execution_count": null,
   "id": "36b2a510-d70e-4101-8dc1-8c704c025ae7",
   "metadata": {},
   "outputs": [],
   "source": [
    "generos = []"
   ]
  },
  {
   "cell_type": "code",
   "execution_count": 166,
   "id": "b413eeb1-973b-4996-85ba-e9d464f609c7",
   "metadata": {
    "tags": []
   },
   "outputs": [
    {
     "ename": "ValueError",
     "evalue": "All arrays must be of the same length",
     "output_type": "error",
     "traceback": [
      "\u001b[1;31m---------------------------------------------------------------------------\u001b[0m",
      "\u001b[1;31mValueError\u001b[0m                                Traceback (most recent call last)",
      "Cell \u001b[1;32mIn[166], line 1\u001b[0m\n\u001b[1;32m----> 1\u001b[0m df\u001b[38;5;241m=\u001b[39mpd\u001b[38;5;241m.\u001b[39mDataFrame(Tabla)\n\u001b[0;32m      2\u001b[0m df\n",
      "File \u001b[1;32m~\\anaconda3\\Lib\\site-packages\\pandas\\core\\frame.py:709\u001b[0m, in \u001b[0;36mDataFrame.__init__\u001b[1;34m(self, data, index, columns, dtype, copy)\u001b[0m\n\u001b[0;32m    703\u001b[0m     mgr \u001b[38;5;241m=\u001b[39m \u001b[38;5;28mself\u001b[39m\u001b[38;5;241m.\u001b[39m_init_mgr(\n\u001b[0;32m    704\u001b[0m         data, axes\u001b[38;5;241m=\u001b[39m{\u001b[38;5;124m\"\u001b[39m\u001b[38;5;124mindex\u001b[39m\u001b[38;5;124m\"\u001b[39m: index, \u001b[38;5;124m\"\u001b[39m\u001b[38;5;124mcolumns\u001b[39m\u001b[38;5;124m\"\u001b[39m: columns}, dtype\u001b[38;5;241m=\u001b[39mdtype, copy\u001b[38;5;241m=\u001b[39mcopy\n\u001b[0;32m    705\u001b[0m     )\n\u001b[0;32m    707\u001b[0m \u001b[38;5;28;01melif\u001b[39;00m \u001b[38;5;28misinstance\u001b[39m(data, \u001b[38;5;28mdict\u001b[39m):\n\u001b[0;32m    708\u001b[0m     \u001b[38;5;66;03m# GH#38939 de facto copy defaults to False only in non-dict cases\u001b[39;00m\n\u001b[1;32m--> 709\u001b[0m     mgr \u001b[38;5;241m=\u001b[39m dict_to_mgr(data, index, columns, dtype\u001b[38;5;241m=\u001b[39mdtype, copy\u001b[38;5;241m=\u001b[39mcopy, typ\u001b[38;5;241m=\u001b[39mmanager)\n\u001b[0;32m    710\u001b[0m \u001b[38;5;28;01melif\u001b[39;00m \u001b[38;5;28misinstance\u001b[39m(data, ma\u001b[38;5;241m.\u001b[39mMaskedArray):\n\u001b[0;32m    711\u001b[0m     \u001b[38;5;28;01mfrom\u001b[39;00m \u001b[38;5;21;01mnumpy\u001b[39;00m\u001b[38;5;21;01m.\u001b[39;00m\u001b[38;5;21;01mma\u001b[39;00m \u001b[38;5;28;01mimport\u001b[39;00m mrecords\n",
      "File \u001b[1;32m~\\anaconda3\\Lib\\site-packages\\pandas\\core\\internals\\construction.py:481\u001b[0m, in \u001b[0;36mdict_to_mgr\u001b[1;34m(data, index, columns, dtype, typ, copy)\u001b[0m\n\u001b[0;32m    477\u001b[0m     \u001b[38;5;28;01melse\u001b[39;00m:\n\u001b[0;32m    478\u001b[0m         \u001b[38;5;66;03m# dtype check to exclude e.g. range objects, scalars\u001b[39;00m\n\u001b[0;32m    479\u001b[0m         arrays \u001b[38;5;241m=\u001b[39m [x\u001b[38;5;241m.\u001b[39mcopy() \u001b[38;5;28;01mif\u001b[39;00m \u001b[38;5;28mhasattr\u001b[39m(x, \u001b[38;5;124m\"\u001b[39m\u001b[38;5;124mdtype\u001b[39m\u001b[38;5;124m\"\u001b[39m) \u001b[38;5;28;01melse\u001b[39;00m x \u001b[38;5;28;01mfor\u001b[39;00m x \u001b[38;5;129;01min\u001b[39;00m arrays]\n\u001b[1;32m--> 481\u001b[0m \u001b[38;5;28;01mreturn\u001b[39;00m arrays_to_mgr(arrays, columns, index, dtype\u001b[38;5;241m=\u001b[39mdtype, typ\u001b[38;5;241m=\u001b[39mtyp, consolidate\u001b[38;5;241m=\u001b[39mcopy)\n",
      "File \u001b[1;32m~\\anaconda3\\Lib\\site-packages\\pandas\\core\\internals\\construction.py:115\u001b[0m, in \u001b[0;36marrays_to_mgr\u001b[1;34m(arrays, columns, index, dtype, verify_integrity, typ, consolidate)\u001b[0m\n\u001b[0;32m    112\u001b[0m \u001b[38;5;28;01mif\u001b[39;00m verify_integrity:\n\u001b[0;32m    113\u001b[0m     \u001b[38;5;66;03m# figure out the index, if necessary\u001b[39;00m\n\u001b[0;32m    114\u001b[0m     \u001b[38;5;28;01mif\u001b[39;00m index \u001b[38;5;129;01mis\u001b[39;00m \u001b[38;5;28;01mNone\u001b[39;00m:\n\u001b[1;32m--> 115\u001b[0m         index \u001b[38;5;241m=\u001b[39m _extract_index(arrays)\n\u001b[0;32m    116\u001b[0m     \u001b[38;5;28;01melse\u001b[39;00m:\n\u001b[0;32m    117\u001b[0m         index \u001b[38;5;241m=\u001b[39m ensure_index(index)\n",
      "File \u001b[1;32m~\\anaconda3\\Lib\\site-packages\\pandas\\core\\internals\\construction.py:655\u001b[0m, in \u001b[0;36m_extract_index\u001b[1;34m(data)\u001b[0m\n\u001b[0;32m    653\u001b[0m lengths \u001b[38;5;241m=\u001b[39m \u001b[38;5;28mlist\u001b[39m(\u001b[38;5;28mset\u001b[39m(raw_lengths))\n\u001b[0;32m    654\u001b[0m \u001b[38;5;28;01mif\u001b[39;00m \u001b[38;5;28mlen\u001b[39m(lengths) \u001b[38;5;241m>\u001b[39m \u001b[38;5;241m1\u001b[39m:\n\u001b[1;32m--> 655\u001b[0m     \u001b[38;5;28;01mraise\u001b[39;00m \u001b[38;5;167;01mValueError\u001b[39;00m(\u001b[38;5;124m\"\u001b[39m\u001b[38;5;124mAll arrays must be of the same length\u001b[39m\u001b[38;5;124m\"\u001b[39m)\n\u001b[0;32m    657\u001b[0m \u001b[38;5;28;01mif\u001b[39;00m have_dicts:\n\u001b[0;32m    658\u001b[0m     \u001b[38;5;28;01mraise\u001b[39;00m \u001b[38;5;167;01mValueError\u001b[39;00m(\n\u001b[0;32m    659\u001b[0m         \u001b[38;5;124m\"\u001b[39m\u001b[38;5;124mMixing dicts with non-Series may lead to ambiguous ordering.\u001b[39m\u001b[38;5;124m\"\u001b[39m\n\u001b[0;32m    660\u001b[0m     )\n",
      "\u001b[1;31mValueError\u001b[0m: All arrays must be of the same length"
     ]
    }
   ],
   "source": [
    "for cancion in canciones:\n",
    "    results = sp.search(q=cancion, type='track')\n",
    "    if len(results['tracks']['items']) > 0:\n",
    "        id_cancion = results['tracks']['items'][0]['id']\n",
    "        track_info = sp.track(id_cancion)\n",
    "        artist_id = track_info['artists'][0]['id']\n",
    "        artist_info = sp.artist(artist_id)\n",
    "        genero = artist_info['genres']\n",
    "        generos.append((cancion, genero))\n",
    "    else:\n",
    "        generos.append((cancion, \"No encontrado\"))"
   ]
  },
  {
   "cell_type": "code",
   "execution_count": 140,
   "id": "672c689f-c54f-4803-bd0d-5debdc6af5ec",
   "metadata": {
    "tags": []
   },
   "outputs": [],
   "source": [
    " track_durations={}"
   ]
  },
  {
   "cell_type": "code",
   "execution_count": 142,
   "id": "90d0de9d-195b-478c-9d8c-28169a45388a",
   "metadata": {
    "tags": []
   },
   "outputs": [],
   "source": [
    "results = sp.playlist_tracks(playlist_URI)\n",
    "\n",
    "for item in results['items']:\n",
    "    track = item['track']\n",
    "    track_name = track['name']\n",
    "    duration_ms = track['duration_ms']\n",
    "    duration_sec = duration_ms / 1000\n",
    "    track_durations[track_name] = duration_sec\n",
    "   "
   ]
  },
  {
   "cell_type": "code",
   "execution_count": 154,
   "id": "66bcbf53-aa35-46a5-8d5f-1884081356cf",
   "metadata": {
    "tags": []
   },
   "outputs": [],
   "source": [
    "df = pd.DataFrame.from_dict(track_durations, orient='index', columns=['duration_sec'])"
   ]
  },
  {
   "cell_type": "code",
   "execution_count": 156,
   "id": "a5790183-8792-4825-9ac9-a11b98ca8eee",
   "metadata": {
    "tags": []
   },
   "outputs": [
    {
     "data": {
      "text/html": [
       "<div>\n",
       "<style scoped>\n",
       "    .dataframe tbody tr th:only-of-type {\n",
       "        vertical-align: middle;\n",
       "    }\n",
       "\n",
       "    .dataframe tbody tr th {\n",
       "        vertical-align: top;\n",
       "    }\n",
       "\n",
       "    .dataframe thead th {\n",
       "        text-align: right;\n",
       "    }\n",
       "</style>\n",
       "<table border=\"1\" class=\"dataframe\">\n",
       "  <thead>\n",
       "    <tr style=\"text-align: right;\">\n",
       "      <th></th>\n",
       "      <th>duration_sec</th>\n",
       "    </tr>\n",
       "  </thead>\n",
       "  <tbody>\n",
       "    <tr>\n",
       "      <th>I'll Never Smile Again</th>\n",
       "      <td>189.466</td>\n",
       "    </tr>\n",
       "    <tr>\n",
       "      <th>Only Forever - Single Version</th>\n",
       "      <td>192.040</td>\n",
       "    </tr>\n",
       "    <tr>\n",
       "      <th>Frenesi</th>\n",
       "      <td>182.413</td>\n",
       "    </tr>\n",
       "    <tr>\n",
       "      <th>Song of the Volga Boatmen - Remastered 2002</th>\n",
       "      <td>206.773</td>\n",
       "    </tr>\n",
       "    <tr>\n",
       "      <th>Amapola</th>\n",
       "      <td>206.512</td>\n",
       "    </tr>\n",
       "    <tr>\n",
       "      <th>...</th>\n",
       "      <td>...</td>\n",
       "    </tr>\n",
       "    <tr>\n",
       "      <th>Riders In the Sky</th>\n",
       "      <td>176.706</td>\n",
       "    </tr>\n",
       "    <tr>\n",
       "      <th>Some Enchanted Evening</th>\n",
       "      <td>208.466</td>\n",
       "    </tr>\n",
       "    <tr>\n",
       "      <th>You're Breaking My Heart</th>\n",
       "      <td>192.000</td>\n",
       "    </tr>\n",
       "    <tr>\n",
       "      <th>That Lucky Old Sun</th>\n",
       "      <td>211.106</td>\n",
       "    </tr>\n",
       "    <tr>\n",
       "      <th>Mule Train</th>\n",
       "      <td>155.813</td>\n",
       "    </tr>\n",
       "  </tbody>\n",
       "</table>\n",
       "<p>84 rows × 1 columns</p>\n",
       "</div>"
      ],
      "text/plain": [
       "                                             duration_sec\n",
       "I'll Never Smile Again                            189.466\n",
       "Only Forever - Single Version                     192.040\n",
       "Frenesi                                           182.413\n",
       "Song of the Volga Boatmen - Remastered 2002       206.773\n",
       "Amapola                                           206.512\n",
       "...                                                   ...\n",
       "Riders In the Sky                                 176.706\n",
       "Some Enchanted Evening                            208.466\n",
       "You're Breaking My Heart                          192.000\n",
       "That Lucky Old Sun                                211.106\n",
       "Mule Train                                        155.813\n",
       "\n",
       "[84 rows x 1 columns]"
      ]
     },
     "execution_count": 156,
     "metadata": {},
     "output_type": "execute_result"
    }
   ],
   "source": []
  },
  {
   "cell_type": "code",
   "execution_count": null,
   "id": "b99be18c-2170-40e1-b273-760fe20f186b",
   "metadata": {},
   "outputs": [],
   "source": [
    "\n",
    "track_results = sp.search(q=Artistas, type='track')\n",
    "\n",
    "# Extract the duration of the first track in milliseconds\n",
    "if track_results['tracks']['items']:\n",
    "    length_ms = track_results['tracks']['items'][0]['duration_ms']\n",
    "    # Convert milliseconds to a more readable format\n",
    "    length_sec = length_ms / 1000\n",
    "    print(f\"The length of the track is {length_sec} seconds.\")\n",
    "else:\n",
    "    print(\"No track found.\")"
   ]
  },
  {
   "cell_type": "code",
   "execution_count": 95,
   "id": "a48ec3fa-d8e8-4f6c-9c65-e167da786ccf",
   "metadata": {
    "tags": []
   },
   "outputs": [],
   "source": [
    "resultados=[]\n",
    "for r in results:\n",
    "    \n",
    "    r=sp.search(q=Artistas,type='artist')['artists']['items'][0]['genres']\n",
    "    resultados.append(r)"
   ]
  },
  {
   "cell_type": "code",
   "execution_count": 103,
   "id": "7e9bb598-6d83-439d-8d38-36a444a07ab0",
   "metadata": {
    "tags": []
   },
   "outputs": [],
   "source": [
    "resultados = [sp.search(q=Artistas, type='artist')['artists']['items'][0]['genres'] for artista in results]"
   ]
  },
  {
   "cell_type": "code",
   "execution_count": 148,
   "id": "1875968d-4ca4-4e06-b0a2-af41e2c2c101",
   "metadata": {
    "tags": []
   },
   "outputs": [
    {
     "data": {
      "text/plain": [
       "[['adult standards',\n",
       "  'big band',\n",
       "  'dixieland',\n",
       "  'jazz trombone',\n",
       "  'swing',\n",
       "  'tin pan alley',\n",
       "  'vintage jazz']]"
      ]
     },
     "execution_count": 148,
     "metadata": {},
     "output_type": "execute_result"
    }
   ],
   "source": [
    "resultados"
   ]
  }
 ],
 "metadata": {
  "kernelspec": {
   "display_name": "Python 3 (ipykernel)",
   "language": "python",
   "name": "python3"
  },
  "language_info": {
   "codemirror_mode": {
    "name": "ipython",
    "version": 3
   },
   "file_extension": ".py",
   "mimetype": "text/x-python",
   "name": "python",
   "nbconvert_exporter": "python",
   "pygments_lexer": "ipython3",
   "version": "3.11.5"
  }
 },
 "nbformat": 4,
 "nbformat_minor": 5
}
