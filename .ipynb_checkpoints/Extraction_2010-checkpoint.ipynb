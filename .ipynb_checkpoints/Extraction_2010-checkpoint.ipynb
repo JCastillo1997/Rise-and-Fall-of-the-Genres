{
 "cells": [
  {
   "cell_type": "code",
   "execution_count": 1,
   "id": "3942717f-d09e-4a36-a392-b75aaabfb5a8",
   "metadata": {
    "tags": []
   },
   "outputs": [],
   "source": [
    "import pandas as pd\n",
    "import matplotlib.pyplot as plt\n",
    "import numpy as np"
   ]
  },
  {
   "cell_type": "code",
   "execution_count": 2,
   "id": "513c455d-060f-469c-9bff-fa4a5c4ace92",
   "metadata": {
    "tags": []
   },
   "outputs": [],
   "source": [
    "import Master"
   ]
  },
  {
   "cell_type": "code",
   "execution_count": 3,
   "id": "58ffd27c-885d-4747-8484-01a9cadfe118",
   "metadata": {
    "tags": []
   },
   "outputs": [
    {
     "data": {
      "text/plain": [
       "<function Master.create_playlist_dataframe(playlist_id)>"
      ]
     },
     "execution_count": 3,
     "metadata": {},
     "output_type": "execute_result"
    }
   ],
   "source": [
    "Master.create_playlist_dataframe"
   ]
  },
  {
   "cell_type": "code",
   "execution_count": 4,
   "id": "aef6bc6f-a778-42ba-8cbb-3bd58e783a6a",
   "metadata": {
    "tags": []
   },
   "outputs": [
    {
     "name": "stdout",
     "output_type": "stream",
     "text": [
      "Requirement already satisfied: spotipy in c:\\users\\casti\\anaconda3\\lib\\site-packages (2.23.0)\n",
      "Requirement already satisfied: redis>=3.5.3 in c:\\users\\casti\\anaconda3\\lib\\site-packages (from spotipy) (5.0.1)\n",
      "Requirement already satisfied: requests>=2.25.0 in c:\\users\\casti\\anaconda3\\lib\\site-packages (from spotipy) (2.31.0)\n",
      "Requirement already satisfied: six>=1.15.0 in c:\\users\\casti\\anaconda3\\lib\\site-packages (from spotipy) (1.16.0)\n",
      "Requirement already satisfied: urllib3>=1.26.0 in c:\\users\\casti\\anaconda3\\lib\\site-packages (from spotipy) (1.26.18)\n",
      "Requirement already satisfied: charset-normalizer<4,>=2 in c:\\users\\casti\\anaconda3\\lib\\site-packages (from requests>=2.25.0->spotipy) (3.1.0)\n",
      "Requirement already satisfied: idna<4,>=2.5 in c:\\users\\casti\\anaconda3\\lib\\site-packages (from requests>=2.25.0->spotipy) (3.4)\n",
      "Requirement already satisfied: certifi>=2017.4.17 in c:\\users\\casti\\anaconda3\\lib\\site-packages (from requests>=2.25.0->spotipy) (2023.5.7)\n"
     ]
    }
   ],
   "source": [
    "!pip install spotipy"
   ]
  },
  {
   "cell_type": "code",
   "execution_count": 5,
   "id": "50df79d6-6e0f-4676-91e2-c2274f1e3b5d",
   "metadata": {},
   "outputs": [],
   "source": [
    "import spotipy\n",
    "from spotipy.oauth2 import SpotifyClientCredentials\n",
    "\n",
    "\n",
    "sp = spotipy.Spotify(auth_manager=SpotifyClientCredentials(client_id=\"8aaea3fe61404b23aa07c9f760df3985\",\n",
    "                                                           client_secret=\"e6670aad9bc94f1ba66f382abe39394c\"))"
   ]
  },
  {
   "cell_type": "code",
   "execution_count": 6,
   "id": "284c0a13-b5d9-46f2-b2f6-6ec73a404e92",
   "metadata": {},
   "outputs": [],
   "source": [
    "df_2000=Master.create_playlist_dataframe('37i9dQZF1DWUZv12GM5cFk')"
   ]
  },
  {
   "cell_type": "code",
   "execution_count": 7,
   "id": "50f11bf3-75f9-4a33-bf6f-5ea9b4d7c5f5",
   "metadata": {},
   "outputs": [],
   "source": [
    "pd.set_option('display.max_rows', None)"
   ]
  },
  {
   "cell_type": "code",
   "execution_count": 8,
   "id": "04d963ea-0e1e-4e5d-bbbf-3092e217530f",
   "metadata": {},
   "outputs": [
    {
     "data": {
      "text/html": [
       "<div>\n",
       "<style scoped>\n",
       "    .dataframe tbody tr th:only-of-type {\n",
       "        vertical-align: middle;\n",
       "    }\n",
       "\n",
       "    .dataframe tbody tr th {\n",
       "        vertical-align: top;\n",
       "    }\n",
       "\n",
       "    .dataframe thead th {\n",
       "        text-align: right;\n",
       "    }\n",
       "</style>\n",
       "<table border=\"1\" class=\"dataframe\">\n",
       "  <thead>\n",
       "    <tr style=\"text-align: right;\">\n",
       "      <th></th>\n",
       "      <th>cancion</th>\n",
       "      <th>cantante</th>\n",
       "      <th>año</th>\n",
       "      <th>duracion_minutos</th>\n",
       "      <th>album</th>\n",
       "      <th>explicito</th>\n",
       "    </tr>\n",
       "  </thead>\n",
       "  <tbody>\n",
       "    <tr>\n",
       "      <th>0</th>\n",
       "      <td>Oops!...I Did It Again</td>\n",
       "      <td>Britney Spears</td>\n",
       "      <td>2000</td>\n",
       "      <td>3.519333</td>\n",
       "      <td>Oops!... I Did It Again</td>\n",
       "      <td>False</td>\n",
       "    </tr>\n",
       "    <tr>\n",
       "      <th>1</th>\n",
       "      <td>All The Small Things</td>\n",
       "      <td>blink-182</td>\n",
       "      <td>1999</td>\n",
       "      <td>2.784433</td>\n",
       "      <td>Enema Of The State</td>\n",
       "      <td>False</td>\n",
       "    </tr>\n",
       "    <tr>\n",
       "      <th>2</th>\n",
       "      <td>Breathe</td>\n",
       "      <td>Faith Hill</td>\n",
       "      <td>1999</td>\n",
       "      <td>4.175767</td>\n",
       "      <td>Breathe</td>\n",
       "      <td>False</td>\n",
       "    </tr>\n",
       "    <tr>\n",
       "      <th>3</th>\n",
       "      <td>It's My Life</td>\n",
       "      <td>Bon Jovi</td>\n",
       "      <td>2000</td>\n",
       "      <td>3.741550</td>\n",
       "      <td>Crush</td>\n",
       "      <td>False</td>\n",
       "    </tr>\n",
       "    <tr>\n",
       "      <th>4</th>\n",
       "      <td>Bye Bye Bye</td>\n",
       "      <td>*NSYNC</td>\n",
       "      <td>2000</td>\n",
       "      <td>3.340000</td>\n",
       "      <td>No Strings Attached</td>\n",
       "      <td>False</td>\n",
       "    </tr>\n",
       "  </tbody>\n",
       "</table>\n",
       "</div>"
      ],
      "text/plain": [
       "                  cancion        cantante   año  duracion_minutos  \\\n",
       "0  Oops!...I Did It Again  Britney Spears  2000          3.519333   \n",
       "1    All The Small Things       blink-182  1999          2.784433   \n",
       "2                 Breathe      Faith Hill  1999          4.175767   \n",
       "3            It's My Life        Bon Jovi  2000          3.741550   \n",
       "4             Bye Bye Bye          *NSYNC  2000          3.340000   \n",
       "\n",
       "                     album  explicito  \n",
       "0  Oops!... I Did It Again      False  \n",
       "1       Enema Of The State      False  \n",
       "2                  Breathe      False  \n",
       "3                    Crush      False  \n",
       "4      No Strings Attached      False  "
      ]
     },
     "execution_count": 8,
     "metadata": {},
     "output_type": "execute_result"
    }
   ],
   "source": [
    "df_2000.head()"
   ]
  },
  {
   "cell_type": "code",
   "execution_count": 9,
   "id": "a4c3f565-e47b-4974-9007-6989797deee8",
   "metadata": {
    "tags": []
   },
   "outputs": [
    {
     "data": {
      "text/plain": [
       "explicito\n",
       "False    87\n",
       "True     13\n",
       "Name: count, dtype: int64"
      ]
     },
     "execution_count": 9,
     "metadata": {},
     "output_type": "execute_result"
    }
   ],
   "source": [
    "df_2000.explicito.value_counts() # encontramos los explicitos"
   ]
  },
  {
   "cell_type": "code",
   "execution_count": 10,
   "id": "79a7d633-0571-4a60-88d7-0676630d0540",
   "metadata": {
    "tags": []
   },
   "outputs": [
    {
     "data": {
      "text/html": [
       "<div>\n",
       "<style scoped>\n",
       "    .dataframe tbody tr th:only-of-type {\n",
       "        vertical-align: middle;\n",
       "    }\n",
       "\n",
       "    .dataframe tbody tr th {\n",
       "        vertical-align: top;\n",
       "    }\n",
       "\n",
       "    .dataframe thead th {\n",
       "        text-align: right;\n",
       "    }\n",
       "</style>\n",
       "<table border=\"1\" class=\"dataframe\">\n",
       "  <thead>\n",
       "    <tr style=\"text-align: right;\">\n",
       "      <th></th>\n",
       "      <th>cancion</th>\n",
       "      <th>cantante</th>\n",
       "      <th>año</th>\n",
       "      <th>duracion_minutos</th>\n",
       "      <th>album</th>\n",
       "      <th>explicito</th>\n",
       "    </tr>\n",
       "  </thead>\n",
       "  <tbody>\n",
       "    <tr>\n",
       "      <th>5</th>\n",
       "      <td>Thong Song</td>\n",
       "      <td>Sisqo</td>\n",
       "      <td>1999</td>\n",
       "      <td>4.228883</td>\n",
       "      <td>Unleash The Dragon</td>\n",
       "      <td>True</td>\n",
       "    </tr>\n",
       "    <tr>\n",
       "      <th>6</th>\n",
       "      <td>The Real Slim Shady</td>\n",
       "      <td>Eminem</td>\n",
       "      <td>2000</td>\n",
       "      <td>4.736667</td>\n",
       "      <td>The Marshall Mathers LP</td>\n",
       "      <td>True</td>\n",
       "    </tr>\n",
       "    <tr>\n",
       "      <th>13</th>\n",
       "      <td>The Next Episode</td>\n",
       "      <td>Dr. Dre</td>\n",
       "      <td>1999</td>\n",
       "      <td>2.691767</td>\n",
       "      <td>2001</td>\n",
       "      <td>True</td>\n",
       "    </tr>\n",
       "    <tr>\n",
       "      <th>15</th>\n",
       "      <td>Teenage Dirtbag</td>\n",
       "      <td>Wheatus</td>\n",
       "      <td>1999</td>\n",
       "      <td>4.027767</td>\n",
       "      <td>Wheatus</td>\n",
       "      <td>True</td>\n",
       "    </tr>\n",
       "    <tr>\n",
       "      <th>18</th>\n",
       "      <td>Forgot About Dre</td>\n",
       "      <td>Dr. Dre</td>\n",
       "      <td>1999</td>\n",
       "      <td>3.704883</td>\n",
       "      <td>2001</td>\n",
       "      <td>True</td>\n",
       "    </tr>\n",
       "    <tr>\n",
       "      <th>23</th>\n",
       "      <td>Party Up</td>\n",
       "      <td>DMX</td>\n",
       "      <td>1999</td>\n",
       "      <td>4.481100</td>\n",
       "      <td>...And Then There Was X</td>\n",
       "      <td>True</td>\n",
       "    </tr>\n",
       "    <tr>\n",
       "      <th>28</th>\n",
       "      <td>Big Pimpin'</td>\n",
       "      <td>JAY-Z</td>\n",
       "      <td>1999</td>\n",
       "      <td>4.717767</td>\n",
       "      <td>Vol. 3... Life And Times Of S. Carter</td>\n",
       "      <td>True</td>\n",
       "    </tr>\n",
       "    <tr>\n",
       "      <th>33</th>\n",
       "      <td>Country Grammar (Hot Shit)</td>\n",
       "      <td>Nelly</td>\n",
       "      <td>2000</td>\n",
       "      <td>4.783333</td>\n",
       "      <td>Country Grammar</td>\n",
       "      <td>True</td>\n",
       "    </tr>\n",
       "    <tr>\n",
       "      <th>48</th>\n",
       "      <td>U Know What's Up (feat. Lisa \"Left Eye\" Lopes)</td>\n",
       "      <td>Donell Jones</td>\n",
       "      <td>1999</td>\n",
       "      <td>4.062217</td>\n",
       "      <td>Where I Wanna Be</td>\n",
       "      <td>True</td>\n",
       "    </tr>\n",
       "    <tr>\n",
       "      <th>52</th>\n",
       "      <td>Incomplete</td>\n",
       "      <td>Sisqo</td>\n",
       "      <td>1999</td>\n",
       "      <td>4.570433</td>\n",
       "      <td>Unleash The Dragon</td>\n",
       "      <td>True</td>\n",
       "    </tr>\n",
       "    <tr>\n",
       "      <th>64</th>\n",
       "      <td>I Just Wanna Love U (Give It 2 Me)</td>\n",
       "      <td>JAY-Z</td>\n",
       "      <td>2000</td>\n",
       "      <td>3.797767</td>\n",
       "      <td>The Dynasty: Roc La Familia</td>\n",
       "      <td>True</td>\n",
       "    </tr>\n",
       "    <tr>\n",
       "      <th>73</th>\n",
       "      <td>Bag Lady</td>\n",
       "      <td>Erykah Badu</td>\n",
       "      <td>2000</td>\n",
       "      <td>5.814883</td>\n",
       "      <td>Mama's Gun</td>\n",
       "      <td>True</td>\n",
       "    </tr>\n",
       "    <tr>\n",
       "      <th>80</th>\n",
       "      <td>Shake Ya Ass (feat. Pharrell Williams)</td>\n",
       "      <td>Mystikal</td>\n",
       "      <td>2000</td>\n",
       "      <td>4.282867</td>\n",
       "      <td>Let's Get Ready</td>\n",
       "      <td>True</td>\n",
       "    </tr>\n",
       "  </tbody>\n",
       "</table>\n",
       "</div>"
      ],
      "text/plain": [
       "                                           cancion      cantante   año  \\\n",
       "5                                       Thong Song         Sisqo  1999   \n",
       "6                              The Real Slim Shady        Eminem  2000   \n",
       "13                                The Next Episode       Dr. Dre  1999   \n",
       "15                                 Teenage Dirtbag       Wheatus  1999   \n",
       "18                                Forgot About Dre       Dr. Dre  1999   \n",
       "23                                        Party Up           DMX  1999   \n",
       "28                                     Big Pimpin'         JAY-Z  1999   \n",
       "33                      Country Grammar (Hot Shit)         Nelly  2000   \n",
       "48  U Know What's Up (feat. Lisa \"Left Eye\" Lopes)  Donell Jones  1999   \n",
       "52                                      Incomplete         Sisqo  1999   \n",
       "64              I Just Wanna Love U (Give It 2 Me)         JAY-Z  2000   \n",
       "73                                        Bag Lady   Erykah Badu  2000   \n",
       "80          Shake Ya Ass (feat. Pharrell Williams)      Mystikal  2000   \n",
       "\n",
       "    duracion_minutos                                  album  explicito  \n",
       "5           4.228883                     Unleash The Dragon       True  \n",
       "6           4.736667                The Marshall Mathers LP       True  \n",
       "13          2.691767                                   2001       True  \n",
       "15          4.027767                                Wheatus       True  \n",
       "18          3.704883                                   2001       True  \n",
       "23          4.481100                ...And Then There Was X       True  \n",
       "28          4.717767  Vol. 3... Life And Times Of S. Carter       True  \n",
       "33          4.783333                        Country Grammar       True  \n",
       "48          4.062217                       Where I Wanna Be       True  \n",
       "52          4.570433                     Unleash The Dragon       True  \n",
       "64          3.797767            The Dynasty: Roc La Familia       True  \n",
       "73          5.814883                             Mama's Gun       True  \n",
       "80          4.282867                        Let's Get Ready       True  "
      ]
     },
     "execution_count": 10,
     "metadata": {},
     "output_type": "execute_result"
    }
   ],
   "source": [
    "df_2000_explicito=df_2000[df_2000['explicito']==True]\n",
    "df_2000_explicito"
   ]
  },
  {
   "cell_type": "code",
   "execution_count": 11,
   "id": "d8122698-5df3-44f8-94a0-84e6a813870d",
   "metadata": {
    "tags": []
   },
   "outputs": [
    {
     "data": {
      "text/html": [
       "<div>\n",
       "<style scoped>\n",
       "    .dataframe tbody tr th:only-of-type {\n",
       "        vertical-align: middle;\n",
       "    }\n",
       "\n",
       "    .dataframe tbody tr th {\n",
       "        vertical-align: top;\n",
       "    }\n",
       "\n",
       "    .dataframe thead th {\n",
       "        text-align: right;\n",
       "    }\n",
       "</style>\n",
       "<table border=\"1\" class=\"dataframe\">\n",
       "  <thead>\n",
       "    <tr style=\"text-align: right;\">\n",
       "      <th></th>\n",
       "      <th>cancion</th>\n",
       "      <th>cantante</th>\n",
       "      <th>año</th>\n",
       "      <th>duracion_minutos</th>\n",
       "      <th>album</th>\n",
       "      <th>explicito</th>\n",
       "    </tr>\n",
       "  </thead>\n",
       "  <tbody>\n",
       "    <tr>\n",
       "      <th>0</th>\n",
       "      <td>Oops!...I Did It Again</td>\n",
       "      <td>Britney Spears</td>\n",
       "      <td>2000</td>\n",
       "      <td>3.519333</td>\n",
       "      <td>Oops!... I Did It Again</td>\n",
       "      <td>False</td>\n",
       "    </tr>\n",
       "    <tr>\n",
       "      <th>1</th>\n",
       "      <td>All The Small Things</td>\n",
       "      <td>blink-182</td>\n",
       "      <td>1999</td>\n",
       "      <td>2.784433</td>\n",
       "      <td>Enema Of The State</td>\n",
       "      <td>False</td>\n",
       "    </tr>\n",
       "    <tr>\n",
       "      <th>2</th>\n",
       "      <td>Breathe</td>\n",
       "      <td>Faith Hill</td>\n",
       "      <td>1999</td>\n",
       "      <td>4.175767</td>\n",
       "      <td>Breathe</td>\n",
       "      <td>False</td>\n",
       "    </tr>\n",
       "    <tr>\n",
       "      <th>3</th>\n",
       "      <td>It's My Life</td>\n",
       "      <td>Bon Jovi</td>\n",
       "      <td>2000</td>\n",
       "      <td>3.741550</td>\n",
       "      <td>Crush</td>\n",
       "      <td>False</td>\n",
       "    </tr>\n",
       "    <tr>\n",
       "      <th>4</th>\n",
       "      <td>Bye Bye Bye</td>\n",
       "      <td>*NSYNC</td>\n",
       "      <td>2000</td>\n",
       "      <td>3.340000</td>\n",
       "      <td>No Strings Attached</td>\n",
       "      <td>False</td>\n",
       "    </tr>\n",
       "  </tbody>\n",
       "</table>\n",
       "</div>"
      ],
      "text/plain": [
       "                  cancion        cantante   año  duracion_minutos  \\\n",
       "0  Oops!...I Did It Again  Britney Spears  2000          3.519333   \n",
       "1    All The Small Things       blink-182  1999          2.784433   \n",
       "2                 Breathe      Faith Hill  1999          4.175767   \n",
       "3            It's My Life        Bon Jovi  2000          3.741550   \n",
       "4             Bye Bye Bye          *NSYNC  2000          3.340000   \n",
       "\n",
       "                     album  explicito  \n",
       "0  Oops!... I Did It Again      False  \n",
       "1       Enema Of The State      False  \n",
       "2                  Breathe      False  \n",
       "3                    Crush      False  \n",
       "4      No Strings Attached      False  "
      ]
     },
     "execution_count": 11,
     "metadata": {},
     "output_type": "execute_result"
    }
   ],
   "source": [
    "df_2000.sort_values(by= 'duracion_minutos',ascending=False,inplace=False)\n",
    "df_2000.head()"
   ]
  },
  {
   "cell_type": "code",
   "execution_count": 12,
   "id": "519eb697-24b3-4842-b871-9d646af2663e",
   "metadata": {
    "tags": []
   },
   "outputs": [
    {
     "data": {
      "text/plain": [
       "100"
      ]
     },
     "execution_count": 12,
     "metadata": {},
     "output_type": "execute_result"
    }
   ],
   "source": [
    "df_2000.cantante.value_counts().sum() #Contamos las mujeres por los hombres"
   ]
  },
  {
   "cell_type": "code",
   "execution_count": 13,
   "id": "73c202da-7f8c-4933-a1c4-002b54f4a08c",
   "metadata": {},
   "outputs": [
    {
     "data": {
      "text/plain": [
       "cantante\n",
       "Britney Spears           3\n",
       "Christina Aguilera       3\n",
       "*NSYNC                   3\n",
       "Destiny's Child          3\n",
       "Dr. Dre                  2\n",
       "Mariah Carey             2\n",
       "LeAnn Rimes              2\n",
       "Westlife                 2\n",
       "JAY-Z                    2\n",
       "Craig David              2\n",
       "Backstreet Boys          2\n",
       "Creed                    2\n",
       "Gigi D'Agostino          2\n",
       "Donell Jones             2\n",
       "Faith Hill               2\n",
       "3 Doors Down             2\n",
       "Sisqo                    2\n",
       "Modjo                    1\n",
       "Samantha Mumba           1\n",
       "Avant                    1\n",
       "Mystikal                 1\n",
       "GABRIELLE                1\n",
       "Ruff Endz                1\n",
       "Eiffel 65                1\n",
       "Melanie C                1\n",
       "Jagged Edge              1\n",
       "Erykah Badu              1\n",
       "Moloko                   1\n",
       "Ricky Martin             1\n",
       "DJ Ötzi                  1\n",
       "Enrique Iglesias         1\n",
       "Marc Anthony             1\n",
       "P!nk                     1\n",
       "Céline Dion              1\n",
       "Everclear                1\n",
       "Madison Avenue           1\n",
       "Carl Thomas              1\n",
       "Matchbox Twenty          1\n",
       "Mýa                      1\n",
       "Bomfunk MC's             1\n",
       "Montell Jordan           1\n",
       "Next                     1\n",
       "S Club                   1\n",
       "Savage Garden            1\n",
       "Toploader                1\n",
       "Chicane                  1\n",
       "Ronan Keating            1\n",
       "Fuel                     1\n",
       "Vengaboys                1\n",
       "Aaliyah                  1\n",
       "Alice Deejay             1\n",
       "Red Hot Chili Peppers    1\n",
       "Santana                  1\n",
       "Limp Bizkit              1\n",
       "Linkin Park              1\n",
       "DMX                      1\n",
       "Darude                   1\n",
       "Coldplay                 1\n",
       "Robbie Williams          1\n",
       "Eminem                   1\n",
       "The Corrs                1\n",
       "Nelly                    1\n",
       "Lonestar                 1\n",
       "Joe                      1\n",
       "Wheatus                  1\n",
       "Toni Braxton             1\n",
       "Tom Jones                1\n",
       "Baha Men                 1\n",
       "U2                       1\n",
       "Nine Days                1\n",
       "Sonique                  1\n",
       "blink-182                1\n",
       "Bon Jovi                 1\n",
       "Third Eye Blind          1\n",
       "Lee Ann Womack           1\n",
       "Filter                   1\n",
       "Mary Mary                1\n",
       "Vertical Horizon         1\n",
       "Sting                    1\n",
       "Name: count, dtype: int64"
      ]
     },
     "execution_count": 13,
     "metadata": {},
     "output_type": "execute_result"
    }
   ],
   "source": [
    "df_2000.cantante.value_counts()"
   ]
  },
  {
   "cell_type": "code",
   "execution_count": 14,
   "id": "c5b9de52-37cd-4f38-a567-8e408b155cb3",
   "metadata": {
    "tags": []
   },
   "outputs": [
    {
     "data": {
      "text/plain": [
       "2910000"
      ]
     },
     "execution_count": 14,
     "metadata": {},
     "output_type": "execute_result"
    }
   ],
   "source": [
    "(29100)*100 #Calculamos el porcentaje de mujeres por el de los hombres e indagamos que de aqui el uno por ciento son mujeres"
   ]
  },
  {
   "cell_type": "code",
   "execution_count": 15,
   "id": "f82b50ea-5bc8-47ba-96dd-a0384c249f3f",
   "metadata": {
    "tags": []
   },
   "outputs": [
    {
     "data": {
      "text/html": [
       "<div>\n",
       "<style scoped>\n",
       "    .dataframe tbody tr th:only-of-type {\n",
       "        vertical-align: middle;\n",
       "    }\n",
       "\n",
       "    .dataframe tbody tr th {\n",
       "        vertical-align: top;\n",
       "    }\n",
       "\n",
       "    .dataframe thead th {\n",
       "        text-align: right;\n",
       "    }\n",
       "</style>\n",
       "<table border=\"1\" class=\"dataframe\">\n",
       "  <thead>\n",
       "    <tr style=\"text-align: right;\">\n",
       "      <th></th>\n",
       "      <th>duracion_minutos</th>\n",
       "    </tr>\n",
       "    <tr>\n",
       "      <th>cancion</th>\n",
       "      <th></th>\n",
       "    </tr>\n",
       "  </thead>\n",
       "  <tbody>\n",
       "    <tr>\n",
       "      <th>7 Days</th>\n",
       "      <td>3.918883</td>\n",
       "    </tr>\n",
       "    <tr>\n",
       "      <th>Absolutely (Story of a Girl) - Radio Mix</th>\n",
       "      <td>3.155550</td>\n",
       "    </tr>\n",
       "    <tr>\n",
       "      <th>Against All Odds (Take A Look at Me Now) - Mariah Only</th>\n",
       "      <td>3.365550</td>\n",
       "    </tr>\n",
       "    <tr>\n",
       "      <th>All The Small Things</th>\n",
       "      <td>2.784433</td>\n",
       "    </tr>\n",
       "    <tr>\n",
       "      <th>Amazed</th>\n",
       "      <td>4.014433</td>\n",
       "    </tr>\n",
       "  </tbody>\n",
       "</table>\n",
       "</div>"
      ],
      "text/plain": [
       "                                                    duracion_minutos\n",
       "cancion                                                             \n",
       "7 Days                                                      3.918883\n",
       "Absolutely (Story of a Girl) - Radio Mix                    3.155550\n",
       "Against All Odds (Take A Look at Me Now) - Mari...          3.365550\n",
       "All The Small Things                                        2.784433\n",
       "Amazed                                                      4.014433"
      ]
     },
     "execution_count": 15,
     "metadata": {},
     "output_type": "execute_result"
    }
   ],
   "source": [
    "df_2000_Duration= df_2000.groupby([\"cancion\"]).agg({\"duracion_minutos\":'sum'})\n",
    "df_2000_Duration.head()"
   ]
  },
  {
   "cell_type": "code",
   "execution_count": 16,
   "id": "d6d731b7-eabf-4dc6-aaca-cf89190117f4",
   "metadata": {
    "tags": []
   },
   "outputs": [
    {
     "data": {
      "image/png": "[encoded data removed]",
      "text/plain": [
       "<Figure size 640x480 with 1 Axes>"
      ]
     },
     "metadata": {},
     "output_type": "display_data"
    }
   ],
   "source": [
    "plt.plot(df_2000[\"duracion_minutos\"]) \n",
    "plt.show()"
   ]
  },
  {
   "cell_type": "code",
   "execution_count": 17,
   "id": "a14000f3-3d14-4336-85d4-da0b53ed6a50",
   "metadata": {
    "tags": []
   },
   "outputs": [
    {
     "data": {
      "text/plain": [
       "count    100.000000\n",
       "mean       4.127691\n",
       "std        0.633768\n",
       "min        2.691767\n",
       "25%        3.678163\n",
       "50%        4.038442\n",
       "75%        4.532104\n",
       "max        6.063333\n",
       "Name: duracion_minutos, dtype: float64"
      ]
     },
     "execution_count": 17,
     "metadata": {},
     "output_type": "execute_result"
    }
   ],
   "source": [
    "df_2000.duracion_minutos.describe()"
   ]
  },
  {
   "cell_type": "code",
   "execution_count": null,
   "id": "ec8f4532-41e3-4114-bd0a-eb176cb6d1cf",
   "metadata": {
    "jupyter": {
     "source_hidden": true
    },
    "tags": []
   },
   "outputs": [],
   "source": []
  },
  {
   "cell_type": "code",
   "execution_count": 18,
   "id": "37f05124-536c-4a29-866a-0acbd14c0d95",
   "metadata": {
    "tags": []
   },
   "outputs": [
    {
     "data": {
      "image/png": "[encoded data removed]",
      "text/plain": [
       "<Figure size 640x480 with 1 Axes>"
      ]
     },
     "metadata": {},
     "output_type": "display_data"
    }
   ],
   "source": [
    "plt.title('Woman to men in 2000 top charts')\n",
    "sizes = [49, 100]  # Porcentajes de cada categoría\n",
    "labels = ['Woman', 'Men']\n",
    "colors=['lightcoral','lightskyblue']\n",
    "\n",
    "plt.pie(sizes,colors=colors, labels=labels, autopct='%1.1f%%')  # Crear el gráfico circular\n",
    "plt.show()"
   ]
  },
  {
   "cell_type": "code",
   "execution_count": 19,
   "id": "ee08a724-edfa-43b6-b6b1-147d00216e11",
   "metadata": {
    "tags": []
   },
   "outputs": [
    {
     "data": {
      "image/png": "[encoded data removed]",
      "text/plain": [
       "<Figure size 640x480 with 1 Axes>"
      ]
     },
     "metadata": {},
     "output_type": "display_data"
    }
   ],
   "source": [
    "plt.title('Black Woman to Woman in 1990 top charts')\n",
    "sizes = [4, 17]  # Porcentajes de cada categoría\n",
    "labels = ['Black Woman', 'Woman']  # Etiquetas de las categorías\n",
    "colors=['peru','olive']\n",
    "plt.pie(sizes, colors=colors, labels=labels, autopct='%1.1f%%')  # Crear el gráfico circular\n",
    "plt.show()"
   ]
  }
 ],
 "metadata": {
  "kernelspec": {
   "display_name": "Python 3 (ipykernel)",
   "language": "python",
   "name": "python3"
  },
  "language_info": {
   "codemirror_mode": {
    "name": "ipython",
    "version": 3
   },
   "file_extension": ".py",
   "mimetype": "text/x-python",
   "name": "python",
   "nbconvert_exporter": "python",
   "pygments_lexer": "ipython3",
   "version": "3.11.5"
  }
 },
 "nbformat": 4,
 "nbformat_minor": 5
}
