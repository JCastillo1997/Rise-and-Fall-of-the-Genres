{
 "cells": [
  {
   "cell_type": "code",
   "execution_count": null,
   "id": "b664bb7b-19f2-41f5-8b45-d4bafdbd13f5",
   "metadata": {
    "tags": []
   },
   "outputs": [],
   "source": [
    "import pandas as pd"
   ]
  },
  {
   "cell_type": "code",
   "execution_count": null,
   "id": "18a22f97-0832-4ec7-8959-1461a5df66af",
   "metadata": {
    "tags": []
   },
   "outputs": [],
   "source": [
    "CLIENT_ID = \"8aaea3fe61404b23aa07c9f760df3985\"\n",
    "CLIENT_SECRET = \"e6670aad9bc94f1ba66f382abe39394c\""
   ]
  },
  {
   "cell_type": "code",
   "execution_count": null,
   "id": "62248993-c648-433a-a096-32dadb24b89d",
   "metadata": {
    "tags": []
   },
   "outputs": [],
   "source": [
    "!pip install spotipy"
   ]
  },
  {
   "cell_type": "code",
   "execution_count": null,
   "id": "ba3fc2cf-eb6d-4fbc-acd6-2d1a98a0ff73",
   "metadata": {
    "tags": []
   },
   "outputs": [],
   "source": [
    "import spotipy\n",
    "from spotipy.oauth2 import SpotifyClientCredentials\n",
    "\n",
    "\n",
    "sp = spotipy.Spotify(auth_manager=SpotifyClientCredentials(client_id=CLIENT_ID,\n",
    "                                                           client_secret=CLIENT_SECRET))"
   ]
  },
  {
   "cell_type": "code",
   "execution_count": null,
   "id": "b30aed1e-45ff-43b6-885d-2e7d070f8842",
   "metadata": {
    "tags": []
   },
   "outputs": [],
   "source": [
    "type(playlist_URI)\n",
    "\n",
    "\n",
    "\n"
   ]
  },
  {
   "cell_type": "code",
   "execution_count": null,
   "id": "47d0e7e0-9d45-41cf-8f7f-d30f57199139",
   "metadata": {
    "tags": []
   },
   "outputs": [],
   "source": [
    "Canciones=[e['track']['name'] for e in playlist_URI]\n",
    "Artistas = [e['track']['artists'][0]['name'] for e in lista_playlist]\n",
    "Genero = [sp.search(q=Artistas, type='artist')['artists']['items'][0]['genres'] for Artistas in Artistas]\n"
   ]
  },
  {
   "cell_type": "code",
   "execution_count": null,
   "id": "09a70720-5d2d-45d2-abb5-948c78105bf3",
   "metadata": {
    "tags": []
   },
   "outputs": [],
   "source": [
    "results"
   ]
  },
  {
   "cell_type": "code",
   "execution_count": null,
   "id": "ec632519-2bc6-404c-a4d1-de3e520f0ed6",
   "metadata": {
    "tags": []
   },
   "outputs": [],
   "source": [
    "Tabla=({'Canciones':Canciones,'Artistas':Artistas,'Generos':Generos})\n",
    "Tabla"
   ]
  },
  {
   "cell_type": "code",
   "execution_count": null,
   "id": "83ebe0da-9403-4181-9960-b6af04ac8d84",
   "metadata": {
    "tags": []
   },
   "outputs": [],
   "source": [
    "max_length = max(len(Canciones), len(Artistas), len(Generos))\n",
    "\n",
    "# Pad the lists with NaN to make them of the same length\n",
    "max_length = max(len(Canciones), len(Artistas), len(Generos))\n",
    "Canciones += [None] * (max_length - len(Canciones))\n",
    "Artistas += [None] * (max_length - len(Artistas))\n",
    "Generos += [None] * (max_length - len(Generos))\n",
    "\n",
    "# Create the DataFrame\n",
    "data = {\n",
    "    'Canciones': Canciones,\n",
    "    'Artistas': Artistas,\n",
    "    'Generos': Generos\n",
    "}\n",
    "\n",
    "Tabla = pd.DataFrame(data)\n",
    "Tabla.head(20)"
   ]
  },
  {
   "cell_type": "code",
   "execution_count": null,
   "id": "36b2a510-d70e-4101-8dc1-8c704c025ae7",
   "metadata": {
    "tags": []
   },
   "outputs": [],
   "source": [
    "generos = []"
   ]
  },
  {
   "cell_type": "code",
   "execution_count": null,
   "id": "b413eeb1-973b-4996-85ba-e9d464f609c7",
   "metadata": {
    "tags": []
   },
   "outputs": [],
   "source": []
  },
  {
   "cell_type": "code",
   "execution_count": null,
   "id": "672c689f-c54f-4803-bd0d-5debdc6af5ec",
   "metadata": {
    "tags": []
   },
   "outputs": [],
   "source": [
    " track_durations=[]"
   ]
  },
  {
   "cell_type": "code",
   "execution_count": null,
   "id": "a48ec3fa-d8e8-4f6c-9c65-e167da786ccf",
   "metadata": {
    "tags": []
   },
   "outputs": [],
   "source": [
    "resultados=[]\n",
    "for r in results:\n",
    "    \n",
    "    sp.search(q=Artistas,type='artist')['artists']['items'][0]['genres']\n",
    "    resultados.append(r)"
   ]
  },
  {
   "cell_type": "code",
   "execution_count": null,
   "id": "7e9bb598-6d83-439d-8d38-36a444a07ab0",
   "metadata": {
    "tags": []
   },
   "outputs": [],
   "source": [
    "resultados = [sp.search(q=Artistas, type='artist')['artists']['items'][0]['genres'] for artista in results]"
   ]
  }
 ],
 "metadata": {
  "kernelspec": {
   "display_name": "Python 3 (ipykernel)",
   "language": "python",
   "name": "python3"
  },
  "language_info": {
   "codemirror_mode": {
    "name": "ipython",
    "version": 3
   },
   "file_extension": ".py",
   "mimetype": "text/x-python",
   "name": "python",
   "nbconvert_exporter": "python",
   "pygments_lexer": "ipython3",
   "version": "3.11.5"
  }
 },
 "nbformat": 4,
 "nbformat_minor": 5
}
