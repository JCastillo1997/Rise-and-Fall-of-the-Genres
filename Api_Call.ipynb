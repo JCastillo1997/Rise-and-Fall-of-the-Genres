{
 "cells": [
  {
   "cell_type": "code",
   "execution_count": 1,
   "id": "b664bb7b-19f2-41f5-8b45-d4bafdbd13f5",
   "metadata": {
    "tags": []
   },
   "outputs": [],
   "source": [
    "import pandas as pd"
   ]
  },
  {
   "cell_type": "code",
   "execution_count": 2,
   "id": "18a22f97-0832-4ec7-8959-1461a5df66af",
   "metadata": {
    "tags": []
   },
   "outputs": [],
   "source": [
    "CLIENT_ID = \"8aaea3fe61404b23aa07c9f760df3985\"\n",
    "CLIENT_SECRET = \"e6670aad9bc94f1ba66f382abe39394c\""
   ]
  },
  {
   "cell_type": "code",
   "execution_count": 5,
   "id": "62248993-c648-433a-a096-32dadb24b89d",
   "metadata": {
    "tags": []
   },
   "outputs": [
    {
     "name": "stdout",
     "output_type": "stream",
     "text": [
      "Requirement already satisfied: spotipy in c:\\users\\casti\\anaconda3\\lib\\site-packages (2.23.0)\n",
      "Requirement already satisfied: redis>=3.5.3 in c:\\users\\casti\\anaconda3\\lib\\site-packages (from spotipy) (5.0.1)\n",
      "Requirement already satisfied: requests>=2.25.0 in c:\\users\\casti\\anaconda3\\lib\\site-packages (from spotipy) (2.31.0)\n",
      "Requirement already satisfied: six>=1.15.0 in c:\\users\\casti\\anaconda3\\lib\\site-packages (from spotipy) (1.16.0)\n",
      "Requirement already satisfied: urllib3>=1.26.0 in c:\\users\\casti\\anaconda3\\lib\\site-packages (from spotipy) (1.26.18)\n",
      "Requirement already satisfied: charset-normalizer<4,>=2 in c:\\users\\casti\\anaconda3\\lib\\site-packages (from requests>=2.25.0->spotipy) (3.1.0)\n",
      "Requirement already satisfied: idna<4,>=2.5 in c:\\users\\casti\\anaconda3\\lib\\site-packages (from requests>=2.25.0->spotipy) (3.4)\n",
      "Requirement already satisfied: certifi>=2017.4.17 in c:\\users\\casti\\anaconda3\\lib\\site-packages (from requests>=2.25.0->spotipy) (2023.5.7)\n"
     ]
    }
   ],
   "source": [
    "!pip install spotipy"
   ]
  },
  {
   "cell_type": "code",
   "execution_count": 6,
   "id": "ba3fc2cf-eb6d-4fbc-acd6-2d1a98a0ff73",
   "metadata": {
    "tags": []
   },
   "outputs": [],
   "source": [
    "import spotipy\n",
    "from spotipy.oauth2 import SpotifyClientCredentials\n",
    "\n",
    "\n",
    "sp = spotipy.Spotify(auth_manager=SpotifyClientCredentials(client_id=CLIENT_ID,\n",
    "                                                           client_secret=CLIENT_SECRET))"
   ]
  },
  {
   "cell_type": "code",
   "execution_count": 25,
   "id": "d5f129d3-1cd7-4a43-8b95-0779fffd2a9c",
   "metadata": {
    "tags": []
   },
   "outputs": [],
   "source": [
    "playlist_link = \"https://open.spotify.com/playlist/245g9upOJ2BLTCcKeFyRDf?si=eeeb8f93352a41fb\"\n",
    "playlist_URI = playlist_link.split(\"/\")[-1].split(\"?\")[0]\n",
    "track_uris = [x[\"track\"][\"uri\"] for x in sp.playlist_tracks(playlist_URI)[\"items\"]]"
   ]
  },
  {
   "cell_type": "code",
   "execution_count": 27,
   "id": "b30aed1e-45ff-43b6-885d-2e7d070f8842",
   "metadata": {
    "tags": []
   },
   "outputs": [
    {
     "data": {
      "text/plain": [
       "str"
      ]
     },
     "execution_count": 27,
     "metadata": {},
     "output_type": "execute_result"
    }
   ],
   "source": [
    "type(playlist_URI)\n",
    "\n",
    "\n",
    "\n"
   ]
  },
  {
   "cell_type": "code",
   "execution_count": 44,
   "id": "47d0e7e0-9d45-41cf-8f7f-d30f57199139",
   "metadata": {
    "tags": []
   },
   "outputs": [
    {
     "ename": "TypeError",
     "evalue": "string indices must be integers, not 'str'",
     "output_type": "error",
     "traceback": [
      "\u001b[1;31m---------------------------------------------------------------------------\u001b[0m",
      "\u001b[1;31mTypeError\u001b[0m                                 Traceback (most recent call last)",
      "Cell \u001b[1;32mIn[44], line 1\u001b[0m\n\u001b[1;32m----> 1\u001b[0m Canciones\u001b[38;5;241m=\u001b[39m[e[\u001b[38;5;124m'\u001b[39m\u001b[38;5;124mtrack\u001b[39m\u001b[38;5;124m'\u001b[39m][\u001b[38;5;124m'\u001b[39m\u001b[38;5;124mname\u001b[39m\u001b[38;5;124m'\u001b[39m] \u001b[38;5;28;01mfor\u001b[39;00m e \u001b[38;5;129;01min\u001b[39;00m playlist_URI]\n\u001b[0;32m      2\u001b[0m Artistas \u001b[38;5;241m=\u001b[39m [e[\u001b[38;5;124m'\u001b[39m\u001b[38;5;124mtrack\u001b[39m\u001b[38;5;124m'\u001b[39m][\u001b[38;5;124m'\u001b[39m\u001b[38;5;124martists\u001b[39m\u001b[38;5;124m'\u001b[39m][\u001b[38;5;241m0\u001b[39m][\u001b[38;5;124m'\u001b[39m\u001b[38;5;124mname\u001b[39m\u001b[38;5;124m'\u001b[39m] \u001b[38;5;28;01mfor\u001b[39;00m e \u001b[38;5;129;01min\u001b[39;00m lista_playlist]\n\u001b[0;32m      3\u001b[0m Genero \u001b[38;5;241m=\u001b[39m [sp\u001b[38;5;241m.\u001b[39msearch(q\u001b[38;5;241m=\u001b[39mArtistas, \u001b[38;5;28mtype\u001b[39m\u001b[38;5;241m=\u001b[39m\u001b[38;5;124m'\u001b[39m\u001b[38;5;124martist\u001b[39m\u001b[38;5;124m'\u001b[39m)[\u001b[38;5;124m'\u001b[39m\u001b[38;5;124martists\u001b[39m\u001b[38;5;124m'\u001b[39m][\u001b[38;5;124m'\u001b[39m\u001b[38;5;124mitems\u001b[39m\u001b[38;5;124m'\u001b[39m][\u001b[38;5;241m0\u001b[39m][\u001b[38;5;124m'\u001b[39m\u001b[38;5;124mgenres\u001b[39m\u001b[38;5;124m'\u001b[39m] \u001b[38;5;28;01mfor\u001b[39;00m Artistas \u001b[38;5;129;01min\u001b[39;00m Artistas]\n",
      "Cell \u001b[1;32mIn[44], line 1\u001b[0m, in \u001b[0;36m<listcomp>\u001b[1;34m(.0)\u001b[0m\n\u001b[1;32m----> 1\u001b[0m Canciones\u001b[38;5;241m=\u001b[39m[e[\u001b[38;5;124m'\u001b[39m\u001b[38;5;124mtrack\u001b[39m\u001b[38;5;124m'\u001b[39m][\u001b[38;5;124m'\u001b[39m\u001b[38;5;124mname\u001b[39m\u001b[38;5;124m'\u001b[39m] \u001b[38;5;28;01mfor\u001b[39;00m e \u001b[38;5;129;01min\u001b[39;00m playlist_URI]\n\u001b[0;32m      2\u001b[0m Artistas \u001b[38;5;241m=\u001b[39m [e[\u001b[38;5;124m'\u001b[39m\u001b[38;5;124mtrack\u001b[39m\u001b[38;5;124m'\u001b[39m][\u001b[38;5;124m'\u001b[39m\u001b[38;5;124martists\u001b[39m\u001b[38;5;124m'\u001b[39m][\u001b[38;5;241m0\u001b[39m][\u001b[38;5;124m'\u001b[39m\u001b[38;5;124mname\u001b[39m\u001b[38;5;124m'\u001b[39m] \u001b[38;5;28;01mfor\u001b[39;00m e \u001b[38;5;129;01min\u001b[39;00m lista_playlist]\n\u001b[0;32m      3\u001b[0m Genero \u001b[38;5;241m=\u001b[39m [sp\u001b[38;5;241m.\u001b[39msearch(q\u001b[38;5;241m=\u001b[39mArtistas, \u001b[38;5;28mtype\u001b[39m\u001b[38;5;241m=\u001b[39m\u001b[38;5;124m'\u001b[39m\u001b[38;5;124martist\u001b[39m\u001b[38;5;124m'\u001b[39m)[\u001b[38;5;124m'\u001b[39m\u001b[38;5;124martists\u001b[39m\u001b[38;5;124m'\u001b[39m][\u001b[38;5;124m'\u001b[39m\u001b[38;5;124mitems\u001b[39m\u001b[38;5;124m'\u001b[39m][\u001b[38;5;241m0\u001b[39m][\u001b[38;5;124m'\u001b[39m\u001b[38;5;124mgenres\u001b[39m\u001b[38;5;124m'\u001b[39m] \u001b[38;5;28;01mfor\u001b[39;00m Artistas \u001b[38;5;129;01min\u001b[39;00m Artistas]\n",
      "\u001b[1;31mTypeError\u001b[0m: string indices must be integers, not 'str'"
     ]
    }
   ],
   "source": [
    "Canciones=[e['track']['name'] for e in playlist_URI]\n",
    "Artistas = [e['track']['artists'][0]['name'] for e in lista_playlist]\n",
    "Genero = [sp.search(q=Artistas, type='artist')['artists']['items'][0]['genres'] for Artistas in Artistas]\n"
   ]
  },
  {
   "cell_type": "code",
   "execution_count": 46,
   "id": "09a70720-5d2d-45d2-abb5-948c78105bf3",
   "metadata": {
    "tags": []
   },
   "outputs": [
    {
     "ename": "NameError",
     "evalue": "name 'results' is not defined",
     "output_type": "error",
     "traceback": [
      "\u001b[1;31m---------------------------------------------------------------------------\u001b[0m",
      "\u001b[1;31mNameError\u001b[0m                                 Traceback (most recent call last)",
      "Cell \u001b[1;32mIn[46], line 1\u001b[0m\n\u001b[1;32m----> 1\u001b[0m results\n",
      "\u001b[1;31mNameError\u001b[0m: name 'results' is not defined"
     ]
    }
   ],
   "source": [
    "results"
   ]
  },
  {
   "cell_type": "code",
   "execution_count": 42,
   "id": "ec632519-2bc6-404c-a4d1-de3e520f0ed6",
   "metadata": {
    "tags": []
   },
   "outputs": [
    {
     "ename": "NameError",
     "evalue": "name 'Canciones' is not defined",
     "output_type": "error",
     "traceback": [
      "\u001b[1;31m---------------------------------------------------------------------------\u001b[0m",
      "\u001b[1;31mNameError\u001b[0m                                 Traceback (most recent call last)",
      "Cell \u001b[1;32mIn[42], line 1\u001b[0m\n\u001b[1;32m----> 1\u001b[0m Tabla\u001b[38;5;241m=\u001b[39m({\u001b[38;5;124m'\u001b[39m\u001b[38;5;124mCanciones\u001b[39m\u001b[38;5;124m'\u001b[39m:Canciones,\u001b[38;5;124m'\u001b[39m\u001b[38;5;124mArtistas\u001b[39m\u001b[38;5;124m'\u001b[39m:Artistas,\u001b[38;5;124m'\u001b[39m\u001b[38;5;124mGeneros\u001b[39m\u001b[38;5;124m'\u001b[39m:Generos})\n\u001b[0;32m      2\u001b[0m Tabla\n",
      "\u001b[1;31mNameError\u001b[0m: name 'Canciones' is not defined"
     ]
    }
   ],
   "source": [
    "Tabla=({'Canciones':Canciones,'Artistas':Artistas,'Generos':Generos})\n",
    "Tabla"
   ]
  },
  {
   "cell_type": "code",
   "execution_count": null,
   "id": "83ebe0da-9403-4181-9960-b6af04ac8d84",
   "metadata": {
    "tags": []
   },
   "outputs": [],
   "source": [
    "max_length = max(len(Canciones), len(Artistas), len(Generos))\n",
    "\n",
    "# Pad the lists with NaN to make them of the same length\n",
    "max_length = max(len(Canciones), len(Artistas), len(Generos))\n",
    "Canciones += [None] * (max_length - len(Canciones))\n",
    "Artistas += [None] * (max_length - len(Artistas))\n",
    "Generos += [None] * (max_length - len(Generos))\n",
    "\n",
    "# Create the DataFrame\n",
    "data = {\n",
    "    'Canciones': Canciones,\n",
    "    'Artistas': Artistas,\n",
    "    'Generos': Generos\n",
    "}\n",
    "\n",
    "Tabla = pd.DataFrame(data)\n",
    "Tabla.head(20)"
   ]
  },
  {
   "cell_type": "code",
   "execution_count": null,
   "id": "36b2a510-d70e-4101-8dc1-8c704c025ae7",
   "metadata": {
    "tags": []
   },
   "outputs": [],
   "source": [
    "generos = []"
   ]
  },
  {
   "cell_type": "code",
   "execution_count": null,
   "id": "b413eeb1-973b-4996-85ba-e9d464f609c7",
   "metadata": {
    "tags": []
   },
   "outputs": [],
   "source": []
  },
  {
   "cell_type": "code",
   "execution_count": null,
   "id": "672c689f-c54f-4803-bd0d-5debdc6af5ec",
   "metadata": {
    "tags": []
   },
   "outputs": [],
   "source": [
    " track_durations=[]"
   ]
  },
  {
   "cell_type": "code",
   "execution_count": null,
   "id": "a48ec3fa-d8e8-4f6c-9c65-e167da786ccf",
   "metadata": {
    "tags": []
   },
   "outputs": [],
   "source": [
    "resultados=[]\n",
    "for r in results:\n",
    "    \n",
    "    sp.search(q=Artistas,type='artist')['artists']['items'][0]['genres']\n",
    "    resultados.append(r)"
   ]
  },
  {
   "cell_type": "code",
   "execution_count": null,
   "id": "7e9bb598-6d83-439d-8d38-36a444a07ab0",
   "metadata": {
    "tags": []
   },
   "outputs": [],
   "source": [
    "resultados = [sp.search(q=Artistas, type='artist')['artists']['items'][0]['genres'] for artista in results]"
   ]
  }
 ],
 "metadata": {
  "kernelspec": {
   "display_name": "Python 3 (ipykernel)",
   "language": "python",
   "name": "python3"
  },
  "language_info": {
   "codemirror_mode": {
    "name": "ipython",
    "version": 3
   },
   "file_extension": ".py",
   "mimetype": "text/x-python",
   "name": "python",
   "nbconvert_exporter": "python",
   "pygments_lexer": "ipython3",
   "version": "3.11.5"
  }
 },
 "nbformat": 4,
 "nbformat_minor": 5
}
